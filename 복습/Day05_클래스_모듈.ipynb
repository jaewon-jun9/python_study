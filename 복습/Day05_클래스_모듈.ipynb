{
 "cells": [
  {
   "cell_type": "markdown",
   "metadata": {},
   "source": []
  },
  {
   "cell_type": "code",
   "execution_count": 16,
   "metadata": {},
   "outputs": [],
   "source": [
    "class Enemy:\n",
    "    def __init__(self):\n",
    "        self.x=10\n",
    "        self.y=20\n",
    "    def add(self):\n",
    "        a = self.x+self.y\n",
    "        return a\n",
    "    def display(self):\n",
    "        return self.x , self.y\n",
    "    pass\n"
   ]
  },
  {
   "cell_type": "code",
   "execution_count": 18,
   "metadata": {},
   "outputs": [],
   "source": [
    "e1=Enemy()\n",
    "e2=Enemy()"
   ]
  },
  {
   "cell_type": "code",
   "execution_count": 19,
   "metadata": {},
   "outputs": [
    {
     "name": "stdout",
     "output_type": "stream",
     "text": [
      "30\n",
      "30\n",
      "(10, 20)\n"
     ]
    }
   ],
   "source": [
    "print(e1.add())\n",
    "print(e2.add())\n",
    "print(e2.display())"
   ]
  },
  {
   "cell_type": "markdown",
   "metadata": {},
   "source": [
    "### 객체지향 프로그래밍\n",
    "    객체추출=역할정하기\n",
    "    \n",
    "    Class 표현 = 클래스 명, 속성명, 메소드 명\n",
    "    \n",
    "    \n",
    "    "
   ]
  },
  {
   "cell_type": "code",
   "execution_count": 168,
   "metadata": {},
   "outputs": [],
   "source": [
    "class Score:\n",
    "    def __init__(self):\n",
    "        self.stdid=[]\n",
    "        self.name=[]\n",
    "        self.kor=[]\n",
    "        self.eng=[]\n",
    "        self.math=[]\n",
    "        self.total=[]\n",
    "    def delscore(self):\n",
    "        self.stdid=[]\n",
    "        self.name=[]\n",
    "        self.kor=[]\n",
    "        self.eng=[]\n",
    "        self.math=[]\n",
    "        self.total=[]\n",
    "        print(\"성적을 초기화 합니다\")\n",
    "        return\n",
    "    def add(self,stdid,name,kor,eng,math):\n",
    "        self.stdid.append(stdid)\n",
    "        self.name.append(name)\n",
    "        self.kor.append(kor)\n",
    "        self.eng.append(eng)\n",
    "        self.math.append(math)\n",
    "        print(stdid,name,kor,eng,math,\"이 입력되었습니다.\")\n",
    "        return\n",
    "    def totals(self):\n",
    "        totals=[]\n",
    "        #a=len(self.stdid)\n",
    "        for i in range(0,len(self.stdid)):\n",
    "            total=self.kor[i]+self.eng[i]+self.math[i]\n",
    "            totals.append(total)\n",
    "        self.total=totals\n",
    "        #print(len(self.stdid),\"명의 총점을 계산하였습니다.\")\n",
    "        return\n",
    "    def display(self,i):\n",
    "        self.totals()\n",
    "        print(\"ID\\t이름\\t국어\\t영어\\t수학\\t총점\")\n",
    "        if i == \"all\":            \n",
    "            for i in range(0,len(self.stdid)):\n",
    "                print(self.stdid[i], self.name[i],self.kor[i],self.eng[i],self.math[i],self.total[i],sep=\"\\t\")\n",
    "        else:            \n",
    "            print(self.stdid[i], self.name[i],self.kor[i],self.eng[i],self.math[i],self.total[i],sep=\"\\t\")\n",
    "    pass\n"
   ]
  },
  {
   "cell_type": "code",
   "execution_count": 169,
   "metadata": {},
   "outputs": [
    {
     "name": "stdout",
     "output_type": "stream",
     "text": [
      "1 홍길동 25 34 56 이 입력되었습니다.\n",
      "2 김길동 35 32 52 이 입력되었습니다.\n",
      "3 고길동 31 31 19 이 입력되었습니다.\n",
      "4 최길동 55 30 59 이 입력되었습니다.\n",
      "5 문길동 31 36 39 이 입력되었습니다.\n",
      "6 박길동 25 33 59 이 입력되었습니다.\n",
      "7 이길동 63 86 51 이 입력되었습니다.\n",
      "ID\t이름\t국어\t영어\t수학\t총점\n",
      "1\t홍길동\t25\t34\t56\t115\n",
      "ID\t이름\t국어\t영어\t수학\t총점\n",
      "2\t김길동\t35\t32\t52\t119\n",
      "ID\t이름\t국어\t영어\t수학\t총점\n",
      "1\t홍길동\t25\t34\t56\t115\n",
      "2\t김길동\t35\t32\t52\t119\n",
      "3\t고길동\t31\t31\t19\t81\n",
      "4\t최길동\t55\t30\t59\t144\n",
      "5\t문길동\t31\t36\t39\t106\n",
      "6\t박길동\t25\t33\t59\t117\n",
      "7\t이길동\t63\t86\t51\t200\n"
     ]
    }
   ],
   "source": [
    "score1=Score()\n",
    "score1.add(1,\"홍길동\",25,34,56)\n",
    "score1.add(2,\"김길동\",35,32,52)\n",
    "score1.add(3,\"고길동\",31,31,19)\n",
    "score1.add(4,\"최길동\",55,30,59)\n",
    "score1.add(5,\"문길동\",31,36,39)\n",
    "score1.add(6,\"박길동\",25,33,59)\n",
    "score1.add(7,\"이길동\",63,86,51)\n",
    "score1.totals()\n",
    "score1.display(0)\n",
    "score1.display(1)\n",
    "score1.display(\"all\")"
   ]
  },
  {
   "cell_type": "code",
   "execution_count": 174,
   "metadata": {},
   "outputs": [
    {
     "name": "stdout",
     "output_type": "stream",
     "text": [
      "1 홍길동 25 34 56 이 입력되었습니다.\n",
      "2 김길동 35 32 52 이 입력되었습니다.\n",
      "총점 [115, 119]\n"
     ]
    }
   ],
   "source": [
    "class FStudent(Score):\n",
    "    def display(self):\n",
    "        self.totals()\n",
    "        print(\"총점\",self.total)\n",
    "fs = FStudent()\n",
    "fs.add(1,\"홍길동\",25,34,56)\n",
    "fs.add(2,\"김길동\",35,32,52)\n",
    "fs.display()"
   ]
  },
  {
   "cell_type": "code",
   "execution_count": null,
   "metadata": {},
   "outputs": [],
   "source": []
  },
  {
   "cell_type": "code",
   "execution_count": 153,
   "metadata": {},
   "outputs": [
    {
     "name": "stdout",
     "output_type": "stream",
     "text": [
      "성적을 초기화 합니다\n",
      "ID\t이름\t국어\t영어\t수학\t총점\n"
     ]
    }
   ],
   "source": [
    "score1.delscore()\n",
    "score1.display(\"all\")"
   ]
  },
  {
   "cell_type": "code",
   "execution_count": 147,
   "metadata": {},
   "outputs": [],
   "source": [
    "class Score:\n",
    "    def __init__(self,stdid,name,kor,eng,math):\n",
    "        self.stdid=stdid\n",
    "        self.name=name\n",
    "        self.kor=kor\n",
    "        self.eng=eng\n",
    "        self.math=math\n",
    "        self.total=0\n",
    "    def add(self,stdid,name,kor,eng,math):\n",
    "        self.stdid.append(stdid)\n",
    "        self.name.append(name)\n",
    "        self.kor.append(kor)\n",
    "        self.eng.append(eng)\n",
    "        self.math.append(math)\n",
    "        print(stdid,name,kor,eng,math,\"이 입력되었습니다.\")\n",
    "        return\n",
    "    def lenth(self):\n",
    "        a=len(self.stdid)\n",
    "        print(a)\n",
    "    def total(self):       \n",
    "        total=self.kor+self.eng+self.math\n",
    "        self.total=total\n",
    "        return self.total\n",
    "    def display(self):\n",
    "        print(self.stdid, self.name,self.kor,self.eng,self.math,self.total)\n",
    "        return\n",
    "    pass\n"
   ]
  },
  {
   "cell_type": "code",
   "execution_count": 150,
   "metadata": {},
   "outputs": [
    {
     "name": "stdout",
     "output_type": "stream",
     "text": [
      "1 홍길동 25 26 47 0\n"
     ]
    },
    {
     "ename": "TypeError",
     "evalue": "'int' object is not callable",
     "output_type": "error",
     "traceback": [
      "\u001b[1;31m---------------------------------------------------------------------------\u001b[0m",
      "\u001b[1;31mTypeError\u001b[0m                                 Traceback (most recent call last)",
      "\u001b[1;32m<ipython-input-150-8e2ad3db9c37>\u001b[0m in \u001b[0;36m<module>\u001b[1;34m\u001b[0m\n\u001b[0;32m      1\u001b[0m \u001b[0mscore2\u001b[0m\u001b[1;33m=\u001b[0m\u001b[0mScore\u001b[0m\u001b[1;33m(\u001b[0m\u001b[1;36m1\u001b[0m\u001b[1;33m,\u001b[0m\u001b[1;34m\"홍길동\"\u001b[0m\u001b[1;33m,\u001b[0m\u001b[1;36m25\u001b[0m\u001b[1;33m,\u001b[0m\u001b[1;36m26\u001b[0m\u001b[1;33m,\u001b[0m\u001b[1;36m47\u001b[0m\u001b[1;33m)\u001b[0m\u001b[1;33m\u001b[0m\u001b[1;33m\u001b[0m\u001b[0m\n\u001b[0;32m      2\u001b[0m \u001b[0mscore2\u001b[0m\u001b[1;33m.\u001b[0m\u001b[0mdisplay\u001b[0m\u001b[1;33m(\u001b[0m\u001b[1;33m)\u001b[0m\u001b[1;33m\u001b[0m\u001b[1;33m\u001b[0m\u001b[0m\n\u001b[1;32m----> 3\u001b[1;33m \u001b[0mscore2\u001b[0m\u001b[1;33m.\u001b[0m\u001b[0mtotal\u001b[0m\u001b[1;33m(\u001b[0m\u001b[1;33m)\u001b[0m\u001b[1;33m\u001b[0m\u001b[1;33m\u001b[0m\u001b[0m\n\u001b[0m\u001b[0;32m      4\u001b[0m \u001b[0mscore2\u001b[0m\u001b[1;33m.\u001b[0m\u001b[0mdisplay\u001b[0m\u001b[1;33m(\u001b[0m\u001b[1;33m)\u001b[0m\u001b[1;33m\u001b[0m\u001b[1;33m\u001b[0m\u001b[0m\n",
      "\u001b[1;31mTypeError\u001b[0m: 'int' object is not callable"
     ]
    }
   ],
   "source": [
    "score2=Score(1,\"홍길동\",25,26,47)\n",
    "score2.display()\n",
    "score2.total()\n",
    "score2.display()"
   ]
  },
  {
   "cell_type": "markdown",
   "metadata": {},
   "source": [
    "## 모듈"
   ]
  },
  {
   "cell_type": "code",
   "execution_count": 178,
   "metadata": {},
   "outputs": [
    {
     "name": "stdout",
     "output_type": "stream",
     "text": [
      "7\n"
     ]
    }
   ],
   "source": [
    "import mod1\n",
    "print(mod1.add(3,4))"
   ]
  },
  {
   "cell_type": "code",
   "execution_count": 179,
   "metadata": {},
   "outputs": [
    {
     "data": {
      "text/plain": [
       "7"
      ]
     },
     "execution_count": 179,
     "metadata": {},
     "output_type": "execute_result"
    }
   ],
   "source": [
    "from mod1 import add\n",
    "add(3,4)"
   ]
  },
  {
   "cell_type": "code",
   "execution_count": 216,
   "metadata": {},
   "outputs": [
    {
     "name": "stdout",
     "output_type": "stream",
     "text": [
      "\t\t 2026 년     1 월\n",
      "\n",
      "일\t월\t화\t수\t목\t금\t토\n",
      "\n",
      "\t\t\t\t 1\t 2\t 3\t\n",
      "\n",
      " 4\t 5\t 6\t 7\t 8\t 9\t10\t\n",
      "\n",
      "11\t12\t13\t14\t15\t16\t17\t\n",
      "\n",
      "18\t19\t20\t21\t22\t23\t24\t\n",
      "\n",
      "25\t26\t27\t28\t29\t30\t31\t\n",
      "\n",
      "\n",
      "\n",
      "\n",
      "\n",
      "\t\t 2026 년     2 월\n",
      "\n",
      "일\t월\t화\t수\t목\t금\t토\n",
      "\n",
      " 1\t 2\t 3\t 4\t 5\t 6\t 7\t\n",
      "\n",
      " 8\t 9\t10\t11\t12\t13\t14\t\n",
      "\n",
      "15\t16\t17\t18\t19\t20\t21\t\n",
      "\n",
      "22\t23\t24\t25\t26\t27\t28\t\n",
      "\n",
      "\n",
      "\n",
      "\n",
      "\n",
      "\t\t 2026 년     3 월\n",
      "\n",
      "일\t월\t화\t수\t목\t금\t토\n",
      "\n",
      " 1\t 2\t 3\t 4\t 5\t 6\t 7\t\n",
      "\n",
      " 8\t 9\t10\t11\t12\t13\t14\t\n",
      "\n",
      "15\t16\t17\t18\t19\t20\t21\t\n",
      "\n",
      "22\t23\t24\t25\t26\t27\t28\t\n",
      "\n",
      "29\t30\t31\t\n",
      "\n",
      "\n",
      "\n",
      "\t\t 2026 년     4 월\n",
      "\n",
      "일\t월\t화\t수\t목\t금\t토\n",
      "\n",
      "\t\t\t 1\t 2\t 3\t 4\t\n",
      "\n",
      " 5\t 6\t 7\t 8\t 9\t10\t11\t\n",
      "\n",
      "12\t13\t14\t15\t16\t17\t18\t\n",
      "\n",
      "19\t20\t21\t22\t23\t24\t25\t\n",
      "\n",
      "26\t27\t28\t29\t30\t\n",
      "\n",
      "\n",
      "\n"
     ]
    }
   ],
   "source": [
    "from cal import mycalendar\n",
    "mycalendar(2026,1)\n",
    "mycalendar(2026,2)\n",
    "mycalendar(2026,3)\n",
    "mycalendar(2026,4)"
   ]
  },
  {
   "cell_type": "code",
   "execution_count": 201,
   "metadata": {},
   "outputs": [
    {
     "name": "stdout",
     "output_type": "stream",
     "text": [
      "\t\t 2026 년     2 월\n",
      "\n",
      "일\t월\t화\t수\t목\t금\t토\n",
      "\n",
      " 1\t 2\t 3\t 4\t 5\t 6\t 7\t\n",
      "\n",
      " 8\t 9\t10\t11\t12\t13\t14\t\n",
      "\n",
      "15\t16\t17\t18\t19\t20\t21\t\n",
      "\n",
      "22\t23\t24\t25\t26\t27\t28\t\n",
      "\n",
      "\n",
      "\n",
      "\n",
      "\n"
     ]
    }
   ],
   "source": [
    "mycalendar(2026,2)"
   ]
  },
  {
   "cell_type": "code",
   "execution_count": 181,
   "metadata": {},
   "outputs": [
    {
     "name": "stdout",
     "output_type": "stream",
     "text": [
      "메인듯\n"
     ]
    }
   ],
   "source": [
    "if __name__ == \"__main__\":\n",
    "    print(\"메인듯\")"
   ]
  },
  {
   "cell_type": "code",
   "execution_count": 213,
   "metadata": {},
   "outputs": [
    {
     "name": "stdout",
     "output_type": "stream",
     "text": [
      "\t\t 2020 년 1 월 달력\n",
      "\n",
      "일\t월\t화\t수\t목\t금\t토\n",
      "\n",
      "\t\t\t 1\t 2\t 3\t 4\t\n",
      "\n",
      " 5\t 6\t 7\t 8\t 9\t10\t11\t\n",
      "\n",
      "12\t13\t14\t15\t16\t17\t18\t\n",
      "\n",
      "19\t20\t21\t22\t23\t24\t25\t\n",
      "\n",
      "26\t27\t28\t29\t30\t31\t\n",
      "\n",
      "\t\t 2026 년 2 월 달력\n",
      "\n",
      "일\t월\t화\t수\t목\t금\t토\n",
      "\n",
      " 1\t 2\t 3\t 4\t 5\t 6\t 7\t\n",
      "\n",
      " 8\t 9\t10\t11\t12\t13\t14\t\n",
      "\n",
      "15\t16\t17\t18\t19\t20\t21\t\n",
      "\n",
      "22\t23\t24\t25\t26\t27\t28\t\n",
      "\n",
      "\n",
      "\n",
      "\t\t 2020 년 3 월 달력\n",
      "\n",
      "일\t월\t화\t수\t목\t금\t토\n",
      "\n",
      " 1\t 2\t 3\t 4\t 5\t 6\t 7\t\n",
      "\n",
      " 8\t 9\t10\t11\t12\t13\t14\t\n",
      "\n",
      "15\t16\t17\t18\t19\t20\t21\t\n",
      "\n",
      "22\t23\t24\t25\t26\t27\t28\t\n",
      "\n",
      "29\t30\t31\t\n",
      "\n"
     ]
    }
   ],
   "source": [
    "import clcal\n",
    "cal1=clcal.MyCalendar(2020,1)\n",
    "cal1.mycalendar()\n",
    "cal1.setYM(2026,2)\n",
    "cal1.mycalendar()\n",
    "cal1.setYM(2020,3)\n",
    "cal1.mycalendar()"
   ]
  },
  {
   "cell_type": "code",
   "execution_count": 222,
   "metadata": {},
   "outputs": [
    {
     "name": "stdout",
     "output_type": "stream",
     "text": [
      "\t\t 2020 년 1 월 달력\n",
      "\n",
      "일\t월\t화\t수\t목\t금\t토\n",
      "\n",
      "\t\t\t 1\t 2\t 3\t 4\t\n",
      "\n",
      " 5\t 6\t 7\t 8\t 9\t10\t11\t\n",
      "\n",
      "12\t13\t14\t15\t16\t17\t18\t\n",
      "\n",
      "19\t20\t21\t22\t23\t24\t25\t\n",
      "\n",
      "26\t27\t28\t29\t30\t31\t\n",
      "\n",
      "\n",
      "\n",
      "\n",
      "\n",
      "\t\t 2026 년 2 월 달력\n",
      "\n",
      "일\t월\t화\t수\t목\t금\t토\n",
      "\n",
      " 1\t 2\t 3\t 4\t 5\t 6\t 7\t\n",
      "\n",
      " 8\t 9\t10\t11\t12\t13\t14\t\n",
      "\n",
      "15\t16\t17\t18\t19\t20\t21\t\n",
      "\n",
      "22\t23\t24\t25\t26\t27\t28\t\n",
      "\n",
      "\n",
      "\n",
      "\n",
      "\n",
      "\n",
      "\n",
      "\t\t 2020 년 3 월 달력\n",
      "\n",
      "일\t월\t화\t수\t목\t금\t토\n",
      "\n",
      " 1\t 2\t 3\t 4\t 5\t 6\t 7\t\n",
      "\n",
      " 8\t 9\t10\t11\t12\t13\t14\t\n",
      "\n",
      "15\t16\t17\t18\t19\t20\t21\t\n",
      "\n",
      "22\t23\t24\t25\t26\t27\t28\t\n",
      "\n",
      "29\t30\t31\t\n",
      "\n",
      "\n",
      "\n",
      "\n",
      "\n"
     ]
    }
   ],
   "source": [
    "import clcal2\n",
    "cal3=clcal2.MyCalendar(2020,1)\n",
    "cal3.mycalendar()\n",
    "cal3.setYM(2026,2)\n",
    "cal3.mycalendar()\n",
    "cal3.setYM(2020,3)\n",
    "cal3.mycalendar()"
   ]
  },
  {
   "cell_type": "code",
   "execution_count": 223,
   "metadata": {},
   "outputs": [
    {
     "name": "stdout",
     "output_type": "stream",
     "text": [
      "\t\t 2020 년 1 월 달력\n",
      "\n",
      "일\t월\t화\t수\t목\t금\t토\n",
      "\n",
      "\t\t\t 1\t 2\t 3\t 4\t\n",
      "\n",
      " 5\t 6\t 7\t 8\t 9\t10\t11\t\n",
      "\n",
      "12\t13\t14\t15\t16\t17\t18\t\n",
      "\n",
      "19\t20\t21\t22\t23\t24\t25\t\n",
      "\n",
      "26\t27\t28\t29\t30\t31\t\n",
      "\n",
      "\n",
      "\n",
      "\t\t 2026 년 2 월 달력\n",
      "\n",
      "일\t월\t화\t수\t목\t금\t토\n",
      "\n",
      " 1\t 2\t 3\t 4\t 5\t 6\t 7\t\n",
      "\n",
      " 8\t 9\t10\t11\t12\t13\t14\t\n",
      "\n",
      "15\t16\t17\t18\t19\t20\t21\t\n",
      "\n",
      "22\t23\t24\t25\t26\t27\t28\t\n",
      "\n",
      "\n",
      "\n",
      "\n",
      "\n",
      "\t\t 2020 년 3 월 달력\n",
      "\n",
      "일\t월\t화\t수\t목\t금\t토\n",
      "\n",
      " 1\t 2\t 3\t 4\t 5\t 6\t 7\t\n",
      "\n",
      " 8\t 9\t10\t11\t12\t13\t14\t\n",
      "\n",
      "15\t16\t17\t18\t19\t20\t21\t\n",
      "\n",
      "22\t23\t24\t25\t26\t27\t28\t\n",
      "\n",
      "29\t30\t31\t\n",
      "\n",
      "\n",
      "\n"
     ]
    }
   ],
   "source": [
    "import clcal3\n",
    "cal3=clcal3.MyCalendar(2020,1)\n",
    "cal3.mycalendar()\n",
    "cal3.setYM(2026,2)\n",
    "cal3.mycalendar()\n",
    "cal3.setYM(2020,3)\n",
    "cal3.mycalendar()"
   ]
  }
 ],
 "metadata": {
  "kernelspec": {
   "display_name": "Python 3",
   "language": "python",
   "name": "python3"
  },
  "language_info": {
   "codemirror_mode": {
    "name": "ipython",
    "version": 3
   },
   "file_extension": ".py",
   "mimetype": "text/x-python",
   "name": "python",
   "nbconvert_exporter": "python",
   "pygments_lexer": "ipython3",
   "version": "3.7.4"
  }
 },
 "nbformat": 4,
 "nbformat_minor": 2
}
