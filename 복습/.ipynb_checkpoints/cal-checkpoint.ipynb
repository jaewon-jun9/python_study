{
 "cells": [
  {
   "cell_type": "code",
   "execution_count": 8,
   "metadata": {},
   "outputs": [],
   "source": [
    "#예전에 만든 만년단력 재활용\n",
    "#함수 호출시에 년도와 월을 전달\n",
    "#율리우스력\n",
    "def mycalendar(y,month):\n",
    "    if y<1582:\n",
    "        print(\"1582년 10월 이후만 지원합니다.\")\n",
    "    else:    \n",
    "        monthdays1=[31,28,31,30,31,30,31,31,30,31,30,31,31] #각 월의 일 수\n",
    "        weekdays=[]\n",
    "        iniday1=6 #2018.12.1 의 요일(6은 토요일)  2019년 이후의 각 월별 1일의 요일을 판정하기 위한 기초값\n",
    "        iniday2=2 #2019.1.1 의 요일(2는 화요일)  2019년 이전의 각 월별 1일의 요일을 판정하기 위한 기초값\n",
    "        if y >= 2019: #2019년 이후의 달력을 위한 요일 위치 계산\n",
    "            dis=y-2019 #기준인 2019년 과의 차이\n",
    "            iniday=iniday1 #요일 계산을 위한 기초값\n",
    "            for i in range(dis+1): #평년 윤년을 판정하여 요일 계산시에 다른 날짜를 삽입 \"+1\"은 2019년을 처리하기 위함\n",
    "                weekdays=[]#배열이 누적되므로 적절히 초기화\n",
    "                if (i+3)%4==0:\n",
    "                    monthdays=monthdays1.copy()\n",
    "                    monthdays[1]=29\n",
    "                else:\n",
    "                    monthdays=monthdays1\n",
    "                for i in range(12):\n",
    "                    weekday=iniday+monthdays[i-1]%7\n",
    "                    if weekday>=7:\n",
    "                        weekday=weekday-7\n",
    "                    weekdays.append(weekday)\n",
    "                    iniday=weekday\n",
    "        if y < 2019: #2018년 이전의 각 월의 시작점을 계산하여 역순으로 저장\n",
    "            dis=2019-y\n",
    "            iniday=iniday2\n",
    "            for i in range(dis):\n",
    "                weekdays=[]#배열이 누적되므로 적절히 초기화\n",
    "                monthdays=list(reversed(monthdays1.copy()))#최근 값 부터 거꾸로 계산해 들어가야 하므로 #월의 배열도 뒤집어진 것을 사용\n",
    "                if (i+2)%4==0:\n",
    "                    monthdays[10]=29 \n",
    "                else:\n",
    "                    pass\n",
    "                    #monthdays=monthdays3\n",
    "                for i in monthdays:\n",
    "                    weekday=iniday-i%7\n",
    "                    if weekday<0:\n",
    "                        weekday=weekday+7\n",
    "                    weekdays.append(weekday)\n",
    "                    iniday=weekday\n",
    "            temp=[] #역순인 배열을 뒤집기\n",
    "            for i in reversed(weekdays):\n",
    "                temp.append(i)\n",
    "            weekdays=temp\n",
    "    #여기서부터는 출력부\n",
    "        if y%4==0:\n",
    "            monthdays=monthdays1.copy()\n",
    "            monthdays[1]=29\n",
    "        else:\n",
    "            monthdays=monthdays1\n",
    "        print(\"\\t\\t\",y,\"년    \",month,\"월\\n\\n일\\t월\\t화\\t수\\t목\\t금\\t토\\n\") #달력의 헤더\n",
    "        count=0\n",
    "        for i in range(weekdays[month-1]): #미리 선언한 배열에서 시작 요일의 위치를 가져와 공백 삽입\n",
    "            print(\"\\t\",end=\"\")\n",
    "        for i in range(0,monthdays[month-1]): #미리 선언한 배열에서 날짜 수를 가져와서 반복\n",
    "            print(\"{:>2}\".format(i+1),end=\"\\t\")\n",
    "            if ((i+weekdays[month-1])+1)%7 == 0: #시작 요일위치+반복시행수의 합이 7이 될때마다 개행\n",
    "                count=count+1\n",
    "                print(\"\\n\")\n",
    "        print(\"\\n\")\n",
    "        pass    \n",
    "        if count<5:\n",
    "            print(\"\\n\")"
   ]
  },
  {
   "cell_type": "code",
   "execution_count": 9,
   "metadata": {},
   "outputs": [
    {
     "name": "stdout",
     "output_type": "stream",
     "text": [
      "1582년 이후만 지원합니다.\n"
     ]
    }
   ],
   "source": [
    "mycalendar(1581,11)"
   ]
  },
  {
   "cell_type": "code",
   "execution_count": 4,
   "metadata": {},
   "outputs": [
    {
     "name": "stdout",
     "output_type": "stream",
     "text": [
      "\t\t 2021 년     11 월\n",
      "\n",
      "일\t월\t화\t수\t목\t금\t토\n",
      "\n",
      "\t 1\t 2\t 3\t 4\t 5\t 6\t\n",
      "\n",
      " 7\t 8\t 9\t10\t11\t12\t13\t\n",
      "\n",
      "14\t15\t16\t17\t18\t19\t20\t\n",
      "\n",
      "21\t22\t23\t24\t25\t26\t27\t\n",
      "\n",
      "28\t29\t30\t\n",
      "\n",
      "\n",
      "\n"
     ]
    }
   ],
   "source": [
    "mycalendar(2021,11)"
   ]
  },
  {
   "cell_type": "code",
   "execution_count": 5,
   "metadata": {},
   "outputs": [
    {
     "name": "stdout",
     "output_type": "stream",
     "text": [
      "\t\t 2020 년     1 월\n",
      "\n",
      "일\t월\t화\t수\t목\t금\t토\n",
      "\n",
      "\t\t\t 1\t 2\t 3\t 4\t\n",
      "\n",
      " 5\t 6\t 7\t 8\t 9\t10\t11\t\n",
      "\n",
      "12\t13\t14\t15\t16\t17\t18\t\n",
      "\n",
      "19\t20\t21\t22\t23\t24\t25\t\n",
      "\n",
      "26\t27\t28\t29\t30\t31\t\n",
      "\n",
      "\n",
      "\n",
      "\t\t 2021 년     1 월\n",
      "\n",
      "일\t월\t화\t수\t목\t금\t토\n",
      "\n",
      "\t\t\t\t\t 1\t 2\t\n",
      "\n",
      " 3\t 4\t 5\t 6\t 7\t 8\t 9\t\n",
      "\n",
      "10\t11\t12\t13\t14\t15\t16\t\n",
      "\n",
      "17\t18\t19\t20\t21\t22\t23\t\n",
      "\n",
      "24\t25\t26\t27\t28\t29\t30\t\n",
      "\n",
      "31\t\n",
      "\n"
     ]
    }
   ],
   "source": [
    "mycalendar(2020,1)\n",
    "mycalendar(2021,1)"
   ]
  },
  {
   "cell_type": "code",
   "execution_count": null,
   "metadata": {},
   "outputs": [],
   "source": []
  }
 ],
 "metadata": {
  "kernelspec": {
   "display_name": "Python 3",
   "language": "python",
   "name": "python3"
  },
  "language_info": {
   "codemirror_mode": {
    "name": "ipython",
    "version": 3
   },
   "file_extension": ".py",
   "mimetype": "text/x-python",
   "name": "python",
   "nbconvert_exporter": "python",
   "pygments_lexer": "ipython3",
   "version": "3.7.6"
  }
 },
 "nbformat": 4,
 "nbformat_minor": 4
}
