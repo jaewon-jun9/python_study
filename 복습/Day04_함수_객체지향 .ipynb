{
 "cells": [
  {
   "cell_type": "markdown",
   "metadata": {},
   "source": [
    "0.출력명령(\"\"-->문자기반)  \n",
    "1.변수(Data)  \n",
    "2.연산명령(연산자)  \n",
    "--효율적 프로그래밍--  \n",
    "3.제어문  \n",
    "4.함수=기능적단위(독립적):코드의 재사용성  \n",
    "5."
   ]
  },
  {
   "cell_type": "code",
   "execution_count": 3,
   "metadata": {},
   "outputs": [],
   "source": [
    "def add(a, b):\n",
    "    return a + b"
   ]
  },
  {
   "cell_type": "code",
   "execution_count": 4,
   "metadata": {},
   "outputs": [
    {
     "data": {
      "text/plain": [
       "3"
      ]
     },
     "execution_count": 4,
     "metadata": {},
     "output_type": "execute_result"
    }
   ],
   "source": [
    "add(1,2)"
   ]
  },
  {
   "cell_type": "code",
   "execution_count": null,
   "metadata": {},
   "outputs": [],
   "source": [
    "def add(a, b):  # a, b는 매개변수\n",
    "    return a+b\n",
    "\n",
    "print(add(3, 4))  # 3, 4는 인수"
   ]
  },
  {
   "cell_type": "code",
   "execution_count": null,
   "metadata": {},
   "outputs": [],
   "source": []
  },
  {
   "cell_type": "code",
   "execution_count": 5,
   "metadata": {},
   "outputs": [],
   "source": [
    "def add_many(*args): \n",
    "    result = 0 \n",
    "    for i in args: \n",
    "        result = result + i \n",
    "    return result \n"
   ]
  },
  {
   "cell_type": "code",
   "execution_count": 6,
   "metadata": {},
   "outputs": [
    {
     "data": {
      "text/plain": [
       "28"
      ]
     },
     "execution_count": 6,
     "metadata": {},
     "output_type": "execute_result"
    }
   ],
   "source": [
    "add_many(1,2,3,4,5,6,7,)"
   ]
  },
  {
   "cell_type": "code",
   "execution_count": 12,
   "metadata": {},
   "outputs": [],
   "source": [
    "many2=(2,3,4,5,6,7,8,9)"
   ]
  },
  {
   "cell_type": "code",
   "execution_count": 13,
   "metadata": {},
   "outputs": [
    {
     "ename": "TypeError",
     "evalue": "unsupported operand type(s) for +: 'int' and 'tuple'",
     "output_type": "error",
     "traceback": [
      "\u001b[1;31m---------------------------------------------------------------------------\u001b[0m",
      "\u001b[1;31mTypeError\u001b[0m                                 Traceback (most recent call last)",
      "\u001b[1;32m<ipython-input-13-ecae45a4c0c4>\u001b[0m in \u001b[0;36m<module>\u001b[1;34m\u001b[0m\n\u001b[1;32m----> 1\u001b[1;33m \u001b[0madd_many\u001b[0m\u001b[1;33m(\u001b[0m\u001b[0mmany2\u001b[0m\u001b[1;33m)\u001b[0m\u001b[1;33m\u001b[0m\u001b[1;33m\u001b[0m\u001b[0m\n\u001b[0m",
      "\u001b[1;32m<ipython-input-5-5eca62c06362>\u001b[0m in \u001b[0;36madd_many\u001b[1;34m(*args)\u001b[0m\n\u001b[0;32m      2\u001b[0m     \u001b[0mresult\u001b[0m \u001b[1;33m=\u001b[0m \u001b[1;36m0\u001b[0m\u001b[1;33m\u001b[0m\u001b[1;33m\u001b[0m\u001b[0m\n\u001b[0;32m      3\u001b[0m     \u001b[1;32mfor\u001b[0m \u001b[0mi\u001b[0m \u001b[1;32min\u001b[0m \u001b[0margs\u001b[0m\u001b[1;33m:\u001b[0m\u001b[1;33m\u001b[0m\u001b[1;33m\u001b[0m\u001b[0m\n\u001b[1;32m----> 4\u001b[1;33m         \u001b[0mresult\u001b[0m \u001b[1;33m=\u001b[0m \u001b[0mresult\u001b[0m \u001b[1;33m+\u001b[0m \u001b[0mi\u001b[0m\u001b[1;33m\u001b[0m\u001b[1;33m\u001b[0m\u001b[0m\n\u001b[0m\u001b[0;32m      5\u001b[0m     \u001b[1;32mreturn\u001b[0m \u001b[0mresult\u001b[0m\u001b[1;33m\u001b[0m\u001b[1;33m\u001b[0m\u001b[0m\n",
      "\u001b[1;31mTypeError\u001b[0m: unsupported operand type(s) for +: 'int' and 'tuple'"
     ]
    }
   ],
   "source": [
    "add_many(many2)"
   ]
  },
  {
   "cell_type": "code",
   "execution_count": 11,
   "metadata": {},
   "outputs": [
    {
     "data": {
      "text/plain": [
       "[2, 3, 4, 5, 6, 7, 8, 9]"
      ]
     },
     "execution_count": 11,
     "metadata": {},
     "output_type": "execute_result"
    }
   ],
   "source": [
    "many"
   ]
  },
  {
   "cell_type": "code",
   "execution_count": 14,
   "metadata": {},
   "outputs": [
    {
     "data": {
      "text/plain": [
       "(2, 3, 4, 5, 6, 7, 8, 9)"
      ]
     },
     "execution_count": 14,
     "metadata": {},
     "output_type": "execute_result"
    }
   ],
   "source": [
    "many2"
   ]
  },
  {
   "cell_type": "code",
   "execution_count": 16,
   "metadata": {},
   "outputs": [],
   "source": [
    "def add_mul(choice, *args): \n",
    "    if choice == \"add\": \n",
    "        result = 0 \n",
    "        for i in args: \n",
    "            result = result + i \n",
    "    elif choice == \"mul\": \n",
    "        result = 1 \n",
    "        for i in args: \n",
    "            result = result * i \n",
    "    return result \n"
   ]
  },
  {
   "cell_type": "code",
   "execution_count": 18,
   "metadata": {},
   "outputs": [
    {
     "data": {
      "text/plain": [
       "6"
      ]
     },
     "execution_count": 18,
     "metadata": {},
     "output_type": "execute_result"
    }
   ],
   "source": [
    "add_mul('add',1,2,3)"
   ]
  },
  {
   "cell_type": "code",
   "execution_count": 19,
   "metadata": {},
   "outputs": [
    {
     "data": {
      "text/plain": [
       "4"
      ]
     },
     "execution_count": 19,
     "metadata": {},
     "output_type": "execute_result"
    }
   ],
   "source": [
    "add_mul('mul',1,2,2)"
   ]
  },
  {
   "cell_type": "code",
   "execution_count": 21,
   "metadata": {},
   "outputs": [],
   "source": [
    "def print_kawargs(**kawargs):\n",
    "    print(kawargs)"
   ]
  },
  {
   "cell_type": "code",
   "execution_count": 26,
   "metadata": {},
   "outputs": [
    {
     "name": "stdout",
     "output_type": "stream",
     "text": [
      "{'name': 'foo', 'age': 3, 'no': 1}\n"
     ]
    }
   ],
   "source": [
    "print_kawargs(name='foo',age=3,no=1)"
   ]
  },
  {
   "cell_type": "code",
   "execution_count": 27,
   "metadata": {},
   "outputs": [],
   "source": [
    "def say_myself(name, old, man=True): \n",
    "    print(\"나의 이름은 %s 입니다.\" % name) \n",
    "    print(\"나이는 %d살입니다.\" % old) \n",
    "    if man: \n",
    "        print(\"남자입니다.\")\n",
    "    else: \n",
    "        print(\"여자입니다.\")"
   ]
  },
  {
   "cell_type": "code",
   "execution_count": 28,
   "metadata": {},
   "outputs": [
    {
     "name": "stdout",
     "output_type": "stream",
     "text": [
      "나의 이름은 박응용 입니다.\n",
      "나이는 27살입니다.\n",
      "남자입니다.\n"
     ]
    }
   ],
   "source": [
    "say_myself(\"박응용\", 27)"
   ]
  },
  {
   "cell_type": "code",
   "execution_count": 39,
   "metadata": {},
   "outputs": [],
   "source": [
    "f=open(\"새파일.txt\",\"w\")\n",
    "for i in range(1, 11):\n",
    "    data = \"%d번째 줄입니다.\\n\" % i\n",
    "    f.write(data)\n",
    "f.close()"
   ]
  },
  {
   "cell_type": "code",
   "execution_count": 37,
   "metadata": {},
   "outputs": [
    {
     "name": "stdout",
     "output_type": "stream",
     "text": [
      "1번째 줄입니다.\n",
      "\n",
      "2번째 줄입니다.\n",
      "\n"
     ]
    }
   ],
   "source": [
    "f = open(\"새파일.txt\", 'r')\n",
    "line = f.readline()\n",
    "print(line)\n",
    "line = f.readline()\n",
    "print(line)\n",
    "f.close()"
   ]
  },
  {
   "cell_type": "code",
   "execution_count": 36,
   "metadata": {},
   "outputs": [
    {
     "name": "stdout",
     "output_type": "stream",
     "text": [
      "1번째 줄입니다.\n",
      "\n",
      "2번째 줄입니다.\n",
      "\n",
      "3번째 줄입니다.\n",
      "\n",
      "4번째 줄입니다.\n",
      "\n",
      "5번째 줄입니다.\n",
      "\n",
      "6번째 줄입니다.\n",
      "\n",
      "7번째 줄입니다.\n",
      "\n",
      "8번째 줄입니다.\n",
      "\n",
      "9번째 줄입니다.\n",
      "\n",
      "10번째 줄입니다.\n",
      "\n"
     ]
    }
   ],
   "source": [
    "f = open(\"새파일.txt\", 'r')\n",
    "while True:\n",
    "    line = f.readline()\n",
    "    if not line: break\n",
    "    print(line)\n",
    "f.close()"
   ]
  },
  {
   "cell_type": "code",
   "execution_count": 41,
   "metadata": {
    "scrolled": true
   },
   "outputs": [
    {
     "name": "stdout",
     "output_type": "stream",
     "text": [
      "1번째 줄입니다.\n",
      "\n",
      "2번째 줄입니다.\n",
      "\n",
      "3번째 줄입니다.\n",
      "\n",
      "4번째 줄입니다.\n",
      "\n",
      "5번째 줄입니다.\n",
      "\n",
      "6번째 줄입니다.\n",
      "\n",
      "7번째 줄입니다.\n",
      "\n",
      "8번째 줄입니다.\n",
      "\n",
      "9번째 줄입니다.\n",
      "\n",
      "10번째 줄입니다.\n",
      "\n"
     ]
    }
   ],
   "source": [
    "f = open(\"새파일.txt\", 'r')\n",
    "lines = f.readlines()\n",
    "for i in lines:\n",
    "    print(i)\n",
    "f.close()"
   ]
  },
  {
   "cell_type": "code",
   "execution_count": null,
   "metadata": {},
   "outputs": [],
   "source": []
  },
  {
   "cell_type": "markdown",
   "metadata": {},
   "source": [
    "# 줄바꾸기 <br> 바꿔"
   ]
  },
  {
   "cell_type": "code",
   "execution_count": 44,
   "metadata": {},
   "outputs": [],
   "source": [
    "# 복사\n",
    "g = open(\"새파일.txt\", 'r')\n",
    "lines = g.readlines()\n",
    "f=open(\"새파일2.txt\",\"w\")\n",
    "f.writelines(lines)\n",
    "f.close()\n",
    "g.close()"
   ]
  },
  {
   "cell_type": "markdown",
   "metadata": {},
   "source": [
    "# 펑션 이용한 만년달력"
   ]
  },
  {
   "cell_type": "code",
   "execution_count": 5,
   "metadata": {},
   "outputs": [],
   "source": [
    "#예전에 만든 만년단력 재활용\n",
    "#함수 호출시에 년도와 월을 전달\n",
    "#율리우스력만 적용된 상태이므로 그레고리력을 적용하려면 보정이 필요\n",
    "#미리 준비하는 데이터를 축소 20200108\n",
    "def mycalendar(y,month):\n",
    "    monthdays1=[31,28,31,30,31,30,31,31,30,31,30,31,31] #각 월의 일 수\n",
    "    #monthdays2=[31,29,31,30,31,30,31,31,30,31,30,31,31] #윤년\n",
    "    #monthdays3=[31,30,31,30,31,31,30,31,30,31,28,31] #과거 달력 계산을 위해 1을 뒤집음\n",
    "    #monthdays4=[31,30,31,30,31,31,30,31,30,31,29,31] #과거 달력 계산을 위해 2를 뒤집음\n",
    "    weekdays=[]\n",
    "    iniday1=6 #2018.12.1 의 요일(6은 토요일)  2019년 이후의 각 월별 1일의 요일을 판정하기 위한 기초값\n",
    "    iniday2=2 #2019.1.1 의 요일(2는 화요일)  2019년 이전의 각 월별 1일의 요일을 판정하기 위한 기초값\n",
    "    if y >= 2019: #2019년 이후의 달력을 위한 요일 위치 계산\n",
    "        dis=y-2019 #기준인 2019년 과의 차이\n",
    "        iniday=iniday1 #요일 계산을 위한 기초값\n",
    "        for i in range(dis+1): #평년 윤년을 판정하여 요일 계산시에 다른 날짜를 삽입 \"+1\"은 2019년을 처리하기 위함\n",
    "            weekdays=[]#배열이 누적되므로 적절히 초기화\n",
    "            if (i+3)%4==0:\n",
    "                monthdays=monthdays1.copy()\n",
    "                monthdays[1]=29\n",
    "            else:\n",
    "                monthdays=monthdays1\n",
    "            for i in range(12):\n",
    "                weekday=iniday+monthdays[i-1]%7\n",
    "                if weekday>=7:\n",
    "                    weekday=weekday-7\n",
    "                weekdays.append(weekday)\n",
    "                iniday=weekday\n",
    "    if y < 2019: #2018년 이전의 각 월의 시작점을 계산하여 역순으로 저장\n",
    "        dis=2019-y\n",
    "        iniday=iniday2\n",
    "        for i in range(dis):\n",
    "            weekdays=[]#배열이 누적되므로 적절히 초기화\n",
    "            monthdays=list(reversed(monthdays1.copy()))#최근 값 부터 거꾸로 계산해 들어가야 하므로 #월의 배열도 뒤집어진 것을 사용\n",
    "            if (i+2)%4==0:\n",
    "                monthdays[10]=29 \n",
    "            else:\n",
    "                pass\n",
    "                #monthdays=monthdays3\n",
    "            for i in monthdays:\n",
    "                weekday=iniday-i%7\n",
    "                if weekday<0:\n",
    "                    weekday=weekday+7\n",
    "                weekdays.append(weekday)\n",
    "                iniday=weekday\n",
    "        temp=[] #역순인 배열을 뒤집기\n",
    "        for i in reversed(weekdays):\n",
    "            temp.append(i)\n",
    "        weekdays=temp\n",
    "#여기서부터는 출력부\n",
    "    if y%4==0:\n",
    "        monthdays=monthdays1.copy()\n",
    "        monthdays[1]=29\n",
    "    else:\n",
    "        monthdays=monthdays1\n",
    "    print(\"\\t\\t\",y,\"년    \",month,\"월\\n\\n일\\t월\\t화\\t수\\t목\\t금\\t토\\n\") #달력의 헤더\n",
    "    count=0\n",
    "    for i in range(weekdays[month-1]): #미리 선언한 배열에서 시작 요일의 위치를 가져와 공백 삽입\n",
    "        print(\"\\t\",end=\"\")\n",
    "    for i in range(0,monthdays[month-1]): #미리 선언한 배열에서 날짜 수를 가져와서 반복\n",
    "        print(\"{:>2}\".format(i+1),end=\"\\t\")\n",
    "        if ((i+weekdays[month-1])+1)%7 == 0: #시작 요일위치+반복시행수의 합이 7이 될때마다 개행\n",
    "            print(\"\\n\")\n",
    "            count=count+1\n",
    "    print(\"\\n\")\n",
    "    pass    \n",
    "    if count<5:\n",
    "        print(\"\\n\")"
   ]
  },
  {
   "cell_type": "code",
   "execution_count": null,
   "metadata": {},
   "outputs": [],
   "source": []
  },
  {
   "cell_type": "code",
   "execution_count": 7,
   "metadata": {},
   "outputs": [
    {
     "name": "stdout",
     "output_type": "stream",
     "text": [
      "\t\t 4 년     2 월\n",
      "\n",
      "일\t월\t화\t수\t목\t금\t토\n",
      "\n",
      "\t\t 1\t 2\t 3\t 4\t 5\t\n",
      "\n",
      " 6\t 7\t 8\t 9\t10\t11\t12\t\n",
      "\n",
      "13\t14\t15\t16\t17\t18\t19\t\n",
      "\n",
      "20\t21\t22\t23\t24\t25\t26\t\n",
      "\n",
      "27\t28\t29\t\n",
      "\n",
      "\n",
      "\n"
     ]
    }
   ],
   "source": [
    "mycalendar(4,2)"
   ]
  },
  {
   "cell_type": "code",
   "execution_count": 8,
   "metadata": {},
   "outputs": [
    {
     "name": "stdout",
     "output_type": "stream",
     "text": [
      "\t\t 2020 년     1 월\n",
      "\n",
      "일\t월\t화\t수\t목\t금\t토\n",
      "\n",
      "\t\t\t 1\t 2\t 3\t 4\t\n",
      "\n",
      " 5\t 6\t 7\t 8\t 9\t10\t11\t\n",
      "\n",
      "12\t13\t14\t15\t16\t17\t18\t\n",
      "\n",
      "19\t20\t21\t22\t23\t24\t25\t\n",
      "\n",
      "26\t27\t28\t29\t30\t31\t\n",
      "\n",
      "\n",
      "\n",
      "\t\t 2020 년     2 월\n",
      "\n",
      "일\t월\t화\t수\t목\t금\t토\n",
      "\n",
      "\t\t\t\t\t\t 1\t\n",
      "\n",
      " 2\t 3\t 4\t 5\t 6\t 7\t 8\t\n",
      "\n",
      " 9\t10\t11\t12\t13\t14\t15\t\n",
      "\n",
      "16\t17\t18\t19\t20\t21\t22\t\n",
      "\n",
      "23\t24\t25\t26\t27\t28\t29\t\n",
      "\n",
      "\n",
      "\n",
      "\t\t 2020 년     3 월\n",
      "\n",
      "일\t월\t화\t수\t목\t금\t토\n",
      "\n",
      " 1\t 2\t 3\t 4\t 5\t 6\t 7\t\n",
      "\n",
      " 8\t 9\t10\t11\t12\t13\t14\t\n",
      "\n",
      "15\t16\t17\t18\t19\t20\t21\t\n",
      "\n",
      "22\t23\t24\t25\t26\t27\t28\t\n",
      "\n",
      "29\t30\t31\t\n",
      "\n",
      "\n",
      "\n",
      "\t\t 2020 년     4 월\n",
      "\n",
      "일\t월\t화\t수\t목\t금\t토\n",
      "\n",
      "\t\t\t 1\t 2\t 3\t 4\t\n",
      "\n",
      " 5\t 6\t 7\t 8\t 9\t10\t11\t\n",
      "\n",
      "12\t13\t14\t15\t16\t17\t18\t\n",
      "\n",
      "19\t20\t21\t22\t23\t24\t25\t\n",
      "\n",
      "26\t27\t28\t29\t30\t\n",
      "\n",
      "\n",
      "\n",
      "\t\t 2020 년     5 월\n",
      "\n",
      "일\t월\t화\t수\t목\t금\t토\n",
      "\n",
      "\t\t\t\t\t 1\t 2\t\n",
      "\n",
      " 3\t 4\t 5\t 6\t 7\t 8\t 9\t\n",
      "\n",
      "10\t11\t12\t13\t14\t15\t16\t\n",
      "\n",
      "17\t18\t19\t20\t21\t22\t23\t\n",
      "\n",
      "24\t25\t26\t27\t28\t29\t30\t\n",
      "\n",
      "31\t\n",
      "\n",
      "\t\t 2020 년     6 월\n",
      "\n",
      "일\t월\t화\t수\t목\t금\t토\n",
      "\n",
      "\t 1\t 2\t 3\t 4\t 5\t 6\t\n",
      "\n",
      " 7\t 8\t 9\t10\t11\t12\t13\t\n",
      "\n",
      "14\t15\t16\t17\t18\t19\t20\t\n",
      "\n",
      "21\t22\t23\t24\t25\t26\t27\t\n",
      "\n",
      "28\t29\t30\t\n",
      "\n",
      "\n",
      "\n",
      "\t\t 2020 년     7 월\n",
      "\n",
      "일\t월\t화\t수\t목\t금\t토\n",
      "\n",
      "\t\t\t 1\t 2\t 3\t 4\t\n",
      "\n",
      " 5\t 6\t 7\t 8\t 9\t10\t11\t\n",
      "\n",
      "12\t13\t14\t15\t16\t17\t18\t\n",
      "\n",
      "19\t20\t21\t22\t23\t24\t25\t\n",
      "\n",
      "26\t27\t28\t29\t30\t31\t\n",
      "\n",
      "\n",
      "\n",
      "\t\t 2020 년     8 월\n",
      "\n",
      "일\t월\t화\t수\t목\t금\t토\n",
      "\n",
      "\t\t\t\t\t\t 1\t\n",
      "\n",
      " 2\t 3\t 4\t 5\t 6\t 7\t 8\t\n",
      "\n",
      " 9\t10\t11\t12\t13\t14\t15\t\n",
      "\n",
      "16\t17\t18\t19\t20\t21\t22\t\n",
      "\n",
      "23\t24\t25\t26\t27\t28\t29\t\n",
      "\n",
      "30\t31\t\n",
      "\n",
      "\t\t 2020 년     9 월\n",
      "\n",
      "일\t월\t화\t수\t목\t금\t토\n",
      "\n",
      "\t\t 1\t 2\t 3\t 4\t 5\t\n",
      "\n",
      " 6\t 7\t 8\t 9\t10\t11\t12\t\n",
      "\n",
      "13\t14\t15\t16\t17\t18\t19\t\n",
      "\n",
      "20\t21\t22\t23\t24\t25\t26\t\n",
      "\n",
      "27\t28\t29\t30\t\n",
      "\n",
      "\n",
      "\n",
      "\t\t 2020 년     10 월\n",
      "\n",
      "일\t월\t화\t수\t목\t금\t토\n",
      "\n",
      "\t\t\t\t 1\t 2\t 3\t\n",
      "\n",
      " 4\t 5\t 6\t 7\t 8\t 9\t10\t\n",
      "\n",
      "11\t12\t13\t14\t15\t16\t17\t\n",
      "\n",
      "18\t19\t20\t21\t22\t23\t24\t\n",
      "\n",
      "25\t26\t27\t28\t29\t30\t31\t\n",
      "\n",
      "\n",
      "\n",
      "\t\t 2020 년     11 월\n",
      "\n",
      "일\t월\t화\t수\t목\t금\t토\n",
      "\n",
      " 1\t 2\t 3\t 4\t 5\t 6\t 7\t\n",
      "\n",
      " 8\t 9\t10\t11\t12\t13\t14\t\n",
      "\n",
      "15\t16\t17\t18\t19\t20\t21\t\n",
      "\n",
      "22\t23\t24\t25\t26\t27\t28\t\n",
      "\n",
      "29\t30\t\n",
      "\n",
      "\n",
      "\n",
      "\t\t 2020 년     12 월\n",
      "\n",
      "일\t월\t화\t수\t목\t금\t토\n",
      "\n",
      "\t\t 1\t 2\t 3\t 4\t 5\t\n",
      "\n",
      " 6\t 7\t 8\t 9\t10\t11\t12\t\n",
      "\n",
      "13\t14\t15\t16\t17\t18\t19\t\n",
      "\n",
      "20\t21\t22\t23\t24\t25\t26\t\n",
      "\n",
      "27\t28\t29\t30\t31\t\n",
      "\n",
      "\n",
      "\n"
     ]
    }
   ],
   "source": [
    "for i in range(1,13):\n",
    "    mycalendar(2020,i)"
   ]
  },
  {
   "cell_type": "code",
   "execution_count": 90,
   "metadata": {
    "scrolled": false
   },
   "outputs": [
    {
     "name": "stdout",
     "output_type": "stream",
     "text": [
      "\t\t 2018 년     1 월\n",
      "\n",
      "일\t월\t화\t수\t목\t금\t토\n",
      "\n",
      "\t 1\t 2\t 3\t 4\t 5\t 6\t\n",
      "\n",
      " 7\t 8\t 9\t10\t11\t12\t13\t\n",
      "\n",
      "14\t15\t16\t17\t18\t19\t20\t\n",
      "\n",
      "21\t22\t23\t24\t25\t26\t27\t\n",
      "\n",
      "28\t29\t30\t31\t\n",
      "\n",
      "\n",
      "\n",
      "\t\t 2018 년     2 월\n",
      "\n",
      "일\t월\t화\t수\t목\t금\t토\n",
      "\n",
      "\t\t\t\t 1\t 2\t 3\t\n",
      "\n",
      " 4\t 5\t 6\t 7\t 8\t 9\t10\t\n",
      "\n",
      "11\t12\t13\t14\t15\t16\t17\t\n",
      "\n",
      "18\t19\t20\t21\t22\t23\t24\t\n",
      "\n",
      "25\t26\t27\t28\t\n",
      "\n",
      "\n",
      "\n",
      "\t\t 2018 년     3 월\n",
      "\n",
      "일\t월\t화\t수\t목\t금\t토\n",
      "\n",
      "\t\t\t\t 1\t 2\t 3\t\n",
      "\n",
      " 4\t 5\t 6\t 7\t 8\t 9\t10\t\n",
      "\n",
      "11\t12\t13\t14\t15\t16\t17\t\n",
      "\n",
      "18\t19\t20\t21\t22\t23\t24\t\n",
      "\n",
      "25\t26\t27\t28\t29\t30\t31\t\n",
      "\n",
      "\n",
      "\n",
      "\n",
      "\n",
      "\t\t 2018 년     4 월\n",
      "\n",
      "일\t월\t화\t수\t목\t금\t토\n",
      "\n",
      " 1\t 2\t 3\t 4\t 5\t 6\t 7\t\n",
      "\n",
      " 8\t 9\t10\t11\t12\t13\t14\t\n",
      "\n",
      "15\t16\t17\t18\t19\t20\t21\t\n",
      "\n",
      "22\t23\t24\t25\t26\t27\t28\t\n",
      "\n",
      "29\t30\t\n",
      "\n",
      "\n",
      "\n",
      "\t\t 2018 년     5 월\n",
      "\n",
      "일\t월\t화\t수\t목\t금\t토\n",
      "\n",
      "\t\t 1\t 2\t 3\t 4\t 5\t\n",
      "\n",
      " 6\t 7\t 8\t 9\t10\t11\t12\t\n",
      "\n",
      "13\t14\t15\t16\t17\t18\t19\t\n",
      "\n",
      "20\t21\t22\t23\t24\t25\t26\t\n",
      "\n",
      "27\t28\t29\t30\t31\t\n",
      "\n",
      "\n",
      "\n",
      "\t\t 2018 년     6 월\n",
      "\n",
      "일\t월\t화\t수\t목\t금\t토\n",
      "\n",
      "\t\t\t\t\t 1\t 2\t\n",
      "\n",
      " 3\t 4\t 5\t 6\t 7\t 8\t 9\t\n",
      "\n",
      "10\t11\t12\t13\t14\t15\t16\t\n",
      "\n",
      "17\t18\t19\t20\t21\t22\t23\t\n",
      "\n",
      "24\t25\t26\t27\t28\t29\t30\t\n",
      "\n",
      "\n",
      "\n",
      "\n",
      "\n",
      "\t\t 2018 년     7 월\n",
      "\n",
      "일\t월\t화\t수\t목\t금\t토\n",
      "\n",
      " 1\t 2\t 3\t 4\t 5\t 6\t 7\t\n",
      "\n",
      " 8\t 9\t10\t11\t12\t13\t14\t\n",
      "\n",
      "15\t16\t17\t18\t19\t20\t21\t\n",
      "\n",
      "22\t23\t24\t25\t26\t27\t28\t\n",
      "\n",
      "29\t30\t31\t\n",
      "\n",
      "\n",
      "\n",
      "\t\t 2018 년     8 월\n",
      "\n",
      "일\t월\t화\t수\t목\t금\t토\n",
      "\n",
      "\t\t\t 1\t 2\t 3\t 4\t\n",
      "\n",
      " 5\t 6\t 7\t 8\t 9\t10\t11\t\n",
      "\n",
      "12\t13\t14\t15\t16\t17\t18\t\n",
      "\n",
      "19\t20\t21\t22\t23\t24\t25\t\n",
      "\n",
      "26\t27\t28\t29\t30\t31\t\n",
      "\n",
      "\n",
      "\n",
      "\t\t 2018 년     9 월\n",
      "\n",
      "일\t월\t화\t수\t목\t금\t토\n",
      "\n",
      "\t\t\t\t\t\t 1\t\n",
      "\n",
      " 2\t 3\t 4\t 5\t 6\t 7\t 8\t\n",
      "\n",
      " 9\t10\t11\t12\t13\t14\t15\t\n",
      "\n",
      "16\t17\t18\t19\t20\t21\t22\t\n",
      "\n",
      "23\t24\t25\t26\t27\t28\t29\t\n",
      "\n",
      "30\t\n",
      "\n",
      "\n",
      "\n",
      "\t\t 2018 년     10 월\n",
      "\n",
      "일\t월\t화\t수\t목\t금\t토\n",
      "\n",
      "\t 1\t 2\t 3\t 4\t 5\t 6\t\n",
      "\n",
      " 7\t 8\t 9\t10\t11\t12\t13\t\n",
      "\n",
      "14\t15\t16\t17\t18\t19\t20\t\n",
      "\n",
      "21\t22\t23\t24\t25\t26\t27\t\n",
      "\n",
      "28\t29\t30\t31\t\n",
      "\n",
      "\n",
      "\n",
      "\t\t 2018 년     11 월\n",
      "\n",
      "일\t월\t화\t수\t목\t금\t토\n",
      "\n",
      "\t\t\t\t 1\t 2\t 3\t\n",
      "\n",
      " 4\t 5\t 6\t 7\t 8\t 9\t10\t\n",
      "\n",
      "11\t12\t13\t14\t15\t16\t17\t\n",
      "\n",
      "18\t19\t20\t21\t22\t23\t24\t\n",
      "\n",
      "25\t26\t27\t28\t29\t30\t\n",
      "\n",
      "\n",
      "\n",
      "\t\t 2018 년     12 월\n",
      "\n",
      "일\t월\t화\t수\t목\t금\t토\n",
      "\n",
      "\t\t\t\t\t\t 1\t\n",
      "\n",
      " 2\t 3\t 4\t 5\t 6\t 7\t 8\t\n",
      "\n",
      " 9\t10\t11\t12\t13\t14\t15\t\n",
      "\n",
      "16\t17\t18\t19\t20\t21\t22\t\n",
      "\n",
      "23\t24\t25\t26\t27\t28\t29\t\n",
      "\n",
      "30\t31\t\n",
      "\n",
      "\n",
      "\n"
     ]
    }
   ],
   "source": [
    "for i in range(1,13):\n",
    "    mycalendar(2018,i)"
   ]
  },
  {
   "cell_type": "markdown",
   "metadata": {},
   "source": [
    "# Class 이용한 달력"
   ]
  },
  {
   "cell_type": "code",
   "execution_count": 12,
   "metadata": {},
   "outputs": [],
   "source": [
    "#미리 준비하는 데이터를 축소 20200108\n",
    "class MyCalendar:\n",
    "    def __init__(self,y,m): #초기 생성에서 연과 월을 지정\n",
    "        self.year=y\n",
    "        self.month=m\n",
    "        self.data()\n",
    "    def setYM(self,y,m): #중간에 바꾸고 싶을 때 사용\n",
    "        self.year=y\n",
    "        self.month=m\n",
    "    def data(self): #계산을 위해서 미리 준비한 데이터\n",
    "        self.monthdays1=[31,28,31,30,31,30,31,31,30,31,30,31] #각 월의 일 수\n",
    "        #self.monthdays2=[31,29,31,30,31,30,31,31,30,31,30,31] #윤년\n",
    "        #self.monthdays3=[31,30,31,30,31,31,30,31,30,31,28,31] #과거 달력 계산을 위해 1을 뒤집음\n",
    "        #self.monthdays4=[31,30,31,30,31,31,30,31,30,31,29,31] #과거 달력 계산을 위해 2를 뒤집음\n",
    "        self.iniday1=6 #2018.12.1 의 요일(6은 토요일)  2019년 이후의 각 월별 1일의 요일을 판정하기 위한 기초값\n",
    "        self.iniday2=2 #2019.1.1 의 요일(2는 화요일)  2019년 이전의 각 월별 1일의 요일을 판정하기 위한 기초값\n",
    "    def mycalendar(self):\n",
    "        if self.year >= 2019: #2019년 이후의 달력을 위한 요일 위치 계산\n",
    "            dis=self.year-2019 #기준인 2019년 과의 차이\n",
    "            iniday=self.iniday1 #요일 계산을 위한 기초값\n",
    "            for i in range(dis+1): #평년 윤년을 판정하여 요일 계산시에 다른 날짜를 삽입\n",
    "                weekdays=[] #각 월의 1일의 요일을 저장. 누적하지 않고 루프의 마지막에 목적하는 연도의 요일 데이터가 생성된다\n",
    "                if (i+3)%4==0: #윤년을 판정에 따라 일수를 조정한 값을 사용하기 위함\n",
    "                    monthdays=self.monthdays1.copy() #윤년기준 사용\n",
    "                    monthdays[1]=29\n",
    "                    #monthdays=self.monthdays2 #윤년기준 사용\n",
    "                else:\n",
    "                    monthdays=self.monthdays1 #평년기준 사용                    \n",
    "                for i in range(12): #2019년 1월 1일의 요일위치를 바탕으로\n",
    "                    #1년치 각월의 시작요일 데이터를 생성\n",
    "                    weekday=iniday+monthdays[i-1]%7 #월의 일수를 \n",
    "                    if weekday>=7: #7로 나눈 나머지를 이용\n",
    "                        weekday=weekday-7 #6이 넘는 경우 7을 빼줌\n",
    "                    weekdays.append(weekday)\n",
    "                    iniday=weekday #다음 달의 계산을 위해 사용\n",
    "        if self.year < 2019: #2018년 이전의 각 월의 시작점을 계산하여 역순으로 저장\n",
    "            dis=2019-self.year\n",
    "            iniday=self.iniday2\n",
    "            for i in range(dis): #목적년도와의 차이\n",
    "                weekdays=[]#각 월의 1일의 요일을 저장. 누적하지 않고\n",
    "                #루프의 마지막에 목적하는 연도의 요일 데이터가 생성된다\n",
    "                monthdays=list(reversed(self.monthdays1.copy()))\n",
    "                if (i+2)%4==0: #윤년판정\n",
    "                    #monthdays=reversed(self.monthdays1.copy()) #과거로 역산하므로 뒤집어진 배열사용 윤념임\n",
    "                    monthdays[10]=29\n",
    "                    #monthdays=self.monthdays4 #과거로 역산하므로 뒤집어진 배열사용 윤념임\n",
    "                else: #평년\n",
    "                    pass\n",
    "                    #monthdays=reversed(self.monthdays1.copy())\n",
    "                    #monthdays=self.monthdays3 #뒤집어진 평년배열\n",
    "                for i in monthdays: #계산방식은 역순인거 제외하면 편년과 같음\n",
    "                    weekday=iniday-i%7\n",
    "                    if weekday<0:\n",
    "                        weekday=weekday+7                        \n",
    "                    weekdays.append(weekday)\n",
    "                    iniday=weekday                \n",
    "            temp=[] #역순인 배열을 뒤집기\n",
    "            for i in reversed(weekdays):\n",
    "                temp.append(i)                \n",
    "            weekdays=temp            \n",
    "        #여기서부터는 출력부\n",
    "        if self.year%4==0: #윤년판정\n",
    "            monthdays=self.monthdays1.copy() #윤년기준 사용\n",
    "            monthdays[1]=29\n",
    "            #monthdays=self.monthdays2            \n",
    "        else:\n",
    "            monthdays=self.monthdays1            \n",
    "        print(\"\\t\\t\",self.year,\"년\",self.month,\"월 달력\\n\\n일\\t월\\t화\\t수\\t목\\t금\\t토\\n\") #달력의 헤더\n",
    "        count=0\n",
    "        for i in range(weekdays[self.month-1]): #미리 선언한 배열에서 시작 요일의 위치를 가져와 공백 삽입\n",
    "            print(\"\\t\",end=\"\")\n",
    "        for i in range(0,monthdays[self.month-1]): #미리 선언한 배열에서 날짜 수를 가져와서 반복\n",
    "            print(\"{:>2}\".format(i+1),end=\"\\t\")\n",
    "            if ((i+weekdays[self.month-1])+1)%7 == 0: #시작 요일위치+반복시행수의 합이 7이 될때마다 개행\n",
    "                print(\"\\n\")\n",
    "                count=count+1\n",
    "        print(\"\\n\")\n",
    "        if count<5:\n",
    "            print(\"\\n\")"
   ]
  },
  {
   "cell_type": "code",
   "execution_count": 21,
   "metadata": {},
   "outputs": [
    {
     "name": "stdout",
     "output_type": "stream",
     "text": [
      "\t\t 1 년 1 월 달력\n",
      "\n",
      "일\t월\t화\t수\t목\t금\t토\n",
      "\n",
      " 1\t 2\t 3\t 4\t 5\t 6\t 7\t\n",
      "\n",
      " 8\t 9\t10\t11\t12\t13\t14\t\n",
      "\n",
      "15\t16\t17\t18\t19\t20\t21\t\n",
      "\n",
      "22\t23\t24\t25\t26\t27\t28\t\n",
      "\n",
      "29\t30\t31\t\n",
      "\n",
      "\n",
      "\n",
      "\t\t 1 년 12 월 달력\n",
      "\n",
      "일\t월\t화\t수\t목\t금\t토\n",
      "\n",
      "\t\t\t\t\t 1\t 2\t\n",
      "\n",
      " 3\t 4\t 5\t 6\t 7\t 8\t 9\t\n",
      "\n",
      "10\t11\t12\t13\t14\t15\t16\t\n",
      "\n",
      "17\t18\t19\t20\t21\t22\t23\t\n",
      "\n",
      "24\t25\t26\t27\t28\t29\t30\t\n",
      "\n",
      "31\t\n",
      "\n",
      "\t\t 2026 년 2 월 달력\n",
      "\n",
      "일\t월\t화\t수\t목\t금\t토\n",
      "\n",
      " 1\t 2\t 3\t 4\t 5\t 6\t 7\t\n",
      "\n",
      " 8\t 9\t10\t11\t12\t13\t14\t\n",
      "\n",
      "15\t16\t17\t18\t19\t20\t21\t\n",
      "\n",
      "22\t23\t24\t25\t26\t27\t28\t\n",
      "\n",
      "\n",
      "\n",
      "\n",
      "\n",
      "\t\t 2016 년 2 월 달력\n",
      "\n",
      "일\t월\t화\t수\t목\t금\t토\n",
      "\n",
      "\t 1\t 2\t 3\t 4\t 5\t 6\t\n",
      "\n",
      " 7\t 8\t 9\t10\t11\t12\t13\t\n",
      "\n",
      "14\t15\t16\t17\t18\t19\t20\t\n",
      "\n",
      "21\t22\t23\t24\t25\t26\t27\t\n",
      "\n",
      "28\t29\t\n",
      "\n",
      "\n",
      "\n"
     ]
    }
   ],
   "source": [
    "cal1=MyCalendar(1,1) #생성시에 연 월 지정\n",
    "cal1.mycalendar() #달력출력\n",
    "cal1.setYM(1,12) #생성된 클래스 활용 연월만 바꾸기\n",
    "cal1.mycalendar()\n",
    "cal1.setYM(2026,2)\n",
    "cal1.mycalendar()\n",
    "cal1.setYM(2016,2)\n",
    "cal1.mycalendar()\n"
   ]
  },
  {
   "cell_type": "code",
   "execution_count": 74,
   "metadata": {},
   "outputs": [
    {
     "name": "stdout",
     "output_type": "stream",
     "text": [
      "[1, 2, 3, 4]\n",
      "[1, 2, 3, 5]\n",
      "[1, 2, 3, 4]\n"
     ]
    }
   ],
   "source": [
    "# copy 사용법\n",
    "a=[1,2,3,4]\n",
    "print(a)\n",
    "b=a.copy()\n",
    "b[3]=5\n",
    "print(b)\n",
    "print(a)\n"
   ]
  }
 ],
 "metadata": {
  "kernelspec": {
   "display_name": "Python 3",
   "language": "python",
   "name": "python3"
  },
  "language_info": {
   "codemirror_mode": {
    "name": "ipython",
    "version": 3
   },
   "file_extension": ".py",
   "mimetype": "text/x-python",
   "name": "python",
   "nbconvert_exporter": "python",
   "pygments_lexer": "ipython3",
   "version": "3.7.4"
  }
 },
 "nbformat": 4,
 "nbformat_minor": 2
}
