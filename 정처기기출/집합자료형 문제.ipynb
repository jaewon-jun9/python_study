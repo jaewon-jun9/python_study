{
 "cells": [
  {
   "cell_type": "code",
   "execution_count": 8,
   "metadata": {},
   "outputs": [
    {
     "name": "stdout",
     "output_type": "stream",
     "text": [
      "{'국', '태', '한국', '한', '홍', '베트남', '중국', '콩'}\n"
     ]
    }
   ],
   "source": [
    "asia={\"한국\", \"중국\", \"일본\"}\n",
    "asia.add(\"베트남\")\n",
    "asia.add(\"중국\")\n",
    "asia.remove(\"일본\")\n",
    "asia.update(\"홍콩\", \"한국\", \"태국\") #집합자료형에서 업데이트 사용시 각각의 argument는 집합임\n",
    "print(asia)"
   ]
  },
  {
   "cell_type": "code",
   "execution_count": 10,
   "metadata": {},
   "outputs": [
    {
     "name": "stdout",
     "output_type": "stream",
     "text": [
      "{'일본', '한국', '중국'}\n",
      "{'베트남', '일본', '한국', '중국'}\n",
      "{'베트남', '일본', '한국', '중국'}\n",
      "{'베트남', '한국', '중국'}\n",
      "{'국', '태', '한국', '한', '홍', '베트남', '중국', '콩'}\n"
     ]
    }
   ],
   "source": [
    "asia={\"한국\", \"중국\", \"일본\"}\n",
    "print(asia)\n",
    "asia.add(\"베트남\")\n",
    "print(asia)\n",
    "asia.add(\"중국\")\n",
    "print(asia)\n",
    "asia.remove(\"일본\")\n",
    "print(asia)\n",
    "asia.update(\"홍콩\", \"한국\", \"태국\")\n",
    "print(asia)"
   ]
  },
  {
   "cell_type": "code",
   "execution_count": 7,
   "metadata": {},
   "outputs": [
    {
     "name": "stdout",
     "output_type": "stream",
     "text": [
      "{'베트남', '홍콩', '중국', '태국', '한국'}\n"
     ]
    }
   ],
   "source": [
    "asia={\"한국\", \"중국\", \"일본\"}\n",
    "asia.add(\"베트남\")\n",
    "asia.add(\"중국\")\n",
    "asia.remove(\"일본\")\n",
    "asia.update({\"홍콩\", \"한국\", \"태국\"})\n",
    "print(asia)"
   ]
  },
  {
   "cell_type": "code",
   "execution_count": 13,
   "metadata": {},
   "outputs": [
    {
     "name": "stdout",
     "output_type": "stream",
     "text": [
      "{'일본', '한국', '중국'}\n",
      "{'베트남', '일본', '한국', '중국'}\n",
      "{'베트남', '일본', '한국', '중국'}\n",
      "{'베트남', '한국', '중국'}\n",
      "{'국', '태', '한국', '한', '홍', '베트남', '중국', '콩'}\n"
     ]
    }
   ],
   "source": [
    "asia={\"한국\", \"중국\", \"일본\"}\n",
    "print(asia)\n",
    "asia.add(\"베트남\")\n",
    "print(asia)\n",
    "asia.add(\"중국\")\n",
    "print(asia)\n",
    "asia.remove(\"일본\")\n",
    "print(asia)\n",
    "asia.update(\"홍콩\", \"한국\", \"태국\")\n",
    "print(asia)"
   ]
  }
 ],
 "metadata": {
  "kernelspec": {
   "display_name": "Python 3",
   "language": "python",
   "name": "python3"
  },
  "language_info": {
   "codemirror_mode": {
    "name": "ipython",
    "version": 3
   },
   "file_extension": ".py",
   "mimetype": "text/x-python",
   "name": "python",
   "nbconvert_exporter": "python",
   "pygments_lexer": "ipython3",
   "version": "3.7.6"
  }
 },
 "nbformat": 4,
 "nbformat_minor": 4
}
