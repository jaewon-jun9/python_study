{
 "cells": [
  {
   "cell_type": "code",
   "execution_count": 2,
   "metadata": {},
   "outputs": [
    {
     "ename": "ValueError",
     "evalue": "not enough values to unpack (expected 3, got 2)",
     "output_type": "error",
     "traceback": [
      "\u001b[1;31m---------------------------------------------------------------------------\u001b[0m",
      "\u001b[1;31mValueError\u001b[0m                                Traceback (most recent call last)",
      "\u001b[1;32m<ipython-input-2-2e8dcf2d869c>\u001b[0m in \u001b[0;36m<module>\u001b[1;34m\u001b[0m\n\u001b[0;32m     12\u001b[0m \u001b[1;31m# 가장 바깥쪽 컨투어에 대해 모든 좌표 반환 ---③\u001b[0m\u001b[1;33m\u001b[0m\u001b[1;33m\u001b[0m\u001b[1;33m\u001b[0m\u001b[0m\n\u001b[0;32m     13\u001b[0m im2, contour, hierarchy = cv2.findContours(imthres, cv2.RETR_EXTERNAL, \\\n\u001b[1;32m---> 14\u001b[1;33m                                                  cv2.CHAIN_APPROX_NONE)\n\u001b[0m\u001b[0;32m     15\u001b[0m \u001b[1;31m# 가장 바깥쪽 컨투어에 대해 꼭지점 좌표만 반환 ---④\u001b[0m\u001b[1;33m\u001b[0m\u001b[1;33m\u001b[0m\u001b[1;33m\u001b[0m\u001b[0m\n\u001b[0;32m     16\u001b[0m im2, contour2, hierarchy = cv2.findContours(imthres, cv2.RETR_EXTERNAL, \\\n",
      "\u001b[1;31mValueError\u001b[0m: not enough values to unpack (expected 3, got 2)"
     ]
    }
   ],
   "source": [
    "import cv2\n",
    "import numpy as np\n",
    "\n",
    "img = cv2.imread('./img/shapes.png')\n",
    "img2 = img.copy()\n",
    "\n",
    "# 그레이 스케일로 변환 ---①\n",
    "imgray = cv2.cvtColor(img, cv2.COLOR_BGR2GRAY)\n",
    "# 스레시홀드로 바이너리 이미지로 만들어서 검은배경에 흰색전경으로 반전 ---②\n",
    "ret, imthres = cv2.threshold(imgray, 127, 255, cv2.THRESH_BINARY_INV)\n",
    "\n",
    "# 가장 바깥쪽 컨투어에 대해 모든 좌표 반환 ---③\n",
    "im2, contour, hierarchy = cv2.findContours(imthres, cv2.RETR_EXTERNAL, \\\n",
    "                                                 cv2.CHAIN_APPROX_NONE)\n",
    "# 가장 바깥쪽 컨투어에 대해 꼭지점 좌표만 반환 ---④\n",
    "im2, contour2, hierarchy = cv2.findContours(imthres, cv2.RETR_EXTERNAL, \\\n",
    "                                                cv2.CHAIN_APPROX_SIMPLE)\n",
    "# 각각의 컨투의 갯수 출력 ---⑤\n",
    "print('도형의 갯수: %d(%d)'% (len(contour), len(contour2)))\n",
    "\n",
    "# 모든 좌표를 갖는 컨투어 그리기, 초록색  ---⑥\n",
    "cv2.drawContours(img, contour, -1, (0,255,0), 4)\n",
    "# 꼭지점 좌표만을 갖는 컨투어 그리기, 초록색  ---⑦\n",
    "cv2.drawContours(img2, contour2, -1, (0,255,0), 4)\n",
    "\n",
    "# 컨투어 모든 좌표를 작은 파랑색 점(원)으로 표시 ---⑧\n",
    "for i in contour:\n",
    "    for j in i:\n",
    "        cv2.circle(img, tuple(j[0]), 1, (255,0,0), -1) \n",
    "\n",
    "# 컨투어 꼭지점 좌표를 작은 파랑색 점(원)으로 표시 ---⑨\n",
    "for i in contour2:\n",
    "    for j in i:\n",
    "        cv2.circle(img2, tuple(j[0]), 1, (255,0,0), -1) \n",
    "\n",
    "# 결과 출력 ---⑩\n",
    "cv2.imshow('CHAIN_APPROX_NONE', img)\n",
    "cv2.imshow('CHAIN_APPROX_SIMPLE', img2)\n",
    "cv2.waitKey(0)\n",
    "cv2.destroyAllWindows()"
   ]
  },
  {
   "cell_type": "code",
   "execution_count": null,
   "metadata": {},
   "outputs": [],
   "source": []
  }
 ],
 "metadata": {
  "kernelspec": {
   "display_name": "Python 3",
   "language": "python",
   "name": "python3"
  },
  "language_info": {
   "codemirror_mode": {
    "name": "ipython",
    "version": 3
   },
   "file_extension": ".py",
   "mimetype": "text/x-python",
   "name": "python",
   "nbconvert_exporter": "python",
   "pygments_lexer": "ipython3",
   "version": "3.7.6"
  }
 },
 "nbformat": 4,
 "nbformat_minor": 4
}
