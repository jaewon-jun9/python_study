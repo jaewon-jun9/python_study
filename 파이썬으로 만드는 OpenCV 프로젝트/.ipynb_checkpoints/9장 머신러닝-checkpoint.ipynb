{
 "cells": [
  {
   "cell_type": "code",
   "execution_count": 1,
   "metadata": {},
   "outputs": [
    {
     "data": {
      "image/png": "[encoded data removed]",
      "text/plain": [
       "<Figure size 432x288 with 1 Axes>"
      ]
     },
     "metadata": {
      "needs_background": "light"
     },
     "output_type": "display_data"
    }
   ],
   "source": [
    "import numpy as np, cv2\n",
    "import matplotlib.pyplot as plt\n",
    "\n",
    "# 0~150 임의의 2수, 25개 ---①\n",
    "a = np.random.randint(0,150,(25,2))\n",
    "# 128~255 임의의 2수, 25개  ---②\n",
    "b = np.random.randint(128, 255,(25,2))\n",
    "# a, b를 병합 ---③\n",
    "data = np.vstack((a,b)).astype(np.float32)\n",
    "# 중지 요건 ---④\n",
    "criteria = (cv2.TERM_CRITERIA_EPS + cv2.TERM_CRITERIA_MAX_ITER, 10, 1.0)\n",
    "# 평균 클러스터링 적용 ---⑤\n",
    "ret,label,center=cv2.kmeans(data,2,None,criteria,10,cv2.KMEANS_RANDOM_CENTERS)\n",
    "# label에 따라 결과 분류 ---⑥\n",
    "red = data[label.ravel()==0]\n",
    "blue = data[label.ravel()==1]\n",
    "\n",
    "# plot에 결과 출력 ---⑦\n",
    "plt.scatter(red[:,0],red[:,1], c='r')\n",
    "plt.scatter(blue[:,0],blue[:,1], c='b')\n",
    "# 각 그룹의 중앙점 출력 ---⑧\n",
    "plt.scatter(center[0,0],center[0,1], s=100, c='r', marker='s')\n",
    "plt.scatter(center[1,0],center[1,1], s=100, c='b', marker='s')\n",
    "plt.show()"
   ]
  },
  {
   "cell_type": "code",
   "execution_count": 1,
   "metadata": {},
   "outputs": [
    {
     "name": "stdout",
     "output_type": "stream",
     "text": [
      "[[  9 139 179]\n",
      " [ 10 106 134]\n",
      " [ 74  76 184]\n",
      " [126  71  29]\n",
      " [155 152 143]\n",
      " [171  99  27]\n",
      " [142 118  75]\n",
      " [ 55  23   8]\n",
      " [189 191 190]\n",
      " [ 75  61  53]\n",
      " [204 142  63]\n",
      " [ 19  17 149]\n",
      " [ 99  48  17]\n",
      " [209 212 213]\n",
      " [ 90 109 101]\n",
      " [ 42 181 200]]\n"
     ]
    }
   ],
   "source": [
    "import numpy as np\n",
    "import cv2\n",
    "\n",
    "K = 16 # 군집화 갯수(16컬러) ---①\n",
    "img = cv2.imread('./img/taekwonv1.jpg')\n",
    "# 군집화를 위한 데이타 구조와 형식 변환 ---②\n",
    "data = img.reshape((-1,3)).astype(np.float32)\n",
    "# 반복 중지 요건 ---③\n",
    "criteria = (cv2.TERM_CRITERIA_EPS + cv2.TERM_CRITERIA_MAX_ITER, 10, 1.0)\n",
    "# 평균 클러스터링 적용 ---④\n",
    "ret,label,center=cv2.kmeans(data,K,None,criteria,10,cv2.KMEANS_RANDOM_CENTERS)\n",
    "# 중심 값을 정수형으로 변환 ---⑤\n",
    "center = np.uint8(center)\n",
    "print(center)\n",
    "# 각 레이블에 해당하는 중심값으로 픽셀 값 선택 ---⑥\n",
    "res = center[label.flatten()]\n",
    "# 원본 영상의 형태로 변환 ---⑦\n",
    "res = res.reshape((img.shape))\n",
    "# 결과 출력 ---⑧\n",
    "merged = np.hstack((img, res))\n",
    "cv2.imshow('KMeans Color',merged)\n",
    "cv2.waitKey(0)\n",
    "cv2.destroyAllWindows()"
   ]
  },
  {
   "cell_type": "code",
   "execution_count": 1,
   "metadata": {},
   "outputs": [],
   "source": [
    "import numpy as np, cv2\n",
    "\n",
    "data = None  # 이미지 데이타 셋 \n",
    "k = list(range(10)) # [0,1,2,3,4,5,6,7,8,9] 레이블 셋\n",
    "\n",
    "# 이미지 데이타 읽어들이는 함수 ---①\n",
    "def load():\n",
    "    global data\n",
    "    # 0~9 각각 500(5x100)개, 총5000(50x100)개, 한 숫자당 400(20x20)픽셀\n",
    "    image = cv2.imread('./img/digits.png')\n",
    "    gray = cv2.cvtColor(image,cv2.COLOR_BGR2GRAY)\n",
    "    # 숫자 한개(20x20)씩 구분하기 위해 행별(50)로 나누고 열별(100)로 나누기\n",
    "    cells = [np.hsplit(row,100) for row in np.vsplit(gray,50)]\n",
    "    # 리스트를 NumPy 배열로  변환 (50 x 100 x 20 x 20 )\n",
    "    data = np.array(cells)\n",
    "\n",
    "# 모든 숫자 데이타 반환 ---②\n",
    "def getData(reshape=True):\n",
    "    if data is None: load() # 이미지 읽기 확인\n",
    "    # 모든 데이타를 N x 400 형태로 변환\n",
    "    if reshape:\n",
    "        full = data.reshape(-1, 400).astype(np.float32) # 5000x400\n",
    "    else:\n",
    "        full = data\n",
    "    labels = np.repeat(k,500).reshape(-1,1)  # 각 숫자당 500번 반복(10x500)\n",
    "    return (full, labels)\n",
    "\n",
    "# 훈련용 데이타 반환 ---③\n",
    "def getTrain(reshape=True):\n",
    "    if data is None: load() # 이미지 읽기 확인\n",
    "    # 50x100 중에 90열만 훈련 데이타로 사용\n",
    "    train = data[:,:90]\n",
    "    if reshape:\n",
    "        # 훈련 데이타를 N X 400으로 변환\n",
    "        train = train.reshape(-1,400).astype(np.float32) # 4500x400\n",
    "    # 레이블 생성\n",
    "    train_labels = np.repeat(k,450).reshape(-1,1) # 각 숫자당 45번 반복(10x450)\n",
    "    return (train, train_labels)\n",
    "\n",
    "# 테스트용 데이타 반환 ---④\n",
    "def getTest(reshape=True):\n",
    "    if data is None: load()\n",
    "    # 50x100 중에 마지막 10열만 훈련 데이타로 사용\n",
    "    test = data[:,90:100]\n",
    "    # 테스트 데이타를 N x 400으로 변환\n",
    "    if reshape:\n",
    "        test = test.reshape(-1,400).astype(np.float32) # 500x400\n",
    "    test_labels = np.repeat(k,50).reshape(-1,1)\n",
    "    return (test, test_labels)\n",
    "\n",
    "\n",
    "# 손글씨 숫자 한 개를 20x20 로 변환후에 1x400 형태로 변환 ---⑤\n",
    "def digit2data(src, reshape=True):\n",
    "    h, w = src.shape[:2]\n",
    "    square = src\n",
    "    # 정사각형 형태로 만들기\n",
    "    if h > w:\n",
    "        pad = (h - w)//2\n",
    "        square = np.zeros((h, h), dtype=np.uint8)\n",
    "        square[:, pad:pad+w] = src\n",
    "    elif w > h :\n",
    "        pad = (w - h)//2\n",
    "        square = np.zeros((w, w), dtype=np.uint8)\n",
    "        square[pad:pad+h, :] = src\n",
    "    # 0으로 채워진 20x20 이미지 생성\n",
    "    px20 = np.zeros((20,20), np.uint8)\n",
    "    # 원본을 16x16으로 축소해서 테두리 2픽셀 확보\n",
    "    px20[2:18, 2:18] = cv2.resize(square, (16,16), interpolation=cv2.INTER_AREA)\n",
    "    if reshape:\n",
    "        # 1x400형태로 변환\n",
    "        px20 = px20.reshape((1,400)).astype(np.float32)\n",
    "    return px20\n"
   ]
  },
  {
   "cell_type": "code",
   "execution_count": 4,
   "metadata": {},
   "outputs": [
    {
     "ename": "error",
     "evalue": "OpenCV(4.3.0) C:\\projects\\opencv-python\\opencv\\modules\\imgproc\\src\\color.cpp:182: error: (-215:Assertion failed) !_src.empty() in function 'cv::cvtColor'\n",
     "output_type": "error",
     "traceback": [
      "\u001b[1;31m---------------------------------------------------------------------------\u001b[0m",
      "\u001b[1;31merror\u001b[0m                                     Traceback (most recent call last)",
      "\u001b[1;32m<ipython-input-4-841c2418d335>\u001b[0m in \u001b[0;36m<module>\u001b[1;34m\u001b[0m\n\u001b[0;32m      4\u001b[0m \u001b[1;33m\u001b[0m\u001b[0m\n\u001b[0;32m      5\u001b[0m \u001b[1;31m# 공통 모듈로 부터 MINST 전체 이미지 데이타 읽기 ---①\u001b[0m\u001b[1;33m\u001b[0m\u001b[1;33m\u001b[0m\u001b[1;33m\u001b[0m\u001b[0m\n\u001b[1;32m----> 6\u001b[1;33m \u001b[0mdata\u001b[0m\u001b[1;33m,\u001b[0m \u001b[0m_\u001b[0m \u001b[1;33m=\u001b[0m \u001b[0mmnist\u001b[0m\u001b[1;33m.\u001b[0m\u001b[0mgetData\u001b[0m\u001b[1;33m(\u001b[0m\u001b[1;33m)\u001b[0m\u001b[1;33m\u001b[0m\u001b[1;33m\u001b[0m\u001b[0m\n\u001b[0m\u001b[0;32m      7\u001b[0m \u001b[1;31m# 중지 요건\u001b[0m\u001b[1;33m\u001b[0m\u001b[1;33m\u001b[0m\u001b[1;33m\u001b[0m\u001b[0m\n\u001b[0;32m      8\u001b[0m \u001b[0mcriteria\u001b[0m \u001b[1;33m=\u001b[0m \u001b[1;33m(\u001b[0m\u001b[0mcv2\u001b[0m\u001b[1;33m.\u001b[0m\u001b[0mTERM_CRITERIA_EPS\u001b[0m \u001b[1;33m+\u001b[0m \u001b[0mcv2\u001b[0m\u001b[1;33m.\u001b[0m\u001b[0mTERM_CRITERIA_MAX_ITER\u001b[0m\u001b[1;33m,\u001b[0m \u001b[1;36m10\u001b[0m\u001b[1;33m,\u001b[0m \u001b[1;36m1.0\u001b[0m\u001b[1;33m)\u001b[0m\u001b[1;33m\u001b[0m\u001b[1;33m\u001b[0m\u001b[0m\n",
      "\u001b[1;32mF:\\code\\python_study\\파이썬으로 만드는 OpenCV 프로젝트\\mnist.py\u001b[0m in \u001b[0;36mgetData\u001b[1;34m(reshape)\u001b[0m\n\u001b[0;32m     17\u001b[0m \u001b[1;31m# 모든 숫자 데이타 반환 ---②\u001b[0m\u001b[1;33m\u001b[0m\u001b[1;33m\u001b[0m\u001b[1;33m\u001b[0m\u001b[0m\n\u001b[0;32m     18\u001b[0m \u001b[1;32mdef\u001b[0m \u001b[0mgetData\u001b[0m\u001b[1;33m(\u001b[0m\u001b[0mreshape\u001b[0m\u001b[1;33m=\u001b[0m\u001b[1;32mTrue\u001b[0m\u001b[1;33m)\u001b[0m\u001b[1;33m:\u001b[0m\u001b[1;33m\u001b[0m\u001b[1;33m\u001b[0m\u001b[0m\n\u001b[1;32m---> 19\u001b[1;33m     \u001b[1;32mif\u001b[0m \u001b[0mdata\u001b[0m \u001b[1;32mis\u001b[0m \u001b[1;32mNone\u001b[0m\u001b[1;33m:\u001b[0m \u001b[0mload\u001b[0m\u001b[1;33m(\u001b[0m\u001b[1;33m)\u001b[0m \u001b[1;31m# 이미지 읽기 확인\u001b[0m\u001b[1;33m\u001b[0m\u001b[1;33m\u001b[0m\u001b[0m\n\u001b[0m\u001b[0;32m     20\u001b[0m     \u001b[1;31m# 모든 데이타를 N x 400 형태로 변환\u001b[0m\u001b[1;33m\u001b[0m\u001b[1;33m\u001b[0m\u001b[1;33m\u001b[0m\u001b[0m\n\u001b[0;32m     21\u001b[0m     \u001b[1;32mif\u001b[0m \u001b[0mreshape\u001b[0m\u001b[1;33m:\u001b[0m\u001b[1;33m\u001b[0m\u001b[1;33m\u001b[0m\u001b[0m\n",
      "\u001b[1;32mF:\\code\\python_study\\파이썬으로 만드는 OpenCV 프로젝트\\mnist.py\u001b[0m in \u001b[0;36mload\u001b[1;34m()\u001b[0m\n\u001b[0;32m      9\u001b[0m     \u001b[1;31m# 0~9 각각 500(5x100)개, 총5000(50x100)개, 한 숫자당 400(20x20)픽셀\u001b[0m\u001b[1;33m\u001b[0m\u001b[1;33m\u001b[0m\u001b[1;33m\u001b[0m\u001b[0m\n\u001b[0;32m     10\u001b[0m     \u001b[0mimage\u001b[0m \u001b[1;33m=\u001b[0m \u001b[0mcv2\u001b[0m\u001b[1;33m.\u001b[0m\u001b[0mimread\u001b[0m\u001b[1;33m(\u001b[0m\u001b[1;34m'./img/digits.png'\u001b[0m\u001b[1;33m)\u001b[0m\u001b[1;33m\u001b[0m\u001b[1;33m\u001b[0m\u001b[0m\n\u001b[1;32m---> 11\u001b[1;33m     \u001b[0mgray\u001b[0m \u001b[1;33m=\u001b[0m \u001b[0mcv2\u001b[0m\u001b[1;33m.\u001b[0m\u001b[0mcvtColor\u001b[0m\u001b[1;33m(\u001b[0m\u001b[0mimage\u001b[0m\u001b[1;33m,\u001b[0m\u001b[0mcv2\u001b[0m\u001b[1;33m.\u001b[0m\u001b[0mCOLOR_BGR2GRAY\u001b[0m\u001b[1;33m)\u001b[0m\u001b[1;33m\u001b[0m\u001b[1;33m\u001b[0m\u001b[0m\n\u001b[0m\u001b[0;32m     12\u001b[0m     \u001b[1;31m# 숫자 한개(20x20)씩 구분하기 위해 행별(50)로 나누고 열별(100)로 나누기\u001b[0m\u001b[1;33m\u001b[0m\u001b[1;33m\u001b[0m\u001b[1;33m\u001b[0m\u001b[0m\n\u001b[0;32m     13\u001b[0m     \u001b[0mcells\u001b[0m \u001b[1;33m=\u001b[0m \u001b[1;33m[\u001b[0m\u001b[0mnp\u001b[0m\u001b[1;33m.\u001b[0m\u001b[0mhsplit\u001b[0m\u001b[1;33m(\u001b[0m\u001b[0mrow\u001b[0m\u001b[1;33m,\u001b[0m\u001b[1;36m100\u001b[0m\u001b[1;33m)\u001b[0m \u001b[1;32mfor\u001b[0m \u001b[0mrow\u001b[0m \u001b[1;32min\u001b[0m \u001b[0mnp\u001b[0m\u001b[1;33m.\u001b[0m\u001b[0mvsplit\u001b[0m\u001b[1;33m(\u001b[0m\u001b[0mgray\u001b[0m\u001b[1;33m,\u001b[0m\u001b[1;36m50\u001b[0m\u001b[1;33m)\u001b[0m\u001b[1;33m]\u001b[0m\u001b[1;33m\u001b[0m\u001b[1;33m\u001b[0m\u001b[0m\n",
      "\u001b[1;31merror\u001b[0m: OpenCV(4.3.0) C:\\projects\\opencv-python\\opencv\\modules\\imgproc\\src\\color.cpp:182: error: (-215:Assertion failed) !_src.empty() in function 'cv::cvtColor'\n"
     ]
    }
   ],
   "source": [
    "import cv2, numpy as np\n",
    "import matplotlib.pyplot as plt\n",
    "import mnist\n",
    "\n",
    "# 공통 모듈로 부터 MINST 전체 이미지 데이타 읽기 ---①\n",
    "data, _ = mnist.getData()\n",
    "# 중지 요건 \n",
    "criteria = (cv2.TERM_CRITERIA_EPS + cv2.TERM_CRITERIA_MAX_ITER, 10, 1.0)\n",
    "# 평균 클러스터링 적용, 10개의 그룹으로 묶음 ---②\n",
    "ret,label,center=cv2.kmeans(data,10,None,criteria,10,cv2.KMEANS_RANDOM_CENTERS)\n",
    "# 중앙점 이미지 출력\n",
    "for i in range(10):\n",
    "    # 각 중앙점 값으로 이미지 생성 ---③\n",
    "    cent_img = center[i].reshape(20,20).astype(np.uint8)\n",
    "    plt.subplot(2,5, i+1)\n",
    "    plt.imshow(cent_img, 'gray')\n",
    "    plt.xticks([]);plt.yticks([])\n",
    "plt.show()"
   ]
  },
  {
   "cell_type": "code",
   "execution_count": 5,
   "metadata": {},
   "outputs": [
    {
     "name": "stdout",
     "output_type": "stream",
     "text": [
      "ret:1.0, result:[[1.]], negibours:[[1. 1. 1.]], distance:[[ 160. 1125. 1746.]]\n"
     ]
    },
    {
     "data": {
      "image/png": "[encoded data removed]",
      "text/plain": [
       "<Figure size 432x288 with 1 Axes>"
      ]
     },
     "metadata": {
      "needs_background": "light"
     },
     "output_type": "display_data"
    }
   ],
   "source": [
    "import cv2,  numpy as np,  matplotlib.pyplot as plt\n",
    "\n",
    "# 0~99 사이의 랜덤한 수 25x2개 데이타 생성 ---①\n",
    "trainData = np.random.randint(0,100,(25,2)).astype(np.float32)\n",
    "# 0~1 사이의 랜덤 수 25x1개 레이블 생성 ---②\n",
    "labels = np.random.randint(0,2,(25,1))\n",
    "# 레이블 값 0과 같은 자리는 red, 1과 같은 자리는 blue로 분류해서 표시\n",
    "red = trainData[labels.ravel()==0]\n",
    "blue = trainData[labels.ravel()==1]\n",
    "plt.scatter(red[:,0], red[:,1], 80, 'r', '^') # 빨강색 삼각형\n",
    "plt.scatter(blue[:,0], blue[:,1], 80, 'b', 's')# 파랑색 사각형\n",
    "\n",
    "# 0 ~ 99 사이의 랜덤 수 신규 데이타 생성 ---③\n",
    "newcomer = np.random.randint(0,100,(1,2)).astype(np.float32)\n",
    "plt.scatter(newcomer[:,0],newcomer[:,1],80,'g','o') # 초록색 원\n",
    "\n",
    "# KNearest 알고리즘 객체 생성 ---④\n",
    "knn = cv2.ml.KNearest_create()\n",
    "# train, 행 단위 샘플 ---⑤\n",
    "knn.train(trainData, cv2.ml.ROW_SAMPLE, labels)\n",
    "# 예측 ---⑥\n",
    "#ret, results = knn.predict(newcomer)\n",
    "ret, results, neighbours ,dist = knn.findNearest(newcomer, 3)#K=3\n",
    "# 결과 출력\n",
    "print('ret:%s, result:%s, negibours:%s, distance:%s' \\\n",
    "        %(ret,results, neighbours, dist))\n",
    "plt.annotate('red' if ret==0.0 else 'blue', xy=newcomer[0], \\\n",
    "             xytext=(newcomer[0]+1))\n",
    "plt.show()"
   ]
  },
  {
   "cell_type": "code",
   "execution_count": null,
   "metadata": {},
   "outputs": [],
   "source": []
  }
 ],
 "metadata": {
  "kernelspec": {
   "display_name": "Python 3",
   "language": "python",
   "name": "python3"
  },
  "language_info": {
   "codemirror_mode": {
    "name": "ipython",
    "version": 3
   },
   "file_extension": ".py",
   "mimetype": "text/x-python",
   "name": "python",
   "nbconvert_exporter": "python",
   "pygments_lexer": "ipython3",
   "version": "3.7.6"
  }
 },
 "nbformat": 4,
 "nbformat_minor": 4
}
