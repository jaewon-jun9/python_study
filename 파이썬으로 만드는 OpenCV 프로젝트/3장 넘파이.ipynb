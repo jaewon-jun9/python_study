{
 "cells": [
  {
   "cell_type": "code",
   "execution_count": 3,
   "metadata": {},
   "outputs": [
    {
     "data": {
      "image/png": "[encoded data removed]",
      "text/plain": [
       "<Figure size 432x288 with 1 Axes>"
      ]
     },
     "metadata": {
      "needs_background": "light"
     },
     "output_type": "display_data"
    }
   ],
   "source": [
    "import cv2\n",
    "import numpy as np\n",
    "\n",
    "img = np.zeros((120,120), dtype=np.uint8)   # 120x120 2차원 배열 생성, 검은색 흑백 이미지\n",
    "img[25:35, :] = 45                          # 25~35행 모든 열에 45 할당 \n",
    "img[55:65, :] = 115                         # 55~65행 모든 열에 115 할당 \n",
    "img[85:95, :] = 160                         # 85~95행 모든 열에 160 할당 \n",
    "img[:, 35:45] = 205                         # 모든행 35~45 열에 205 할당 \n",
    "img[:, 75:85] = 255                         # 모든행 75~85 열에 255 할당 \n",
    "cv2.imshow('Gray', img)\n",
    "if cv2.waitKey(0) & 0xFF == 27:\n",
    "    cv2.destroyAllWindows()\n",
    "import matplotlib.pyplot as plt\n",
    "%matplotlib inline\n",
    "plt.imshow(img,cmap='gray')\n",
    "plt.show()    "
   ]
  },
  {
   "cell_type": "code",
   "execution_count": null,
   "metadata": {},
   "outputs": [],
   "source": []
  }
 ],
 "metadata": {
  "kernelspec": {
   "display_name": "Python 3",
   "language": "python",
   "name": "python3"
  },
  "language_info": {
   "codemirror_mode": {
    "name": "ipython",
    "version": 3
   },
   "file_extension": ".py",
   "mimetype": "text/x-python",
   "name": "python",
   "nbconvert_exporter": "python",
   "pygments_lexer": "ipython3",
   "version": "3.7.6"
  }
 },
 "nbformat": 4,
 "nbformat_minor": 4
}
