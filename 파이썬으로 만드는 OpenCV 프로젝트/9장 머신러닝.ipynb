{
 "cells": [
  {
   "cell_type": "code",
   "execution_count": 1,
   "metadata": {},
   "outputs": [
    {
     "data": {
      "image/png": "[encoded data removed]",
      "text/plain": [
       "<Figure size 432x288 with 1 Axes>"
      ]
     },
     "metadata": {
      "needs_background": "light"
     },
     "output_type": "display_data"
    }
   ],
   "source": [
    "import numpy as np, cv2\n",
    "import matplotlib.pyplot as plt\n",
    "\n",
    "# 0~150 임의의 2수, 25개 ---①\n",
    "a = np.random.randint(0,150,(25,2))\n",
    "# 128~255 임의의 2수, 25개  ---②\n",
    "b = np.random.randint(128, 255,(25,2))\n",
    "# a, b를 병합 ---③\n",
    "data = np.vstack((a,b)).astype(np.float32)\n",
    "# 중지 요건 ---④\n",
    "criteria = (cv2.TERM_CRITERIA_EPS + cv2.TERM_CRITERIA_MAX_ITER, 10, 1.0)\n",
    "# 평균 클러스터링 적용 ---⑤\n",
    "ret,label,center=cv2.kmeans(data,2,None,criteria,10,cv2.KMEANS_RANDOM_CENTERS)\n",
    "# label에 따라 결과 분류 ---⑥\n",
    "red = data[label.ravel()==0]\n",
    "blue = data[label.ravel()==1]\n",
    "\n",
    "# plot에 결과 출력 ---⑦\n",
    "plt.scatter(red[:,0],red[:,1], c='r')\n",
    "plt.scatter(blue[:,0],blue[:,1], c='b')\n",
    "# 각 그룹의 중앙점 출력 ---⑧\n",
    "plt.scatter(center[0,0],center[0,1], s=100, c='r', marker='s')\n",
    "plt.scatter(center[1,0],center[1,1], s=100, c='b', marker='s')\n",
    "plt.show()"
   ]
  },
  {
   "cell_type": "code",
   "execution_count": null,
   "metadata": {},
   "outputs": [],
   "source": []
  }
 ],
 "metadata": {
  "kernelspec": {
   "display_name": "Python 3",
   "language": "python",
   "name": "python3"
  },
  "language_info": {
   "codemirror_mode": {
    "name": "ipython",
    "version": 3
   },
   "file_extension": ".py",
   "mimetype": "text/x-python",
   "name": "python",
   "nbconvert_exporter": "python",
   "pygments_lexer": "ipython3",
   "version": "3.7.6"
  }
 },
 "nbformat": 4,
 "nbformat_minor": 4
}
