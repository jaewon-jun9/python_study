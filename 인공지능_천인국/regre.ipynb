{
 "cells": [
  {
   "cell_type": "code",
   "execution_count": 1,
   "metadata": {},
   "outputs": [
    {
     "name": "stdout",
     "output_type": "stream",
     "text": [
      "1.2532418085611319 2.745502230882486\n"
     ]
    },
    {
     "data": {
      "image/png": "[encoded data removed]",
      "text/plain": [
       "<Figure size 432x288 with 1 Axes>"
      ]
     },
     "metadata": {
      "needs_background": "light"
     },
     "output_type": "display_data"
    }
   ],
   "source": [
    "import numpy as np\n",
    "import matplotlib.pyplot as plt\n",
    "\n",
    "X = np.array([0.0, 1.0, 2.0])\n",
    "y = np.array([3.0, 3.5, 5.5])\n",
    "\n",
    "W = 0       # 기울기\n",
    "b = 0       # 절편\n",
    "\n",
    "lrate = 0.01  # 학습률\n",
    "epochs = 1000  # 반복 횟수\n",
    "\n",
    "n = float(len(X)) # 입력 데이터의 개수\n",
    "\n",
    "# 경사 하강법\n",
    "for i in range(epochs): \n",
    "    y_pred = W*X + b  # 예측값\n",
    "    dW = (2/n) * sum(X * (y_pred-y)) \n",
    "    db = (2/n) * sum(y_pred-y)  \n",
    "    W = W - lrate * dW  # 기울기 수정\n",
    "    b = b - lrate * db  # 절편 수정\n",
    "# 기울기와 절편을 출력한다. \n",
    "print (W, b)\n",
    "\n",
    "# 예측값을 만든다.\n",
    "y_pred = W*X + b\n",
    "\n",
    "# 입력 데이터를 그래프 상에 찍는다. \n",
    "plt.scatter(X, y) \n",
    "\n",
    "# 예측값은 선그래프로 그린다. \n",
    "plt.plot([min(X), max(X)], [min(y_pred), max(y_pred)], color='red')\n",
    "plt.show()\n"
   ]
  },
  {
   "cell_type": "code",
   "execution_count": null,
   "metadata": {},
   "outputs": [],
   "source": [
    "import matplotlib.pylab as plt\n",
    "from sklearn import linear_model\n",
    "\n",
    "# 선형 회귀 모델을 생성한다. \n",
    "reg = linear_model.LinearRegression()\n",
    "\n",
    "# 데이터는 파이썬의 리스트로 만들어도 되고 아니면 넘파이의 배열로 만들어도 됨\n",
    "X = [[0], [1], [2]]\t\t# 2차원으로 만들어야 함\n",
    "y = [3, 3.5, 5.5]\t\t# y = x + 3\n",
    "\n",
    "# 학습을 시킨다. \n",
    "reg.fit(X, y)\t\n"
   ]
  }
 ],
 "metadata": {
  "kernelspec": {
   "display_name": "Python 3",
   "language": "python",
   "name": "python3"
  },
  "language_info": {
   "codemirror_mode": {
    "name": "ipython",
    "version": 3
   },
   "file_extension": ".py",
   "mimetype": "text/x-python",
   "name": "python",
   "nbconvert_exporter": "python",
   "pygments_lexer": "ipython3",
   "version": "3.7.6"
  }
 },
 "nbformat": 4,
 "nbformat_minor": 4
}
