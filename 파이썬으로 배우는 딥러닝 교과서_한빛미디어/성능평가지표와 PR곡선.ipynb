{
 "cells": [
  {
   "cell_type": "markdown",
   "metadata": {},
   "source": [
    "3-1"
   ]
  },
  {
   "cell_type": "code",
   "execution_count": 1,
   "metadata": {},
   "outputs": [],
   "source": [
    "import numpy\n",
    "from sklearn.metrics import confusion_matrix"
   ]
  },
  {
   "cell_type": "code",
   "execution_count": 2,
   "metadata": {},
   "outputs": [],
   "source": [
    "y_true=[0,0,0,1,1,1]\n",
    "y_pred=[1,0,0,1,1,1]"
   ]
  },
  {
   "cell_type": "code",
   "execution_count": 3,
   "metadata": {},
   "outputs": [],
   "source": [
    "confmat = confusion_matrix(y_true,y_pred)"
   ]
  },
  {
   "cell_type": "code",
   "execution_count": 4,
   "metadata": {},
   "outputs": [
    {
     "name": "stdout",
     "output_type": "stream",
     "text": [
      "[[2 1]\n",
      " [0 3]]\n"
     ]
    }
   ],
   "source": [
    "print(confmat)"
   ]
  },
  {
   "cell_type": "markdown",
   "metadata": {},
   "source": [
    "3-3"
   ]
  },
  {
   "cell_type": "code",
   "execution_count": 5,
   "metadata": {},
   "outputs": [],
   "source": [
    "from sklearn.metrics import precision_score\n",
    "from sklearn.metrics import recall_score, f1_score"
   ]
  },
  {
   "cell_type": "code",
   "execution_count": 6,
   "metadata": {},
   "outputs": [],
   "source": [
    "y_true=[0,0,0,1,1,1]\n",
    "y_pred=[1,0,0,1,1,1]"
   ]
  },
  {
   "cell_type": "code",
   "execution_count": 7,
   "metadata": {},
   "outputs": [
    {
     "name": "stdout",
     "output_type": "stream",
     "text": [
      "Precision: 0.750\n",
      "Recall: 1.000\n",
      "F1: 0.857\n"
     ]
    }
   ],
   "source": [
    "print(\"Precision: %.3f\" % precision_score(y_true, y_pred))\n",
    "print(\"Recall: %.3f\" % recall_score(y_true, y_pred))\n",
    "print(\"F1: %.3f\" % f1_score(y_true, y_pred))\n"
   ]
  },
  {
   "cell_type": "code",
   "execution_count": 8,
   "metadata": {},
   "outputs": [
    {
     "name": "stdout",
     "output_type": "stream",
     "text": [
      "F1: 0.800\n"
     ]
    }
   ],
   "source": [
    "# 적합율, 재현율, F1\n",
    "from sklearn.metrics import precision_score\n",
    "from sklearn.metrics import recall_score, f1_score \n",
    "\n",
    "# 데이터를 저장합니다. 여기에서는 0이 음성, 1이 양성을 보여줍니다\n",
    "y_true = [1,1,1,0,0,0]\n",
    "y_pred = [0,1,1,0,0,0] \n",
    "\n",
    "# 적합율과 재현율을 미리 계산합니다\n",
    "precision = precision_score(y_true, y_pred)\n",
    "recall = recall_score(y_true, y_pred) \n",
    "\n",
    "# 다음 줄에 F1 점수의 정의식을 작성하세요\n",
    "f1_score = 2 * (precision*recall) / (precision+recall)\n",
    "\n",
    "print(\"F1: %.3f\" % f1_score)\n"
   ]
  },
  {
   "cell_type": "code",
   "execution_count": 12,
   "metadata": {},
   "outputs": [
    {
     "name": "stdout",
     "output_type": "stream",
     "text": [
      "Accuracy: 0.60\n"
     ]
    }
   ],
   "source": [
    "import matplotlib.pyplot as plt\n",
    "import numpy as np\n",
    "import pandas as pd\n",
    "from sklearn import datasets\n",
    "from sklearn import svm\n",
    "from sklearn.model_selection import train_test_split\n",
    "from sklearn.metrics import accuracy_score\n",
    "\n",
    "# (1.)\n",
    "#Iris 데이터 세트를 로드합니다\n",
    "iris = datasets.load_iris()\n",
    "# 3, 4번째의 특징을 추출합니다\n",
    "X = iris.data[:, [2,3]]\n",
    "# 클래스 라벨을 가져옵니다\n",
    "y = iris.target\n",
    "\n",
    "# (2.)\n",
    "X_train, X_test, y_train, y_test = train_test_split(\n",
    "X, y, test_size=0.3, random_state=0)\n",
    "\n",
    "# (3.)\n",
    "svc = svm.SVC(C=1, kernel='rbf', gamma=0.001)\n",
    "svc.fit(X_train, y_train)\n",
    "\n",
    "# (4.)\n",
    "y_pred = svc.predict(X_test)\n",
    "print (\"Accuracy: %.2f\"% accuracy_score(y_test, y_pred))"
   ]
  },
  {
   "cell_type": "code",
   "execution_count": null,
   "metadata": {},
   "outputs": [],
   "source": []
  }
 ],
 "metadata": {
  "kernelspec": {
   "display_name": "Python 3",
   "language": "python",
   "name": "python3"
  },
  "language_info": {
   "codemirror_mode": {
    "name": "ipython",
    "version": 3
   },
   "file_extension": ".py",
   "mimetype": "text/x-python",
   "name": "python",
   "nbconvert_exporter": "python",
   "pygments_lexer": "ipython3",
   "version": "3.7.4"
  }
 },
 "nbformat": 4,
 "nbformat_minor": 2
}
