{
 "cells": [
  {
   "cell_type": "code",
   "execution_count": 2,
   "metadata": {},
   "outputs": [
    {
     "data": {
      "image/png": "[encoded data removed]",
      "text/plain": [
       "<Figure size 432x288 with 1 Axes>"
      ]
     },
     "metadata": {
      "needs_background": "light"
     },
     "output_type": "display_data"
    },
    {
     "data": {
      "image/png": "[encoded data removed]",
      "text/plain": [
       "<Figure size 432x288 with 4 Axes>"
      ]
     },
     "metadata": {
      "needs_background": "light"
     },
     "output_type": "display_data"
    },
    {
     "data": {
      "image/png": "[encoded data removed]",
      "text/plain": [
       "<Figure size 432x288 with 4 Axes>"
      ]
     },
     "metadata": {
      "needs_background": "light"
     },
     "output_type": "display_data"
    }
   ],
   "source": [
    "import numpy as np\n",
    "import matplotlib.pyplot as plt\n",
    "import urllib.request\n",
    "%matplotlib inline \n",
    "\n",
    "# 아주 간단한 합성곱 층을 정의합니다\n",
    "class Conv:\n",
    "    # 간단한 예이기 때문에, W는 3×3으로 고정하고 이후 절에서 다룰 strides나 padding을 고려하지 않았습니다\n",
    "    def __init__(self, W):\n",
    "        self.W = W\n",
    "    def f_prop(self, X):\n",
    "        out = np.zeros((X.shape[0]-2, X.shape[1]-2))\n",
    "        for i in range(out.shape[0]):\n",
    "            for j in range(out.shape[1]):\n",
    "                x = X[i:i+3, j:j+3]\n",
    "                # 각 요소별 곱의 합계를 취하고 있습니다\n",
    "                out[i,j] = np.dot(self.W.flatten(), x.flatten())\n",
    "        return out\n",
    "\n",
    "local_filename, headers = urllib.request.urlretrieve('https://aidemystorageprd.blob.core.windows.net/data/5100_cnn_data/circle.npy') \n",
    "X = np.load(local_filename)\n",
    "\n",
    "plt.imshow(X)\n",
    "plt.title(\"The original image\", fontsize=12)\n",
    "plt.show()\n",
    "\n",
    "# 커널을 적절하게 설정하세요\n",
    "W1 = np.array([[0,1,0],\n",
    "               [0,1,0],\n",
    "               [0,1,0]])\n",
    "W2 = np.array([[0,0,0],\n",
    "               [1,1,1],\n",
    "               [0,0,0]])\n",
    "W3 = np.array([[1,0,0],\n",
    "               [0,1,0],\n",
    "               [0,0,1]])\n",
    "W4 = np.array([[0,0,1],\n",
    "               [0,1,0],\n",
    "               [1,0,0]])\n",
    "\n",
    "plt.subplot(1,4,1); plt.imshow(W1)\n",
    "plt.subplot(1,4,2); plt.imshow(W2)\n",
    "plt.subplot(1,4,3); plt.imshow(W3)\n",
    "plt.subplot(1,4,4); plt.imshow(W4)\n",
    "plt.suptitle(\"kernel\", fontsize=12)\n",
    "plt.show()\n",
    "\n",
    "# 합성곱\n",
    "conv1 = Conv(W1); C1 = conv1.f_prop(X)\n",
    "conv2 = Conv(W2); C2 = conv2.f_prop(X)\n",
    "conv3 = Conv(W3); C3 = conv3.f_prop(X)\n",
    "conv4 = Conv(W4); C4 = conv4.f_prop(X)\n",
    "\n",
    "plt.subplot(1,4,1); plt.imshow(C1)\n",
    "plt.subplot(1,4,2); plt.imshow(C2)\n",
    "plt.subplot(1,4,3); plt.imshow(C3)\n",
    "plt.subplot(1,4,4); plt.imshow(C4)\n",
    "plt.suptitle(\"Convolution result\", fontsize=12)\n",
    "plt.show()"
   ]
  },
  {
   "cell_type": "code",
   "execution_count": 3,
   "metadata": {},
   "outputs": [
    {
     "data": {
      "image/png": "[encoded data removed]",
      "text/plain": [
       "<Figure size 432x288 with 1 Axes>"
      ]
     },
     "metadata": {
      "needs_background": "light"
     },
     "output_type": "display_data"
    },
    {
     "data": {
      "image/png": "[encoded data removed]",
      "text/plain": [
       "<Figure size 432x288 with 4 Axes>"
      ]
     },
     "metadata": {
      "needs_background": "light"
     },
     "output_type": "display_data"
    },
    {
     "data": {
      "image/png": "[encoded data removed]",
      "text/plain": [
       "<Figure size 432x288 with 4 Axes>"
      ]
     },
     "metadata": {
      "needs_background": "light"
     },
     "output_type": "display_data"
    }
   ],
   "source": [
    "import numpy as np\n",
    "import matplotlib.pyplot as plt\n",
    "import urllib.request\n",
    "%matplotlib inline\n",
    "\n",
    "# 아주 간단한 합성곱 층을 정의합니다\n",
    "class Conv:\n",
    "    # 간단한 예이기 때문에, W는 3×3으로 고정하고 이후 절에서 다룰 strides나 padding을 고려하지 않았습니다\n",
    "    def __init__(self, W):\n",
    "        self.W = W\n",
    "    def f_prop(self, X):\n",
    "        out = np.zeros((X.shape[0]-2, X.shape[1]-2))\n",
    "        for i in range(out.shape[0]):\n",
    "            for j in range(out.shape[1]):\n",
    "                x = X[i:i+3, j:j+3]\n",
    "                out[i,j] = np.dot(self.W.flatten(), x.flatten())\n",
    "        return out\n",
    "\n",
    "# 아주 간단한 풀링 층을 정의합니다\n",
    "class Pool:\n",
    "    # 간단한 예이기 때문에, 이후 절에서 다룰 strides나 padding을 고려하지 않았습니다\n",
    "    def __init__(self, l):\n",
    "        self.l = l\n",
    "    def f_prop(self, X):\n",
    "        l = self.l\n",
    "        out = np.zeros((X.shape[0]//self.l, X.shape[1]//self.l))\n",
    "        for i in range(out.shape[0]):\n",
    "            for j in range(out.shape[1]):\n",
    "                # 아래 밑줄 부분을 기입하고 주석을 제거하세요\n",
    "                out[i,j] = np.max(X[i*l:(i+1)*l, j*l:(j+1)*l])\n",
    "        return out\n",
    "\n",
    "local_filename, headers = urllib.request.urlretrieve('https://aidemystorageprd.blob.core.windows.net/data/5100_cnn_data/circle.npy') \n",
    "X = np.load(local_filename)\n",
    "\n",
    "plt.imshow(X)\n",
    "plt.title(\"The original image\", fontsize=12)\n",
    "plt.show()\n",
    "\n",
    "# 커널\n",
    "W1 = np.array([[0,1,0],\n",
    "               [0,1,0],\n",
    "               [0,1,0]])\n",
    "W2 = np.array([[0,0,0],\n",
    "               [1,1,1],\n",
    "               [0,0,0]])\n",
    "W3 = np.array([[1,0,0],\n",
    "               [0,1,0],\n",
    "               [0,0,1]])\n",
    "W4 = np.array([[0,0,1],\n",
    "               [0,1,0],\n",
    "               [1,0,0]])\n",
    "\n",
    "# 합성곱\n",
    "conv1 = Conv(W1); C1 = conv1.f_prop(X)\n",
    "conv2 = Conv(W2); C2 = conv2.f_prop(X)\n",
    "conv3 = Conv(W3); C3 = conv3.f_prop(X)\n",
    "conv4 = Conv(W4); C4 = conv4.f_prop(X)\n",
    "\n",
    "plt.subplot(1,4,1); plt.imshow(C1)\n",
    "plt.subplot(1,4,2); plt.imshow(C2)\n",
    "plt.subplot(1,4,3); plt.imshow(C3)\n",
    "plt.subplot(1,4,4); plt.imshow(C4)\n",
    "plt.suptitle(\"Convolution result\", fontsize=12)\n",
    "plt.show()\n",
    "\n",
    "# 풀링\n",
    "pool = Pool(2)\n",
    "P1 = pool.f_prop(C1)\n",
    "P2 = pool.f_prop(C2)\n",
    "P3 = pool.f_prop(C3)\n",
    "P4 = pool.f_prop(C4)\n",
    "\n",
    "plt.subplot(1,4,1); plt.imshow(P1)\n",
    "plt.subplot(1,4,2); plt.imshow(P2)\n",
    "plt.subplot(1,4,3); plt.imshow(P3)\n",
    "plt.subplot(1,4,4); plt.imshow(P4)\n",
    "plt.suptitle(\"Pooling result\", fontsize=12)\n",
    "plt.show()"
   ]
  },
  {
   "cell_type": "code",
   "execution_count": 4,
   "metadata": {},
   "outputs": [
    {
     "name": "stderr",
     "output_type": "stream",
     "text": [
      "Using TensorFlow backend.\n",
      "E:\\Anaconda3\\envs\\aidemy\\lib\\site-packages\\tensorflow\\python\\framework\\dtypes.py:493: FutureWarning: Passing (type, 1) or '1type' as a synonym of type is deprecated; in a future version of numpy, it will be understood as (type, (1,)) / '(1,)type'.\n",
      "  _np_qint8 = np.dtype([(\"qint8\", np.int8, 1)])\n",
      "E:\\Anaconda3\\envs\\aidemy\\lib\\site-packages\\tensorflow\\python\\framework\\dtypes.py:494: FutureWarning: Passing (type, 1) or '1type' as a synonym of type is deprecated; in a future version of numpy, it will be understood as (type, (1,)) / '(1,)type'.\n",
      "  _np_quint8 = np.dtype([(\"quint8\", np.uint8, 1)])\n",
      "E:\\Anaconda3\\envs\\aidemy\\lib\\site-packages\\tensorflow\\python\\framework\\dtypes.py:495: FutureWarning: Passing (type, 1) or '1type' as a synonym of type is deprecated; in a future version of numpy, it will be understood as (type, (1,)) / '(1,)type'.\n",
      "  _np_qint16 = np.dtype([(\"qint16\", np.int16, 1)])\n",
      "E:\\Anaconda3\\envs\\aidemy\\lib\\site-packages\\tensorflow\\python\\framework\\dtypes.py:496: FutureWarning: Passing (type, 1) or '1type' as a synonym of type is deprecated; in a future version of numpy, it will be understood as (type, (1,)) / '(1,)type'.\n",
      "  _np_quint16 = np.dtype([(\"quint16\", np.uint16, 1)])\n",
      "E:\\Anaconda3\\envs\\aidemy\\lib\\site-packages\\tensorflow\\python\\framework\\dtypes.py:497: FutureWarning: Passing (type, 1) or '1type' as a synonym of type is deprecated; in a future version of numpy, it will be understood as (type, (1,)) / '(1,)type'.\n",
      "  _np_qint32 = np.dtype([(\"qint32\", np.int32, 1)])\n",
      "E:\\Anaconda3\\envs\\aidemy\\lib\\site-packages\\tensorflow\\python\\framework\\dtypes.py:502: FutureWarning: Passing (type, 1) or '1type' as a synonym of type is deprecated; in a future version of numpy, it will be understood as (type, (1,)) / '(1,)type'.\n",
      "  np_resource = np.dtype([(\"resource\", np.ubyte, 1)])\n"
     ]
    },
    {
     "name": "stdout",
     "output_type": "stream",
     "text": [
      "_________________________________________________________________\n",
      "Layer (type)                 Output Shape              Param #   \n",
      "=================================================================\n",
      "conv2d_1 (Conv2D)            (None, 28, 28, 32)        160       \n",
      "_________________________________________________________________\n",
      "max_pooling2d_1 (MaxPooling2 (None, 27, 27, 32)        0         \n",
      "_________________________________________________________________\n",
      "conv2d_2 (Conv2D)            (None, 27, 27, 32)        4128      \n",
      "_________________________________________________________________\n",
      "max_pooling2d_2 (MaxPooling2 (None, 26, 26, 32)        0         \n",
      "_________________________________________________________________\n",
      "flatten_1 (Flatten)          (None, 21632)             0         \n",
      "_________________________________________________________________\n",
      "dense_1 (Dense)              (None, 256)               5538048   \n",
      "_________________________________________________________________\n",
      "activation_1 (Activation)    (None, 256)               0         \n",
      "_________________________________________________________________\n",
      "dense_2 (Dense)              (None, 128)               32896     \n",
      "_________________________________________________________________\n",
      "activation_2 (Activation)    (None, 128)               0         \n",
      "_________________________________________________________________\n",
      "dense_3 (Dense)              (None, 10)                1290      \n",
      "_________________________________________________________________\n",
      "activation_3 (Activation)    (None, 10)                0         \n",
      "=================================================================\n",
      "Total params: 5,576,522\n",
      "Trainable params: 5,576,522\n",
      "Non-trainable params: 0\n",
      "_________________________________________________________________\n"
     ]
    }
   ],
   "source": [
    "from keras.layers import Activation, Conv2D, Dense, Flatten, MaxPooling2D\n",
    "from keras.models import Sequential, load_model\n",
    "from keras.utils.np_utils import to_categorical\n",
    "\n",
    "# 모델을 정의합니다\n",
    "model = Sequential()\n",
    "\n",
    "# --------------------------------------------------------------\n",
    "# 여기에 코드를 작성하세요\n",
    "model.add(Conv2D(input_shape=(28, 28, 1), \n",
    "                 filters=32,\n",
    "                 kernel_size=(2, 2), \n",
    "                 strides=(1, 1), \n",
    "                 padding=\"same\"))\n",
    "model.add(MaxPooling2D(pool_size=(2, 2), \n",
    "                       strides=(1,1)))\n",
    "model.add(Conv2D(filters=32, \n",
    "                 kernel_size=(2, 2), \n",
    "                 strides=(1, 1), \n",
    "                 padding=\"same\"))\n",
    "model.add(MaxPooling2D(pool_size=(2, 2), \n",
    "                       strides=(1,1)))\n",
    "# --------------------------------------------------------------\n",
    "\n",
    "\n",
    "model.add(Flatten())\n",
    "model.add(Dense(256))\n",
    "model.add(Activation('sigmoid'))\n",
    "model.add(Dense(128))\n",
    "model.add(Activation('sigmoid'))\n",
    "model.add(Dense(10))\n",
    "model.add(Activation('softmax'))\n",
    "\n",
    "model.summary()"
   ]
  },
  {
   "cell_type": "code",
   "execution_count": 5,
   "metadata": {},
   "outputs": [
    {
     "name": "stdout",
     "output_type": "stream",
     "text": [
      "Train on 300 samples, validate on 100 samples\n",
      "Epoch 1/1\n",
      "300/300 [==============================] - 1s 3ms/step - loss: 12.6350 - acc: 0.1733 - val_loss: 13.8612 - val_acc: 0.1300\n",
      "100/100 [==============================] - 0s 550us/step\n",
      "Test loss: 13.861245803833008\n",
      "Test accuracy: 0.13\n"
     ]
    },
    {
     "data": {
      "image/png": "[encoded data removed]",
      "text/plain": [
       "<Figure size 432x288 with 10 Axes>"
      ]
     },
     "metadata": {
      "needs_background": "light"
     },
     "output_type": "display_data"
    },
    {
     "name": "stdout",
     "output_type": "stream",
     "text": [
      "[9 0 9 9 9 9 9 9 9 9]\n",
      "_________________________________________________________________\n",
      "Layer (type)                 Output Shape              Param #   \n",
      "=================================================================\n",
      "conv2d_3 (Conv2D)            (None, 26, 26, 32)        320       \n",
      "_________________________________________________________________\n",
      "activation_4 (Activation)    (None, 26, 26, 32)        0         \n",
      "_________________________________________________________________\n",
      "conv2d_4 (Conv2D)            (None, 24, 24, 64)        18496     \n",
      "_________________________________________________________________\n",
      "activation_5 (Activation)    (None, 24, 24, 64)        0         \n",
      "_________________________________________________________________\n",
      "max_pooling2d_3 (MaxPooling2 (None, 12, 12, 64)        0         \n",
      "_________________________________________________________________\n",
      "dropout_1 (Dropout)          (None, 12, 12, 64)        0         \n",
      "_________________________________________________________________\n",
      "flatten_2 (Flatten)          (None, 9216)              0         \n",
      "_________________________________________________________________\n",
      "dense_4 (Dense)              (None, 128)               1179776   \n",
      "_________________________________________________________________\n",
      "activation_6 (Activation)    (None, 128)               0         \n",
      "_________________________________________________________________\n",
      "dropout_2 (Dropout)          (None, 128)               0         \n",
      "_________________________________________________________________\n",
      "dense_5 (Dense)              (None, 10)                1290      \n",
      "_________________________________________________________________\n",
      "activation_7 (Activation)    (None, 10)                0         \n",
      "=================================================================\n",
      "Total params: 1,199,882\n",
      "Trainable params: 1,199,882\n",
      "Non-trainable params: 0\n",
      "_________________________________________________________________\n"
     ]
    }
   ],
   "source": [
    "from keras.datasets import mnist\n",
    "from keras.layers import Dense, Dropout, Flatten, Activation\n",
    "from keras.layers import Conv2D, MaxPooling2D\n",
    "from keras.models import Sequential, load_model\n",
    "from keras.utils.np_utils import to_categorical\n",
    "from keras.utils.vis_utils import plot_model\n",
    "import numpy as np\n",
    "import matplotlib.pyplot as plt\n",
    "%matplotlib inline\n",
    "\n",
    "# 데이터를 로드합니다\n",
    "(X_train, y_train), (X_test, y_test) = mnist.load_data()\n",
    "\n",
    "# 전체 데이터 중 학습에는 300장, 테스트에는 100장의 데이터를 사용합니다\n",
    "# Conv 층는 4차원 배열을 받아들입니다(배치 크기×가로×세로×채널 수)\n",
    "# MNIST 데이터는 RGB 이미지가 아니라 원래 3차원 데이터이므로 미리 4차원으로 변환합니다\n",
    "X_train = X_train[:300].reshape(-1, 28, 28, 1)\n",
    "X_test = X_test[:100].reshape(-1, 28, 28, 1)\n",
    "y_train = to_categorical(y_train)[:300]\n",
    "y_test = to_categorical(y_test)[:100]\n",
    "\n",
    "# 모델을 정의합니다\n",
    "model = Sequential()\n",
    "\n",
    "# --------------------------------------------------------------\n",
    "# 여기에 코드를 작성하세요\n",
    "model.add(Conv2D(32, kernel_size=(3, 3),input_shape=(28,28,1)))\n",
    "model.add(Activation('relu'))\n",
    "model.add(Conv2D(filters=64, kernel_size=(3, 3)))\n",
    "model.add(Activation('relu'))\n",
    "model.add(MaxPooling2D(pool_size=(2, 2)))\n",
    "model.add(Dropout(0.25))\n",
    "model.add(Flatten())\n",
    "model.add(Dense(128))\n",
    "model.add(Activation('relu'))\n",
    "model.add(Dropout(0.5))\n",
    "model.add(Dense(10))\n",
    "model.add(Activation('softmax'))\n",
    "# --------------------------------------------------------------\n",
    "\n",
    "model.compile(loss='categorical_crossentropy',\n",
    "              optimizer='adadelta',\n",
    "              metrics=['accuracy'])\n",
    "\n",
    "model.fit(X_train, y_train,\n",
    "          batch_size=128,\n",
    "          epochs=1,\n",
    "          verbose=1,\n",
    "          validation_data=(X_test, y_test))\n",
    "\n",
    "# 정확도를 평가합니다\n",
    "scores = model.evaluate(X_test, y_test, verbose=1)\n",
    "print('Test loss:', scores[0])\n",
    "print('Test accuracy:', scores[1])\n",
    "\n",
    "# 데이터를 시각화합니다(테스트 데이터의 선두 10장)\n",
    "for i in range(10):\n",
    "    plt.subplot(2, 5, i+1)\n",
    "    plt.imshow(X_test[i].reshape((28,28)), 'gray')\n",
    "plt.suptitle(\"The first ten of the test data\",fontsize=20)\n",
    "plt.show()\n",
    "\n",
    "# 예측합니다(테스트 데이터의 선두 10장)\n",
    "pred = np.argmax(model.predict(X_test[0:10]), axis=1)\n",
    "print(pred)\n",
    "\n",
    "model.summary()"
   ]
  },
  {
   "cell_type": "code",
   "execution_count": 6,
   "metadata": {},
   "outputs": [
    {
     "name": "stdout",
     "output_type": "stream",
     "text": [
      "Downloading data from https://www.cs.toronto.edu/~kriz/cifar-10-python.tar.gz\n",
      "170500096/170498071 [==============================] - 1461s 9us/step\n",
      "Epoch 1/1\n",
      "300/300 [==============================] - 1s 5ms/step - loss: 14.3018 - acc: 0.0800\n",
      "100/100 [==============================] - 0s 2ms/step\n",
      "Test loss: 13.69067699432373\n",
      "Test accuracy: 0.11\n"
     ]
    },
    {
     "data": {
      "image/png": "[encoded data removed]",
      "text/plain": [
       "<Figure size 432x288 with 10 Axes>"
      ]
     },
     "metadata": {
      "needs_background": "light"
     },
     "output_type": "display_data"
    },
    {
     "name": "stdout",
     "output_type": "stream",
     "text": [
      "[3 3 3 3 3 3 3 6 3 3]\n",
      "_________________________________________________________________\n",
      "Layer (type)                 Output Shape              Param #   \n",
      "=================================================================\n",
      "conv2d_5 (Conv2D)            (None, 32, 32, 32)        896       \n",
      "_________________________________________________________________\n",
      "activation_8 (Activation)    (None, 32, 32, 32)        0         \n",
      "_________________________________________________________________\n",
      "conv2d_6 (Conv2D)            (None, 30, 30, 32)        9248      \n",
      "_________________________________________________________________\n",
      "activation_9 (Activation)    (None, 30, 30, 32)        0         \n",
      "_________________________________________________________________\n",
      "max_pooling2d_4 (MaxPooling2 (None, 15, 15, 32)        0         \n",
      "_________________________________________________________________\n",
      "dropout_3 (Dropout)          (None, 15, 15, 32)        0         \n",
      "_________________________________________________________________\n",
      "conv2d_7 (Conv2D)            (None, 15, 15, 64)        18496     \n",
      "_________________________________________________________________\n",
      "activation_10 (Activation)   (None, 15, 15, 64)        0         \n",
      "_________________________________________________________________\n",
      "conv2d_8 (Conv2D)            (None, 13, 13, 64)        36928     \n",
      "_________________________________________________________________\n",
      "activation_11 (Activation)   (None, 13, 13, 64)        0         \n",
      "_________________________________________________________________\n",
      "max_pooling2d_5 (MaxPooling2 (None, 6, 6, 64)          0         \n",
      "_________________________________________________________________\n",
      "dropout_4 (Dropout)          (None, 6, 6, 64)          0         \n",
      "_________________________________________________________________\n",
      "flatten_3 (Flatten)          (None, 2304)              0         \n",
      "_________________________________________________________________\n",
      "dense_6 (Dense)              (None, 512)               1180160   \n",
      "_________________________________________________________________\n",
      "activation_12 (Activation)   (None, 512)               0         \n",
      "_________________________________________________________________\n",
      "dropout_5 (Dropout)          (None, 512)               0         \n",
      "_________________________________________________________________\n",
      "dense_7 (Dense)              (None, 10)                5130      \n",
      "_________________________________________________________________\n",
      "activation_13 (Activation)   (None, 10)                0         \n",
      "=================================================================\n",
      "Total params: 1,250,858\n",
      "Trainable params: 1,250,858\n",
      "Non-trainable params: 0\n",
      "_________________________________________________________________\n"
     ]
    }
   ],
   "source": [
    "import keras\n",
    "from keras.datasets import cifar10\n",
    "from keras.layers import Activation, Conv2D, Dense, Dropout, Flatten, MaxPooling2D\n",
    "from keras.models import Sequential, load_model\n",
    "from keras.utils.np_utils import to_categorical\n",
    "import numpy as np\n",
    "import matplotlib.pyplot as plt\n",
    "%matplotlib inline\n",
    "\n",
    "# 데이터를 로드합니다\n",
    "(X_train, y_train), (X_test, y_test) = cifar10.load_data()\n",
    "\n",
    "# 전체 데이터 중 학습에는 300장, 테스트에는 100장의 데이터를 사용합니다\n",
    "X_train = X_train[:300]\n",
    "X_test = X_test[:100]\n",
    "y_train = to_categorical(y_train)[:300]\n",
    "y_test = to_categorical(y_test)[:100]\n",
    "\n",
    "\n",
    "# 모델을 정의합니다\n",
    "model = Sequential()\n",
    "model.add(Conv2D(32, (3, 3), padding='same',\n",
    "                 input_shape=X_train.shape[1:]))\n",
    "model.add(Activation('relu'))\n",
    "model.add(Conv2D(32, (3, 3)))\n",
    "model.add(Activation('relu'))\n",
    "model.add(MaxPooling2D(pool_size=(2, 2)))\n",
    "model.add(Dropout(0.25))\n",
    "\n",
    "# --------------------------------------------------------------\n",
    "# 여기에 코드를 작성하세요\n",
    "model.add(Conv2D(64, (3, 3), padding='same'))\n",
    "model.add(Activation('relu'))\n",
    "model.add(Conv2D(64, (3, 3)))\n",
    "model.add(Activation('relu'))\n",
    "model.add(MaxPooling2D(pool_size=(2, 2)))\n",
    "model.add(Dropout(0.25))\n",
    "# --------------------------------------------------------------\n",
    "\n",
    "model.add(Flatten())\n",
    "model.add(Dense(512))\n",
    "model.add(Activation('relu'))\n",
    "model.add(Dropout(0.5))\n",
    "model.add(Dense(10))\n",
    "model.add(Activation('softmax'))\n",
    "\n",
    "# 컴파일합니다\n",
    "opt = keras.optimizers.rmsprop(lr=0.0001, decay=1e-6)\n",
    "model.compile(loss='categorical_crossentropy',\n",
    "              optimizer=opt,\n",
    "              metrics=['accuracy'])\n",
    "\n",
    "# 학습시킵니다\n",
    "model.fit(X_train, y_train, batch_size=32, epochs=1)\n",
    "\n",
    "# 가중치를 저장하려면 다음을 사용합니다\n",
    "model.save_weights('param_cifar10.hdf5')\n",
    "\n",
    "# 정확도를 평가합니다\n",
    "scores = model.evaluate(X_test, y_test, verbose=1)\n",
    "print('Test loss:', scores[0])\n",
    "print('Test accuracy:', scores[1])\n",
    "\n",
    "# 데이터를 시각화합니다(테스트 데이터의 선두 10장)\n",
    "for i in range(10):\n",
    "    plt.subplot(2, 5, i+1)\n",
    "    plt.imshow(X_test[i])\n",
    "plt.suptitle(\"The first ten of the test data\",fontsize=20)\n",
    "plt.show()\n",
    "\n",
    "# 예측합니다(테스트 데이터의 선두 10장)\n",
    "pred = np.argmax(model.predict(X_test[0:10]), axis=1)\n",
    "print(pred)\n",
    "\n",
    "model.summary()"
   ]
  },
  {
   "cell_type": "code",
   "execution_count": 9,
   "metadata": {},
   "outputs": [
    {
     "data": {
      "image/png": "[encoded data removed]",
      "text/plain": [
       "<Figure size 432x288 with 1 Axes>"
      ]
     },
     "metadata": {
      "needs_background": "light"
     },
     "output_type": "display_data"
    },
    {
     "data": {
      "image/png": "[encoded data removed]",
      "text/plain": [
       "<Figure size 360x144 with 10 Axes>"
      ]
     },
     "metadata": {
      "needs_background": "light"
     },
     "output_type": "display_data"
    },
    {
     "data": {
      "image/png": "[encoded data removed]",
      "text/plain": [
       "<Figure size 360x144 with 10 Axes>"
      ]
     },
     "metadata": {
      "needs_background": "light"
     },
     "output_type": "display_data"
    }
   ],
   "source": [
    "import numpy as np\n",
    "import matplotlib.pyplot as plt\n",
    "import urllib.request\n",
    "\n",
    "# 간단한 합성곱 층을 정의합니다\n",
    "# 1채널 이미지의 합성곱만 상정합니다\n",
    "# 간단한 예이기 때문에, 커널은 3×3으로 고정하고, strides나 padding은 고려하지 않습니다\n",
    "class Conv:\n",
    "    def __init__(self, filters):\n",
    "        self.filters = filters\n",
    "        self.W = np.random.rand(filters,3,3)\n",
    "    def f_prop(self, X):\n",
    "        out = np.zeros((filters, X.shape[0]-2, X.shape[1]-2))\n",
    "        for k in range(self.filters):\n",
    "            for i in range(out[0].shape[0]):\n",
    "                for j in range(out[0].shape[1]):\n",
    "                    x = X[i:i+3, j:j+3]\n",
    "                    out[k,i,j] = np.dot(self.W[k].flatten(), \n",
    "                                        x.flatten())\n",
    "        return out\n",
    "\n",
    "local_filename, headers = urllib.request.urlretrieve('https://aidemystorageprd.blob.core.windows.net/data/5100_cnn_data/circle.npy') \n",
    "X = np.load(local_filename)\n",
    "\n",
    "filters=10\n",
    "\n",
    "# 합성곱 층을 생성합니다\n",
    "conv = Conv(filters=filters)\n",
    "\n",
    "# 합성곱을 실행하세요\n",
    "C = conv.f_prop(X)\n",
    "# --------------------------------------------------------------\n",
    "# 이후는 모두 시각화를 위한 코드입니다\n",
    "# --------------------------------------------------------------\n",
    "plt.imshow(X)\n",
    "plt.title('The original image', fontsize=12)\n",
    "plt.show()\n",
    "\n",
    "plt.figure(figsize=(5,2))\n",
    "for i in range(filters):\n",
    "    plt.subplot(2,filters/2,i+1)\n",
    "    ax = plt.gca() # get current axis\n",
    "    ax.tick_params(labelbottom=\"off\", labelleft=\"off\", bottom=\"off\", \n",
    "                   left=\"off\") # 축을 삭제합니다\n",
    "    plt.imshow(conv.W[i])\n",
    "plt.suptitle('kernel', fontsize=12)\n",
    "plt.show()\n",
    "\n",
    "plt.figure(figsize=(5,2))\n",
    "for i in range(filters):\n",
    "    plt.subplot(2,filters/2,i+1)\n",
    "    ax = plt.gca() # get current axis\n",
    "    ax.tick_params(labelbottom=\"off\", labelleft=\"off\", bottom=\"off\", \n",
    "                   left=\"off\") # 축을 삭제합니다\n",
    "    plt.imshow(C[i])\n",
    "plt.suptitle('Convolution result', fontsize=12)\n",
    "plt.show()"
   ]
  },
  {
   "cell_type": "code",
   "execution_count": 10,
   "metadata": {},
   "outputs": [
    {
     "data": {
      "image/png": "[encoded data removed]",
      "text/plain": [
       "<Figure size 432x288 with 1 Axes>"
      ]
     },
     "metadata": {
      "needs_background": "light"
     },
     "output_type": "display_data"
    },
    {
     "data": {
      "image/png": "[encoded data removed]",
      "text/plain": [
       "<Figure size 720x72 with 4 Axes>"
      ]
     },
     "metadata": {
      "needs_background": "light"
     },
     "output_type": "display_data"
    },
    {
     "data": {
      "image/png": "[encoded data removed]",
      "text/plain": [
       "<Figure size 720x72 with 4 Axes>"
      ]
     },
     "metadata": {
      "needs_background": "light"
     },
     "output_type": "display_data"
    },
    {
     "data": {
      "image/png": "[encoded data removed]",
      "text/plain": [
       "<Figure size 720x72 with 4 Axes>"
      ]
     },
     "metadata": {
      "needs_background": "light"
     },
     "output_type": "display_data"
    },
    {
     "data": {
      "image/png": "[encoded data removed]",
      "text/plain": [
       "<Figure size 720x72 with 4 Axes>"
      ]
     },
     "metadata": {
      "needs_background": "light"
     },
     "output_type": "display_data"
    }
   ],
   "source": [
    "import numpy as np\n",
    "import matplotlib.pyplot as plt\n",
    "import urllib.request\n",
    "\n",
    "# 간단한 합성곱 층을 정의합니다\n",
    "# 1채널 이미지의 합성곱만 상정합니다\n",
    "# 간단한 예이기 때문에, strides나 padding은 고려하지 않습니다\n",
    "class Conv:\n",
    "    def __init__(self, filters, kernel_size):\n",
    "        self.filters = filters\n",
    "        self.kernel_size = kernel_size\n",
    "        self.W = np.random.rand(filters, kernel_size[0], kernel_size[1])\n",
    "    def f_prop(self, X):\n",
    "        k_h, k_w = self.kernel_size\n",
    "        out = np.zeros((filters, X.shape[0]-k_h+1, X.shape[1]-k_w+1))\n",
    "        for k in range(self.filters):\n",
    "            for i in range(out[0].shape[0]):\n",
    "                for j in range(out[0].shape[1]):\n",
    "                    x = X[i:i+k_h, j:j+k_w]\n",
    "                    out[k,i,j] = np.dot(self.W[k].flatten(), x.flatten())\n",
    "        return out\n",
    "\n",
    "local_filename, headers = urllib.request.urlretrieve('https://aidemystorageprd.blob.core.windows.net/data/5100_cnn_data/circle.npy') \n",
    "X = np.load(local_filename)\n",
    "\n",
    "# 합성곱 1\n",
    "filters = 4\n",
    "kernel_size = (3,3)\n",
    "\n",
    "# 합성곱 층을 생성합니다\n",
    "conv1 = Conv(filters=filters, kernel_size=kernel_size)\n",
    "\n",
    "# 합성곱을 실행합니다\n",
    "C1 = conv1.f_prop(X)\n",
    "\n",
    "# 합성곱 2\n",
    "filters = 4\n",
    "kernel_size = (6,6)\n",
    "\n",
    "# 합성곱 층을 생성하세요\n",
    "conv2 = Conv(filters=filters, kernel_size=kernel_size)\n",
    "\n",
    "# 합성곱을 실행하세요\n",
    "C2 = conv2.f_prop(X)\n",
    "# --------------------------------------------------------------\n",
    "# 이후는 모두 시각화를 위한 코드입니다\n",
    "# --------------------------------------------------------------\n",
    "plt.imshow(X)\n",
    "plt.title('The original image', fontsize=12)\n",
    "plt.show()\n",
    "\n",
    "plt.figure(figsize=(10,1))\n",
    "for i in range(filters):\n",
    "    plt.subplot(1,filters,i+1)\n",
    "    ax = plt.gca() # get current axis\n",
    "    ax.tick_params(labelbottom=\"off\", labelleft=\"off\", bottom=\"off\", \n",
    "                   left=\"off\") # 축을 삭제합니다\n",
    "    plt.imshow(conv1.W[i])\n",
    "plt.suptitle('Kernel Visualization', fontsize=12)\n",
    "plt.show()\n",
    "\n",
    "plt.figure(figsize=(10,1))\n",
    "for i in range(filters):\n",
    "    plt.subplot(1,filters,i+1)\n",
    "    ax = plt.gca() # get current axis\n",
    "    ax.tick_params(labelbottom=\"off\", labelleft=\"off\", bottom=\"off\", \n",
    "                   left=\"off\") # 축을 삭제합니다\n",
    "    plt.imshow(C1[i])\n",
    "plt.suptitle('Convolution result 1', fontsize=12)\n",
    "plt.show()\n",
    "\n",
    "plt.figure(figsize=(10,1))\n",
    "for i in range(filters):\n",
    "    plt.subplot(1,filters,i+1)\n",
    "    ax = plt.gca() # get current axis\n",
    "    ax.tick_params(labelbottom=\"off\", labelleft=\"off\", bottom=\"off\", \n",
    "                   left=\"off\") # 축을 삭제합니다\n",
    "    plt.imshow(conv2.W[i])\n",
    "plt.suptitle('Kernel Visualization', fontsize=12)\n",
    "plt.show()\n",
    "\n",
    "plt.figure(figsize=(10,1))\n",
    "for i in range(filters):\n",
    "    plt.subplot(1,filters,i+1)\n",
    "    ax = plt.gca() # get current axis\n",
    "    ax.tick_params(labelbottom=\"off\", labelleft=\"off\", bottom=\"off\", \n",
    "                   left=\"off\") # 축을 삭제합니다\n",
    "    plt.imshow(C2[i])\n",
    "plt.suptitle('Convolution result 2', fontsize=12)\n",
    "plt.show()"
   ]
  },
  {
   "cell_type": "code",
   "execution_count": 11,
   "metadata": {},
   "outputs": [
    {
     "data": {
      "image/png": "[encoded data removed]",
      "text/plain": [
       "<Figure size 432x288 with 1 Axes>"
      ]
     },
     "metadata": {
      "needs_background": "light"
     },
     "output_type": "display_data"
    },
    {
     "data": {
      "image/png": "[encoded data removed]",
      "text/plain": [
       "<Figure size 720x72 with 4 Axes>"
      ]
     },
     "metadata": {
      "needs_background": "light"
     },
     "output_type": "display_data"
    },
    {
     "data": {
      "image/png": "[encoded data removed]",
      "text/plain": [
       "<Figure size 720x72 with 4 Axes>"
      ]
     },
     "metadata": {
      "needs_background": "light"
     },
     "output_type": "display_data"
    },
    {
     "data": {
      "image/png": "[encoded data removed]",
      "text/plain": [
       "<Figure size 720x72 with 4 Axes>"
      ]
     },
     "metadata": {
      "needs_background": "light"
     },
     "output_type": "display_data"
    },
    {
     "data": {
      "image/png": "[encoded data removed]",
      "text/plain": [
       "<Figure size 720x72 with 4 Axes>"
      ]
     },
     "metadata": {
      "needs_background": "light"
     },
     "output_type": "display_data"
    }
   ],
   "source": [
    "import numpy as np\n",
    "import matplotlib.pyplot as plt\n",
    "import urllib.request\n",
    "\n",
    "# 간단한 합성곱 층을 정의합니다\n",
    "# 1채널 이미지의 합성곱만 상정합니다\n",
    "# 간단한 예이기 때문에, padding을 고려하지 않습니다\n",
    "class Conv:\n",
    "    def __init__(self, filters, kernel_size, strides):\n",
    "        self.filters = filters\n",
    "        self.kernel_size = kernel_size\n",
    "        self.strides = strides\n",
    "        self.W = np.random.rand(filters, kernel_size[0], kernel_size[1])\n",
    "    def f_prop(self, X):\n",
    "        k_h = self.kernel_size[0]\n",
    "        k_w = self.kernel_size[1]\n",
    "        s_h = self.strides[0]\n",
    "        s_w = self.strides[1]\n",
    "        out = np.zeros((filters, (X.shape[0]-k_h)//s_h+1, \n",
    "                        (X.shape[1]-k_w)//s_w+1))\n",
    "        for k in range(self.filters):\n",
    "            for i in range(out[0].shape[0]):\n",
    "                for j in range(out[0].shape[1]):\n",
    "                    x = X[i*s_h:i*s_h+k_h, j*s_w:j*s_w+k_w]\n",
    "                    out[k,i,j] = np.dot(self.W[k].flatten(), x.flatten())\n",
    "        return out\n",
    "\n",
    "local_filename, headers = urllib.request.urlretrieve('https://aidemystorageprd.blob.core.windows.net/data/5100_cnn_data/circle.npy') \n",
    "X = np.load(local_filename)\n",
    "\n",
    "# 합성곱 1\n",
    "filters = 4\n",
    "kernel_size = (3,3)\n",
    "strides = (1,1)\n",
    "\n",
    "# 합성곱 층을 생성합니다\n",
    "conv1 = Conv(filters=filters, kernel_size=kernel_size, strides=strides)\n",
    "\n",
    "# 합성곱을 실행합니다\n",
    "C1 = conv1.f_prop(X)\n",
    "\n",
    "# 합성곱 2\n",
    "filters = 4\n",
    "kernel_size = (3,3)\n",
    "strides = (2,2)\n",
    "\n",
    "# 합성곱 층을 생성하세요\n",
    "conv2 = Conv(filters=filters, kernel_size=kernel_size, strides=strides)\n",
    "conv2.W = conv1.W # 커널을 통일합니다\n",
    "\n",
    "# 합성곱을 실행하세요\n",
    "C2 = conv2.f_prop(X)\n",
    "# --------------------------------------------------------------\n",
    "# 이후는 모두 시각화를 위한 코드입니다\n",
    "# --------------------------------------------------------------\n",
    "plt.imshow(X)\n",
    "plt.title('The original image', fontsize=12)\n",
    "plt.show()\n",
    "\n",
    "plt.figure(figsize=(10,1))\n",
    "for i in range(filters):\n",
    "    plt.subplot(1,filters,i+1)\n",
    "    ax = plt.gca() # get current axis\n",
    "    ax.tick_params(labelbottom=\"off\", labelleft=\"off\", bottom=\"off\", \n",
    "                   left=\"off\") # 축을 삭제합니다\n",
    "    plt.imshow(conv1.W[i])\n",
    "plt.suptitle('Kernel Visualization', fontsize=12)\n",
    "plt.show()\n",
    "\n",
    "plt.figure(figsize=(10,1))\n",
    "for i in range(filters):\n",
    "    plt.subplot(1,filters,i+1)\n",
    "    ax = plt.gca() # get current axis\n",
    "    ax.tick_params(labelbottom=\"off\", labelleft=\"off\", bottom=\"off\", \n",
    "                   left=\"off\") # 축을 삭제합니다\n",
    "    plt.imshow(C1[i])\n",
    "plt.suptitle('Convolution result 1', fontsize=12)\n",
    "plt.show()\n",
    "\n",
    "plt.figure(figsize=(10,1))\n",
    "for i in range(filters):\n",
    "    plt.subplot(1,filters,i+1)\n",
    "    ax = plt.gca() # get current axis\n",
    "    ax.tick_params(labelbottom=\"off\", labelleft=\"off\", bottom=\"off\", \n",
    "                   left=\"off\") # 축을 삭제합니다\n",
    "    plt.imshow(conv2.W[i])\n",
    "plt.suptitle('Kernel Visualization', fontsize=12)\n",
    "plt.show()\n",
    "\n",
    "plt.figure(figsize=(10,1))\n",
    "for i in range(filters):\n",
    "    plt.subplot(1,filters,i+1)\n",
    "    ax = plt.gca() # get current axis\n",
    "    ax.tick_params(labelbottom=\"off\", labelleft=\"off\", bottom=\"off\", \n",
    "                   left=\"off\") # 축을 삭제합니다\n",
    "    plt.imshow(C2[i])\n",
    "plt.suptitle('Convolution result 2', fontsize=12)\n",
    "plt.show()"
   ]
  },
  {
   "cell_type": "code",
   "execution_count": 12,
   "metadata": {},
   "outputs": [
    {
     "data": {
      "image/png": "[encoded data removed]",
      "text/plain": [
       "<Figure size 432x288 with 1 Axes>"
      ]
     },
     "metadata": {
      "needs_background": "light"
     },
     "output_type": "display_data"
    },
    {
     "data": {
      "image/png": "[encoded data removed]",
      "text/plain": [
       "<Figure size 720x72 with 4 Axes>"
      ]
     },
     "metadata": {
      "needs_background": "light"
     },
     "output_type": "display_data"
    },
    {
     "data": {
      "image/png": "[encoded data removed]",
      "text/plain": [
       "<Figure size 720x72 with 4 Axes>"
      ]
     },
     "metadata": {
      "needs_background": "light"
     },
     "output_type": "display_data"
    },
    {
     "data": {
      "image/png": "[encoded data removed]",
      "text/plain": [
       "<Figure size 432x288 with 1 Axes>"
      ]
     },
     "metadata": {
      "needs_background": "light"
     },
     "output_type": "display_data"
    },
    {
     "data": {
      "image/png": "[encoded data removed]",
      "text/plain": [
       "<Figure size 720x72 with 4 Axes>"
      ]
     },
     "metadata": {
      "needs_background": "light"
     },
     "output_type": "display_data"
    },
    {
     "data": {
      "image/png": "[encoded data removed]",
      "text/plain": [
       "<Figure size 720x72 with 4 Axes>"
      ]
     },
     "metadata": {
      "needs_background": "light"
     },
     "output_type": "display_data"
    }
   ],
   "source": [
    "import numpy as np\n",
    "import matplotlib.pyplot as plt\n",
    "import urllib.request\n",
    "\n",
    "\n",
    "# 간단한 합성곱 층을 정의합니다\n",
    "# 1채널 이미지의 합성곱만 상정합니다\n",
    "class Conv:\n",
    "    def __init__(self, filters, kernel_size, strides, padding):\n",
    "        self.filters = filters\n",
    "        self.kernel_size = kernel_size\n",
    "        self.strides = strides\n",
    "        self.padding = padding\n",
    "        self.W = np.random.rand(filters, kernel_size[0], kernel_size[1])\n",
    "    def f_prop(self, X):\n",
    "        k_h, k_w = self.kernel_size\n",
    "        s_h, s_w = self.strides\n",
    "        p_h, p_w = self.padding\n",
    "        out = np.zeros((filters, (X.shape[0]+p_h*2-k_h)//s_h+1, \n",
    "                        (X.shape[1]+p_w*2-k_w)//s_w+1))\n",
    "        # パディング\n",
    "        X = np.pad(X, ((p_h, p_h), (p_w, p_w)), 'constant', \n",
    "                   constant_values=((0,0),(0,0)))\n",
    "        self.X = X # 나중에 패딩 결과를 시각화하기 위해 저장해둡니다\n",
    "        for k in range(self.filters):\n",
    "            for i in range(out[0].shape[0]):\n",
    "                for j in range(out[0].shape[1]):\n",
    "                    x = X[i*s_h:i*s_h+k_h, j*s_w:j*s_w+k_w]\n",
    "                    out[k,i,j] = np.dot(self.W[k].flatten(), \n",
    "                                        x.flatten())\n",
    "        return out\n",
    "\n",
    "local_filename, headers = urllib.request.urlretrieve('https://aidemystorageprd.blob.core.windows.net/data/5100_cnn_data/circle.npy') \n",
    "X = np.load(local_filename)\n",
    "\n",
    "# 합성곱 1\n",
    "filters = 4\n",
    "kernel_size = (3,3)\n",
    "strides = (1,1)\n",
    "padding = (0,0)\n",
    "\n",
    "# 합성곱 층을 생성합니다\n",
    "conv1 = Conv(filters=filters, kernel_size=kernel_size, strides=strides, \n",
    "             padding=padding)\n",
    "\n",
    "# 합성곱을 실행합니다\n",
    "C1 = conv1.f_prop(X)\n",
    "\n",
    "# 합성곱 2\n",
    "filters = 4\n",
    "kernel_size = (3,3)\n",
    "strides = (1,1)\n",
    "padding = (2,2)\n",
    "\n",
    "# 합성곱 층을 생성합니다\n",
    "conv2 = Conv(filters=filters, kernel_size=kernel_size, strides=strides, padding=padding)\n",
    "conv2.W = conv1.W # 가중치를 통일합니다\n",
    "\n",
    "# 합성곱을 실행하세요\n",
    "C2 = conv2.f_prop(X)\n",
    "# --------------------------------------------------------------\n",
    "# 이후는 모두 시각화를 위한 코드입니다\n",
    "# --------------------------------------------------------------\n",
    "plt.imshow(conv1.X)\n",
    "plt.title('Padding result of convolution 1', fontsize=12)\n",
    "plt.show()\n",
    "\n",
    "plt.figure(figsize=(10,1))\n",
    "for i in range(filters):\n",
    "    plt.subplot(1, filters, i+1)\n",
    "    ax = plt.gca() # get current axis\n",
    "    ax.tick_params(labelbottom=\"off\", labelleft=\"off\", bottom=\"off\", \n",
    "                   left=\"off\") # 축을 삭제합니다\n",
    "    plt.imshow(conv1.W[i])\n",
    "plt.suptitle('Visualization of the convolution 1 kernel', fontsize=12)\n",
    "plt.show()\n",
    "\n",
    "plt.figure(figsize=(10,1))\n",
    "for i in range(filters):\n",
    "    plt.subplot(1, filters, i+1)\n",
    "    ax = plt.gca() # get current axis\n",
    "    ax.tick_params(labelbottom=\"off\", labelleft=\"off\", bottom=\"off\", \n",
    "                   left=\"off\") # 축을 삭제합니다\n",
    "    plt.imshow(C1[i])\n",
    "plt.suptitle('Result of convolution 1', fontsize=12)\n",
    "plt.show()\n",
    "\n",
    "plt.imshow(conv2.X)\n",
    "plt.title('Padding result of convolution 2', fontsize=12)\n",
    "plt.show()\n",
    "\n",
    "plt.figure(figsize=(10,1))\n",
    "for i in range(filters):\n",
    "    plt.subplot(1, filters, i+1)\n",
    "    ax = plt.gca() # get current axis\n",
    "    ax.tick_params(labelbottom=\"off\", labelleft=\"off\", bottom=\"off\", \n",
    "                   left=\"off\") # 축을 삭제합니다\n",
    "    plt.imshow(conv2.W[i])\n",
    "plt.suptitle('Visualization of the convolution 2 kernel', fontsize=12)\n",
    "plt.show()\n",
    "\n",
    "plt.figure(figsize=(10,1))\n",
    "for i in range(filters):\n",
    "    plt.subplot(1, filters, i+1)\n",
    "    ax = plt.gca() # get current axis\n",
    "    ax.tick_params(labelbottom=\"off\", labelleft=\"off\", bottom=\"off\", \n",
    "                   left=\"off\") # 축을 삭제합니다\n",
    "    plt.imshow(C2[i])\n",
    "plt.suptitle('Result of convolution 2', fontsize=12)\n",
    "plt.show()"
   ]
  },
  {
   "cell_type": "code",
   "execution_count": 13,
   "metadata": {},
   "outputs": [
    {
     "data": {
      "image/png": "[encoded data removed]",
      "text/plain": [
       "<Figure size 432x288 with 1 Axes>"
      ]
     },
     "metadata": {
      "needs_background": "light"
     },
     "output_type": "display_data"
    },
    {
     "data": {
      "image/png": "[encoded data removed]",
      "text/plain": [
       "<Figure size 720x72 with 4 Axes>"
      ]
     },
     "metadata": {
      "needs_background": "light"
     },
     "output_type": "display_data"
    },
    {
     "data": {
      "image/png": "[encoded data removed]",
      "text/plain": [
       "<Figure size 720x72 with 4 Axes>"
      ]
     },
     "metadata": {
      "needs_background": "light"
     },
     "output_type": "display_data"
    },
    {
     "data": {
      "image/png": "[encoded data removed]",
      "text/plain": [
       "<Figure size 720x72 with 4 Axes>"
      ]
     },
     "metadata": {
      "needs_background": "light"
     },
     "output_type": "display_data"
    }
   ],
   "source": [
    "import numpy as np\n",
    "import matplotlib.pyplot as plt\n",
    "import urllib.request\n",
    "\n",
    "# 간단한 합성곱 층을 정의합니다\n",
    "class Conv:\n",
    "    def __init__(self, W, filters, kernel_size):\n",
    "        self.filters = filters\n",
    "        self.kernel_size = kernel_size\n",
    "        self.W = W # np.random.rand(filters, kernel_size[0], \n",
    "                   # kernel_size[1])\n",
    "    def f_prop(self, X):\n",
    "        k_h, k_w = self.kernel_size\n",
    "        out = np.zeros((filters, X.shape[0]-k_h+1, X.shape[1]-k_w+1))\n",
    "        for k in range(self.filters):\n",
    "            for i in range(out[0].shape[0]):\n",
    "                for j in range(out[0].shape[1]):\n",
    "                    x = X[i:i+k_h, j:j+k_w]\n",
    "                    out[k,i,j] = np.dot(self.W[k].flatten(), \n",
    "                                        x.flatten())\n",
    "        return out\n",
    "\n",
    "# 간단한 풀링 층을 정의합니다\n",
    "# 1채널의 특징 맵의 풀링만 상정합니다\n",
    "class Pool:\n",
    "    def __init__(self, pool_size):\n",
    "        self.pool_size = pool_size\n",
    "    def f_prop(self, X):\n",
    "        k_h, k_w = self.pool_size\n",
    "        out = np.zeros((X.shape[0]-k_h+1, X.shape[1]-k_w+1))\n",
    "        for i in range(out.shape[0]):\n",
    "            for j in range(out.shape[1]):\n",
    "                out[i,j] = np.max(X[i:i+k_h, j:j+k_w])\n",
    "        return out\n",
    "\n",
    "local_filename, headers = urllib.request.urlretrieve('https://aidemystorageprd.blob.core.windows.net/data/5100_cnn_data/circle.npy') \n",
    "X = np.load(local_filename)\n",
    "\n",
    "local_filename_w, headers = urllib.request.urlretrieve('https://aidemystorageprd.blob.core.windows.net/data/5100_cnn_data/weight.npy') \n",
    "W = np.load(local_filename_w)\n",
    "\n",
    "# 합성곱\n",
    "filters = 4\n",
    "kernel_size = (3,3)\n",
    "conv = Conv(W=W, filters=filters, kernel_size=kernel_size)\n",
    "C = conv.f_prop(X)\n",
    "\n",
    "# 풀링 1\n",
    "pool_size = (2,2)\n",
    "pool1 = Pool(pool_size)\n",
    "P1 = [pool1.f_prop(C[i]) for i in range(len(C))]\n",
    "\n",
    "# 풀링 2(정의하세요)\n",
    "pool_size = (4,4)\n",
    "pool2 = Pool(pool_size)\n",
    "P2 = [pool2.f_prop(C[i]) for i in range(len(C))]\n",
    "# --------------------------------------------------------------\n",
    "# 이후는 모두 시각화를 위한 코드입니다\n",
    "# --------------------------------------------------------------\n",
    "plt.imshow(X)\n",
    "plt.title('The original image', fontsize=12)\n",
    "plt.show()\n",
    "\n",
    "plt.figure(figsize=(10,1))\n",
    "for i in range(filters):\n",
    "    plt.subplot(1, filters, i+1)\n",
    "    ax = plt.gca() # get current axis\n",
    "    ax.tick_params(labelbottom=\"off\", labelleft=\"off\", bottom=\"off\", \n",
    "                   left=\"off\") # 축을 삭제합니다\n",
    "    plt.imshow(C[i])\n",
    "plt.suptitle('Convolution result', fontsize=12)\n",
    "plt.show()\n",
    "\n",
    "plt.figure(figsize=(10,1))\n",
    "for i in range(filters):\n",
    "    plt.subplot(1, filters, i+1)\n",
    "    ax = plt.gca() # get current axis\n",
    "    ax.tick_params(labelbottom=\"off\", labelleft=\"off\", bottom=\"off\", \n",
    "                   left=\"off\") # 축을 삭제합니다\n",
    "    plt.imshow(P1[i])\n",
    "plt.suptitle('Pooling result', fontsize=12)\n",
    "plt.show()\n",
    "\n",
    "plt.figure(figsize=(10,1))\n",
    "for i in range(filters):\n",
    "    plt.subplot(1, filters, i+1)\n",
    "    ax = plt.gca() # get current axis\n",
    "    ax.tick_params(labelbottom=\"off\", labelleft=\"off\", bottom=\"off\", \n",
    "                   left=\"off\") # 축을 삭제합니다\n",
    "    plt.imshow(P2[i])\n",
    "plt.suptitle('Pooling result', fontsize=12)\n",
    "plt.show()"
   ]
  },
  {
   "cell_type": "code",
   "execution_count": 14,
   "metadata": {},
   "outputs": [
    {
     "data": {
      "image/png": "[encoded data removed]",
      "text/plain": [
       "<Figure size 432x288 with 1 Axes>"
      ]
     },
     "metadata": {
      "needs_background": "light"
     },
     "output_type": "display_data"
    },
    {
     "data": {
      "image/png": "[encoded data removed]",
      "text/plain": [
       "<Figure size 720x72 with 4 Axes>"
      ]
     },
     "metadata": {
      "needs_background": "light"
     },
     "output_type": "display_data"
    },
    {
     "data": {
      "image/png": "[encoded data removed]",
      "text/plain": [
       "<Figure size 720x72 with 4 Axes>"
      ]
     },
     "metadata": {
      "needs_background": "light"
     },
     "output_type": "display_data"
    },
    {
     "data": {
      "image/png": "[encoded data removed]",
      "text/plain": [
       "<Figure size 720x72 with 4 Axes>"
      ]
     },
     "metadata": {
      "needs_background": "light"
     },
     "output_type": "display_data"
    }
   ],
   "source": [
    "import numpy as np\n",
    "import matplotlib.pyplot as plt\n",
    "import urllib.request\n",
    "\n",
    "# 간단한 합성곱 층을 정의합니다\n",
    "class Conv:\n",
    "    def __init__(self, W, filters, kernel_size):\n",
    "        self.filters = filters\n",
    "        self.kernel_size = kernel_size\n",
    "        self.W = W # np.random.rand(filters, kernel_size[0], \n",
    "                   #                kernel_size[1])\n",
    "    def f_prop(self, X):\n",
    "        k_h, k_w = self.kernel_size\n",
    "        out = np.zeros((filters, X.shape[0]-k_h+1, X.shape[1]-k_w+1))\n",
    "        for k in range(self.filters):\n",
    "            for i in range(out[0].shape[0]):\n",
    "                for j in range(out[0].shape[1]):\n",
    "                    x = X[i:i+k_h, j:j+k_w]\n",
    "                    out[k,i,j] = np.dot(self.W[k].flatten(), \n",
    "                                        x.flatten())\n",
    "        return out\n",
    "\n",
    "# 간단한 풀링 층을 정의합니다\n",
    "# 1채널의 특징 맵의 풀링만 상정합니다\n",
    "class Pool:\n",
    "    def __init__(self, pool_size, strides):\n",
    "        self.pool_size = pool_size\n",
    "        self.strides = strides\n",
    "    def f_prop(self, X):\n",
    "        k_h, k_w = self.pool_size\n",
    "        s_h, s_w = self.strides\n",
    "        out = np.zeros(((X.shape[0]-k_h)//s_h+1, (X.shape[1]-k_w)//s_w+1))\n",
    "        for i in range(out.shape[0]):\n",
    "            for j in range(out.shape[1]):\n",
    "                out[i,j] = np.max(X[i*s_h:i*s_h+k_h, j*s_w:j*s_w+k_w])\n",
    "        return out\n",
    "\n",
    "local_filename, headers = urllib.request.urlretrieve('https://aidemystorageprd.blob.core.windows.net/data/5100_cnn_data/circle.npy') \n",
    "X = np.load(local_filename)\n",
    "\n",
    "local_filename_w, headers = urllib.request.urlretrieve('https://aidemystorageprd.blob.core.windows.net/data/5100_cnn_data/weight.npy') \n",
    "W = np.load(local_filename_w)\n",
    "\n",
    "# 합성곱\n",
    "filters = 4\n",
    "kernel_size = (3,3)\n",
    "conv = Conv(W=W, filters=filters, kernel_size=kernel_size)\n",
    "C = conv.f_prop(X)\n",
    "\n",
    "# 풀링 1\n",
    "pool_size = (2,2)\n",
    "strides = (1,1)\n",
    "pool1 = Pool(pool_size, strides)\n",
    "P1 = [pool1.f_prop(C[i]) for i in range(len(C))]\n",
    "\n",
    "# 풀링 2(정의하세요)\n",
    "pool_size = (3,3)\n",
    "strides = (2,2)\n",
    "pool2 = Pool((3,3), (2,2))\n",
    "P2 = [pool2.f_prop(C[i]) for i in range(len(C))]\n",
    "# --------------------------------------------------------------\n",
    "# 이후는 모두 시각화를 위한 코드입니다\n",
    "# --------------------------------------------------------------\n",
    "plt.imshow(X)\n",
    "plt.title('The original image', fontsize=12)\n",
    "plt.show()\n",
    "\n",
    "plt.figure(figsize=(10,1))\n",
    "for i in range(filters):\n",
    "    plt.subplot(1, filters, i+1)\n",
    "    ax = plt.gca() # get current axis\n",
    "    ax.tick_params(labelbottom=\"off\", labelleft=\"off\", bottom=\"off\", \n",
    "                   left=\"off\") # 축을 삭제합니다\n",
    "    plt.imshow(C[i])\n",
    "plt.suptitle('Convolution result', fontsize=12)\n",
    "plt.show()\n",
    "\n",
    "plt.figure(figsize=(10,1))\n",
    "for i in range(filters):\n",
    "    plt.subplot(1, filters, i+1)\n",
    "    ax = plt.gca() # get current axis\n",
    "    ax.tick_params(labelbottom=\"off\", labelleft=\"off\", bottom=\"off\", \n",
    "                   left=\"off\") # 축을 삭제합니다\n",
    "    plt.imshow(P1[i])\n",
    "plt.suptitle('Pooling result', fontsize=12)\n",
    "plt.show()\n",
    "\n",
    "plt.figure(figsize=(10,1))\n",
    "for i in range(filters):\n",
    "    plt.subplot(1, filters, i+1)\n",
    "    ax = plt.gca() # get current axis\n",
    "    ax.tick_params(labelbottom=\"off\", labelleft=\"off\", bottom=\"off\", \n",
    "                   left=\"off\") # 축을 삭제합니다\n",
    "    plt.imshow(P2[i])\n",
    "plt.suptitle('Pooling result', fontsize=12)\n",
    "plt.show()"
   ]
  },
  {
   "cell_type": "code",
   "execution_count": 15,
   "metadata": {},
   "outputs": [
    {
     "data": {
      "image/png": "[encoded data removed]",
      "text/plain": [
       "<Figure size 432x288 with 1 Axes>"
      ]
     },
     "metadata": {
      "needs_background": "light"
     },
     "output_type": "display_data"
    },
    {
     "data": {
      "image/png": "[encoded data removed]",
      "text/plain": [
       "<Figure size 720x72 with 4 Axes>"
      ]
     },
     "metadata": {
      "needs_background": "light"
     },
     "output_type": "display_data"
    },
    {
     "data": {
      "image/png": "[encoded data removed]",
      "text/plain": [
       "<Figure size 720x72 with 4 Axes>"
      ]
     },
     "metadata": {
      "needs_background": "light"
     },
     "output_type": "display_data"
    },
    {
     "data": {
      "image/png": "[encoded data removed]",
      "text/plain": [
       "<Figure size 720x72 with 4 Axes>"
      ]
     },
     "metadata": {
      "needs_background": "light"
     },
     "output_type": "display_data"
    }
   ],
   "source": [
    "import numpy as np\n",
    "import matplotlib.pyplot as plt\n",
    "import urllib.request\n",
    "\n",
    "# 간단한 합성곱 층을 정의합니다\n",
    "class Conv:\n",
    "    def __init__(self, W, filters, kernel_size):\n",
    "        self.filters = filters\n",
    "        self.kernel_size = kernel_size\n",
    "        self.W = W # np.random.rand(filters, kernel_size[0], \n",
    "                   #                         kernel_size[1])\n",
    "    def f_prop(self, X):\n",
    "        k_h, k_w = self.kernel_size\n",
    "        out = np.zeros((filters, X.shape[0]-k_h+1, X.shape[1]-k_w+1))\n",
    "        for k in range(self.filters):\n",
    "            for i in range(out[0].shape[0]):\n",
    "                for j in range(out[0].shape[1]):\n",
    "                    x = X[i:i+k_h, j:j+k_w]\n",
    "                    out[k,i,j] = np.dot(self.W[k].flatten(), \n",
    "                                        x.flatten())\n",
    "        return out\n",
    "\n",
    "# 간단한 풀링 층을 정의합니다\n",
    "# 1채널의 특징 맵의 풀링만 상정합니다\n",
    "class Pool:\n",
    "    def __init__(self, pool_size, strides, padding):\n",
    "        self.pool_size = pool_size\n",
    "        self.strides = strides\n",
    "        self.padding = padding\n",
    "    def f_prop(self, X):\n",
    "        k_h, k_w = self.pool_size\n",
    "        s_h, s_w = self.strides\n",
    "        p_h, p_w = self.padding\n",
    "        out = np.zeros(((X.shape[0]+p_h*2-k_h)//s_h+1, \n",
    "                        (X.shape[1]+p_w*2-k_w)//s_w+1))\n",
    "        X = np.pad(X, ((p_h,p_h),(p_w,p_w)), 'constant', \n",
    "                   constant_values=((0,0),(0,0)))\n",
    "        for i in range(out.shape[0]):\n",
    "            for j in range(out.shape[1]):\n",
    "                out[i,j] = np.max(X[i*s_h:i*s_h+k_h, j*s_w:j*s_w+k_w])\n",
    "        return out\n",
    "\n",
    "local_filename, headers = urllib.request.urlretrieve('https://aidemystorageprd.blob.core.windows.net/data/5100_cnn_data/circle.npy') \n",
    "X = np.load(local_filename)\n",
    "\n",
    "local_filename_w, headers = urllib.request.urlretrieve('https://aidemystorageprd.blob.core.windows.net/data/5100_cnn_data/weight.npy') \n",
    "W = np.load(local_filename_w)\n",
    "\n",
    "# 합성곱\n",
    "filters = 4\n",
    "kernel_size = (3,3)\n",
    "conv = Conv(W=W, filters=filters, kernel_size=kernel_size)\n",
    "C = conv.f_prop(X)\n",
    "\n",
    "# 풀링 1\n",
    "pool_size = (2,2)\n",
    "strides = (2,2)\n",
    "padding = (0,0)\n",
    "pool1 = Pool(pool_size=pool_size, strides=strides, padding=padding)\n",
    "P1 = [pool1.f_prop(C[i]) for i in range(len(C))]\n",
    "\n",
    "# 풀링 2(정의하세요)\n",
    "pool_size = (2,2)\n",
    "strides = (2,2)\n",
    "padding = (1,1)\n",
    "pool2 = Pool(pool_size=pool_size, strides=strides, padding=padding)\n",
    "P2 = [pool2.f_prop(C[i]) for i in range(len(C))]\n",
    "# --------------------------------------------------------------\n",
    "# 이후는 모두 시각화를 위한 코드입니다\n",
    "# --------------------------------------------------------------\n",
    "plt.imshow(X)\n",
    "plt.title('The original image', fontsize=12)\n",
    "plt.show()\n",
    "\n",
    "plt.figure(figsize=(10,1))\n",
    "for i in range(filters):\n",
    "    plt.subplot(1, filters, i+1)\n",
    "    ax = plt.gca() # get current axis\n",
    "    ax.tick_params(labelbottom=\"off\", labelleft=\"off\", bottom=\"off\", \n",
    "                   left=\"off\") # 축을 삭제합니다\n",
    "    plt.imshow(C[i])\n",
    "plt.suptitle('Convolution result', fontsize=12)\n",
    "plt.show()\n",
    "\n",
    "plt.figure(figsize=(10,1))\n",
    "for i in range(filters):\n",
    "    plt.subplot(1, filters, i+1)\n",
    "    ax = plt.gca() # get current axis\n",
    "    ax.tick_params(labelbottom=\"off\", labelleft=\"off\", bottom=\"off\", \n",
    "                   left=\"off\") # 축을 삭제합니다\n",
    "    plt.imshow(P1[i])\n",
    "plt.suptitle('Pooling result', fontsize=12)\n",
    "plt.show()\n",
    "\n",
    "plt.figure(figsize=(10,1))\n",
    "for i in range(filters):\n",
    "    plt.subplot(1, filters, i+1)\n",
    "    ax = plt.gca() # get current axis\n",
    "    ax.tick_params(labelbottom=\"off\", labelleft=\"off\", bottom=\"off\", \n",
    "                   left=\"off\") # 축을 삭제합니다\n",
    "    plt.imshow(P2[i])\n",
    "plt.suptitle('Pooling result', fontsize=12)\n",
    "plt.show()"
   ]
  },
  {
   "cell_type": "code",
   "execution_count": 16,
   "metadata": {},
   "outputs": [
    {
     "name": "stdout",
     "output_type": "stream",
     "text": [
      "_________________________________________________________________\n",
      "Layer (type)                 Output Shape              Param #   \n",
      "=================================================================\n",
      "conv2d_9 (Conv2D)            (None, 28, 28, 32)        160       \n",
      "_________________________________________________________________\n",
      "max_pooling2d_6 (MaxPooling2 (None, 27, 27, 32)        0         \n",
      "_________________________________________________________________\n",
      "conv2d_10 (Conv2D)           (None, 27, 27, 32)        4128      \n",
      "_________________________________________________________________\n",
      "max_pooling2d_7 (MaxPooling2 (None, 26, 26, 32)        0         \n",
      "_________________________________________________________________\n",
      "flatten_4 (Flatten)          (None, 21632)             0         \n",
      "_________________________________________________________________\n",
      "dense_8 (Dense)              (None, 256)               5538048   \n",
      "_________________________________________________________________\n",
      "activation_14 (Activation)   (None, 256)               0         \n",
      "_________________________________________________________________\n",
      "dense_9 (Dense)              (None, 128)               32896     \n",
      "_________________________________________________________________\n",
      "activation_15 (Activation)   (None, 128)               0         \n",
      "_________________________________________________________________\n",
      "dense_10 (Dense)             (None, 10)                1290      \n",
      "_________________________________________________________________\n",
      "activation_16 (Activation)   (None, 10)                0         \n",
      "=================================================================\n",
      "Total params: 5,576,522\n",
      "Trainable params: 5,576,522\n",
      "Non-trainable params: 0\n",
      "_________________________________________________________________\n"
     ]
    }
   ],
   "source": [
    "from keras.layers import Activation, Conv2D, Dense, Flatten, MaxPooling2D\n",
    "from keras.models import Sequential, load_model\n",
    "from keras.utils.np_utils import to_categorical\n",
    "\n",
    "# 모델을 정의합니다\n",
    "# 인스턴스를 작성하세요\n",
    "model = Sequential()\n",
    "\n",
    "model.add(Conv2D(input_shape=(28, 28, 1), \n",
    "                 filters=32,\n",
    "                 kernel_size=(2, 2), \n",
    "                 strides=(1, 1), \n",
    "                 padding=\"same\"))\n",
    "model.add(MaxPooling2D(pool_size=(2, 2), \n",
    "                       strides=(1,1)))\n",
    "model.add(Conv2D(filters=32, \n",
    "                 kernel_size=(2, 2), \n",
    "                 strides=(1, 1), \n",
    "                 padding=\"same\"))\n",
    "model.add(MaxPooling2D(pool_size=(2, 2), \n",
    "                       strides=(1,1)))\n",
    "model.add(Flatten())\n",
    "model.add(Dense(256))\n",
    "\n",
    "\n",
    "# 활성화 함수는 sigmoid을 사용하세요\n",
    "model.add(Activation('sigmoid'))\n",
    "model.add(Dense(128))\n",
    "\n",
    "# 활성화 함수는 sigmoid을 사용하세요\n",
    "model.add(Activation('sigmoid'))\n",
    "model.add(Dense(10))\n",
    "\n",
    "# 활성화 함수는 softmax를 사용하세요\n",
    "model.add(Activation('softmax'))\n",
    "\n",
    "model.summary() "
   ]
  },
  {
   "cell_type": "code",
   "execution_count": null,
   "metadata": {},
   "outputs": [],
   "source": []
  }
 ],
 "metadata": {
  "kernelspec": {
   "display_name": "Python 3",
   "language": "python",
   "name": "python3"
  },
  "language_info": {
   "codemirror_mode": {
    "name": "ipython",
    "version": 3
   },
   "file_extension": ".py",
   "mimetype": "text/x-python",
   "name": "python",
   "nbconvert_exporter": "python",
   "pygments_lexer": "ipython3",
   "version": "3.6.9"
  }
 },
 "nbformat": 4,
 "nbformat_minor": 2
}
