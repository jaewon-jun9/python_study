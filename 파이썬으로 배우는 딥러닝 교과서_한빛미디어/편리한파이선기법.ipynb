{
 "cells": [
  {
   "cell_type": "code",
   "execution_count": 1,
   "metadata": {},
   "outputs": [],
   "source": [
    "# 예: x^2를 출력하는 함수 pow1(x)입니다\n",
    "def pow1(x):\n",
    "    return x ** 2"
   ]
  },
  {
   "cell_type": "code",
   "execution_count": 2,
   "metadata": {},
   "outputs": [],
   "source": [
    "# pow1(x)와 동일한 기능을 하는 익명 함수 pow2입니다\n",
    "pow2 = lambda x: x ** 2"
   ]
  },
  {
   "cell_type": "code",
   "execution_count": 3,
   "metadata": {},
   "outputs": [],
   "source": [
    "# pow2에 인수 a를 전달하여, 계산 결과를 b에 저장합니다\n",
    "# b = pow2(a)"
   ]
  },
  {
   "cell_type": "code",
   "execution_count": 4,
   "metadata": {},
   "outputs": [
    {
     "name": "stdout",
     "output_type": "stream",
     "text": [
      "21\n",
      "21\n"
     ]
    }
   ],
   "source": [
    "# 대입할 인수 a입니다\n",
    "a = 4\n",
    "\n",
    "# def를 이용하여 func1를 작성하세요\n",
    "def func1(x):\n",
    "    return 2 * x**2 - 3*x + 1\n",
    "\n",
    "# lambda를 이용하여 func2를 작성하세요\n",
    "func2 = lambda x: 2 * x**2 - 3*x + 1\n",
    "\n",
    "# 반환값을 출력합니다\n",
    "print(func1(a))\n",
    "print(func2(a))"
   ]
  },
  {
   "cell_type": "code",
   "execution_count": 5,
   "metadata": {},
   "outputs": [],
   "source": [
    "# 예: 두 인수를 더하는 함수 add1입니다\n",
    "add1 = lambda x, y: x + y"
   ]
  },
  {
   "cell_type": "code",
   "execution_count": 6,
   "metadata": {},
   "outputs": [
    {
     "name": "stdout",
     "output_type": "stream",
     "text": [
      "8\n"
     ]
    }
   ],
   "source": [
    "print((lambda x, y: x + y)(3, 5))"
   ]
  },
  {
   "cell_type": "code",
   "execution_count": 7,
   "metadata": {},
   "outputs": [
    {
     "name": "stdout",
     "output_type": "stream",
     "text": [
      "32\n",
      "32\n"
     ]
    }
   ],
   "source": [
    "# 대입할 인수 x, y, z입니다\n",
    "x = 5\n",
    "y = 6\n",
    "z = 2\n",
    "\n",
    "# def를 이용하여 func3를 작성하세요\n",
    "def func3(x, y, z):\n",
    "    return x*y + z\n",
    "\n",
    "# lambda를 이용하여 func4를 작성하세요\n",
    "func4 = lambda x, y, z: x*y + z\n",
    "\n",
    "# 출력합니다\n",
    "print(func3(x, y, z))\n",
    "print(func4(x, y, z))\n"
   ]
  },
  {
   "cell_type": "code",
   "execution_count": 8,
   "metadata": {},
   "outputs": [],
   "source": [
    "# \"hello\"를 출력하는 함수입니다\n",
    "def say_hello():\n",
    "    print(\"hello\")\n"
   ]
  },
  {
   "cell_type": "code",
   "execution_count": 9,
   "metadata": {},
   "outputs": [],
   "source": [
    "# 인수가 3 미만이면 2를 곱하고, 3 이상이면 3으로 나누어 5를 더하는 함수입니다\n",
    "def lower_three1(x):\n",
    "    if x < 3:\n",
    "        return x * 2\n",
    "    else:\n",
    "        return x/3 + 5\n"
   ]
  },
  {
   "cell_type": "code",
   "execution_count": 10,
   "metadata": {},
   "outputs": [],
   "source": [
    "# lower_three1와 동일한 함수\n",
    "lower_three2 = lambda x: x * 2 if x < 3 else x/3 + 5\n"
   ]
  },
  {
   "cell_type": "code",
   "execution_count": 11,
   "metadata": {},
   "outputs": [
    {
     "name": "stdout",
     "output_type": "stream",
     "text": [
      "-1\n",
      "50\n"
     ]
    }
   ],
   "source": [
    "# 대입할 인수 a1, a2입니다\n",
    "a1 = 13\n",
    "a2 = 32\n",
    "\n",
    "# lambda를 이용하여 func5를 작성하세요\n",
    "func5 = lambda x: x**2 - 40*x + 350 if x >= 10 and x < 30 else 50\n",
    "\n",
    "# 반환값을 출력합니다\n",
    "print(func5(a1))\n",
    "print(func5(a2))\n"
   ]
  },
  {
   "cell_type": "code",
   "execution_count": 12,
   "metadata": {
    "scrolled": true
   },
   "outputs": [
    {
     "data": {
      "text/plain": [
       "['this', 'is', 'a', 'test', 'sentence.']"
      ]
     },
     "execution_count": 12,
     "metadata": {},
     "output_type": "execute_result"
    }
   ],
   "source": [
    "# 나눌 문자열입니다\n",
    "test_sentence = \"this is a test sentence.\"\n",
    "\n",
    "# split으로 리스트를 만듭니다\n",
    "test_sentence.split(\" \")"
   ]
  },
  {
   "cell_type": "code",
   "execution_count": 13,
   "metadata": {},
   "outputs": [
    {
     "name": "stdout",
     "output_type": "stream",
     "text": [
      "Yamada\n"
     ]
    }
   ],
   "source": [
    "# 자기 소개 문자열 self_data입니다\n",
    "self_data = \"My name is Yamada\"\n",
    "\n",
    "# self_data를 분리해 리스트를 작성하세요\n",
    "word_list = self_data.split(\" \")\n",
    "\n",
    "# \"이름\"을 출력하세요\n",
    "print(word_list[3])"
   ]
  },
  {
   "cell_type": "code",
   "execution_count": 14,
   "metadata": {},
   "outputs": [
    {
     "data": {
      "text/plain": [
       "['this', 'is', 'a', 'test', 'sentence']"
      ]
     },
     "execution_count": 14,
     "metadata": {},
     "output_type": "execute_result"
    }
   ],
   "source": [
    "# re 모듈을 import합니다\n",
    "import re\n",
    "# 나눌 문자열입니다\n",
    "test_sentence = \"this,is a.test,sentence\"\n",
    "# \",\"와 \" \"와 \".\"으로 분할해 리스트를 만듭니다\n",
    "re.split(\"[, .]\", test_sentence)\n"
   ]
  },
  {
   "cell_type": "code",
   "execution_count": 15,
   "metadata": {},
   "outputs": [
    {
     "name": "stdout",
     "output_type": "stream",
     "text": [
      "4\n",
      "22\n"
     ]
    }
   ],
   "source": [
    "import re\n",
    "# 시간 데이터가 저장된 문자열 time_data입니다\n",
    "time_data = \"2017/4/1_22:15\"\n",
    "\n",
    "# time_data를 분리하여 리스트를 작성하세요\n",
    "time_list = re.split(\"[/_:]\",time_data)\n",
    "\n",
    "# \"월\"과 \"시\"를 출력하세요\n",
    "print(time_list[1])\n",
    "print(time_list[3])"
   ]
  },
  {
   "cell_type": "code",
   "execution_count": 16,
   "metadata": {},
   "outputs": [
    {
     "name": "stdout",
     "output_type": "stream",
     "text": [
      "[1, 2, 3, 4, 5]\n"
     ]
    }
   ],
   "source": [
    "# for 루프로 함수를 적용합니다\n",
    "a = [1, -2, 3, -4, 5]\n",
    "new = []\n",
    "for x in a:\n",
    "    new.append(abs(x))\n",
    "print(new)\n"
   ]
  },
  {
   "cell_type": "code",
   "execution_count": 17,
   "metadata": {},
   "outputs": [
    {
     "data": {
      "text/plain": [
       "[1, 2, 3, 4, 5]"
      ]
     },
     "execution_count": 17,
     "metadata": {},
     "output_type": "execute_result"
    }
   ],
   "source": [
    "# map으로 함수를 적용합니다\n",
    "a = [1, -2, 3, -4, 5]\n",
    "list(map(abs, a))"
   ]
  },
  {
   "cell_type": "code",
   "execution_count": 18,
   "metadata": {},
   "outputs": [
    {
     "name": "stdout",
     "output_type": "stream",
     "text": [
      "[2, 23, 14, 7, 22]\n"
     ]
    }
   ],
   "source": [
    "import re\n",
    "\n",
    "# 배열 time_list\n",
    "time_list = [\n",
    "    \"2006/11/26_2:40\",\n",
    "    \"2009/1/16_23:35\",\n",
    "    \"2014/5/4_14:26\",\n",
    "    \"2017/8/9_7:5\",\n",
    "    \"2017/4/1_22:15\"\n",
    "]\n",
    "\n",
    "# 문자열에서 \"시\"를 추출하는 함수를 작성하세요\n",
    "get_hour = lambda x: int(re.split(\"[/_:]\",x)[3]) # int()로 string 형을 int 형으로 변경\n",
    "\n",
    "# 위에서 만든 함수를 이용하여 각 요소에서 \"시\"만 꺼내 배열로 만드세요\n",
    "hour_list = list(map(get_hour, time_list))\n",
    "\n",
    "# 출력하세요\n",
    "print(hour_list)"
   ]
  },
  {
   "cell_type": "code",
   "execution_count": 19,
   "metadata": {},
   "outputs": [],
   "source": [
    "# for 루프로 필터링합니다\n",
    "a = [1, -2, 3, -4, 5]\n",
    "new = []\n",
    "for x in a:\n",
    "    if x > 0:\n",
    "        new.append(x)\n"
   ]
  },
  {
   "cell_type": "code",
   "execution_count": 20,
   "metadata": {},
   "outputs": [
    {
     "name": "stdout",
     "output_type": "stream",
     "text": [
      "[1, 3, 5]\n"
     ]
    }
   ],
   "source": [
    "# filter 함수로 필터링합니다\n",
    "a = [1, -2, 3, -4, 5]\n",
    "print(list(filter(lambda x: x>0, a)))\n"
   ]
  },
  {
   "cell_type": "code",
   "execution_count": 21,
   "metadata": {},
   "outputs": [
    {
     "name": "stdout",
     "output_type": "stream",
     "text": [
      "['2009/1/16_23:35', '2014/5/4_14:26', '2017/4/1_22:15']\n"
     ]
    }
   ],
   "source": [
    "import re\n",
    "\n",
    "# time_list...\"년/월/일_시:분\"\n",
    "time_list = [\n",
    "    \"2006/11/26_2:40\",\n",
    "    \"2009/1/16_23:35\",\n",
    "    \"2014/5/4_14:26\",\n",
    "    \"2017/8/9_7:5\",\n",
    "    \"2017/4/1_22:15\"\n",
    "]\n",
    "# 문자열의 \"월\"이 조건을 채울 때 True를 반환하는 함수를 작성하세요\n",
    "is_first_half = lambda x: int(re.split(\"[/_:]\", x)[1]) - 7 < 0\n",
    "\n",
    "# 위에서 만든 함수로 조건에 맞는 요소를 찾아내, 배열로 만듭니다\n",
    "first_half_list = list(filter(is_first_half, time_list))\n",
    "\n",
    "# 출력하세요\n",
    "print(first_half_list)\n"
   ]
  },
  {
   "cell_type": "code",
   "execution_count": 22,
   "metadata": {},
   "outputs": [
    {
     "name": "stdout",
     "output_type": "stream",
     "text": [
      "[[4, 5], [3, 6], [2, 7], [1, 8], [0, 9]]\n"
     ]
    }
   ],
   "source": [
    "# 중첩된 배열입니다\n",
    "nest_list =[\n",
    "    [0, 9],\n",
    "    [1, 8],\n",
    "    [2, 7],\n",
    "    [3, 6],\n",
    "    [4, 5]\n",
    "]\n",
    "\n",
    "# 두번째 요소를 키로 하여 정렬합니다\n",
    "print(sorted(nest_list, key = lambda x: x [1]))\n"
   ]
  },
  {
   "cell_type": "code",
   "execution_count": 23,
   "metadata": {},
   "outputs": [
    {
     "name": "stdout",
     "output_type": "stream",
     "text": [
      "[[2006, 11, 26, 2, 40], [2017, 8, 9, 7, 5], [2014, 5, 4, 14, 26], [2017, 4, 1, 22, 15], [2009, 1, 16, 23, 35]]\n"
     ]
    }
   ],
   "source": [
    "# time_data...[년, 월, 일, 시, 분]\n",
    "time_data = [\n",
    "    [2006, 11, 26, 2, 40],\n",
    "    [2009, 1, 16, 23, 35],\n",
    "    [2014, 5, 4, 14, 26],\n",
    "    [2017, 8, 9, 7, 5],\n",
    "    [2017, 4, 1, 22, 15]\n",
    "]\n",
    "\n",
    "# \"시\"를 키로 정렬하고 배열로 만듭니다\n",
    "sort_by_time = sorted(time_data, key=lambda x: x[3])\n",
    "\n",
    "# 출력하세요\n",
    "print(sort_by_time)\n"
   ]
  },
  {
   "cell_type": "code",
   "execution_count": 24,
   "metadata": {},
   "outputs": [
    {
     "name": "stdout",
     "output_type": "stream",
     "text": [
      "[1, 2, 3, 4, 5]\n"
     ]
    }
   ],
   "source": [
    "# 리스트 내포로 각 요소의 절대값을 취합니다\n",
    "a = [1, -2, 3, -4, 5]\n",
    "print([abs(x) for x in a])"
   ]
  },
  {
   "cell_type": "code",
   "execution_count": 25,
   "metadata": {},
   "outputs": [
    {
     "name": "stdout",
     "output_type": "stream",
     "text": [
      "[1, 2, 3, 4, 5]\n"
     ]
    }
   ],
   "source": [
    "# map으로 리스트를 만듭니다\n",
    "a = [1, -2, 3, -4, 5]\n",
    "print(list(map(abs, a)))\n"
   ]
  },
  {
   "cell_type": "code",
   "execution_count": 26,
   "metadata": {},
   "outputs": [
    {
     "name": "stdout",
     "output_type": "stream",
     "text": [
      "[[0, 30], [2, 35], [3, 0], [1, 14], [0, 11], [1, 0], [1, 22]]\n"
     ]
    }
   ],
   "source": [
    "# minute_data, 단위는 분입니다\n",
    "minute_data = [30, 155, 180, 74, 11, 60, 82]\n",
    "\n",
    "# 분을 [시, 분]으로 변환하는 함수를 작성하세요\n",
    "h_m_split = lambda x: [x // 60, x % 60]\n",
    "\n",
    "# 리스트 내포를 사용하여 배열을 작성하세요\n",
    "h_m_data = [h_m_split(x) for x in minute_data]\n",
    "\n",
    "# 출력하세요\n",
    "print(h_m_data)"
   ]
  },
  {
   "cell_type": "code",
   "execution_count": 27,
   "metadata": {},
   "outputs": [
    {
     "name": "stdout",
     "output_type": "stream",
     "text": [
      "[1, 3, 5]\n"
     ]
    }
   ],
   "source": [
    "# 리스트 내포 필터링(후위 if)\n",
    "a = [1, -2, 3, -4, 5]\n",
    "print([x for x in a if x > 0])\n"
   ]
  },
  {
   "cell_type": "code",
   "execution_count": 28,
   "metadata": {},
   "outputs": [
    {
     "name": "stdout",
     "output_type": "stream",
     "text": [
      "[180, 60]\n"
     ]
    }
   ],
   "source": [
    "# minute_data, 단위는 분입니다\n",
    "minute_data = [30, 155, 180, 74, 11, 60, 82]\n",
    "\n",
    "# 리스트 내포를 사용하여 배열을 작성하세요\n",
    "just_hour_data = [x for x in minute_data if x % 60 == 0 ]\n",
    "\n",
    "# 출력하세요\n",
    "print(just_hour_data)"
   ]
  },
  {
   "cell_type": "code",
   "execution_count": 29,
   "metadata": {},
   "outputs": [
    {
     "name": "stdout",
     "output_type": "stream",
     "text": [
      "1 9\n",
      "-2 8\n",
      "3 -7\n",
      "-4 -6\n",
      "5 -5\n"
     ]
    }
   ],
   "source": [
    "# zip을 이용한 동시 루프입니다\n",
    "a = [1, -2, 3, -4, 5]\n",
    "b = [9, 8, -7, -6, -5]\n",
    "for x, y in zip(a, b):\n",
    "    print(x, y)\n"
   ]
  },
  {
   "cell_type": "code",
   "execution_count": 30,
   "metadata": {},
   "outputs": [
    {
     "name": "stdout",
     "output_type": "stream",
     "text": [
      "[82, 68, 58, 52, 50]\n"
     ]
    }
   ],
   "source": [
    "# 리스트 내포로 동시에 처리합니다\n",
    "a = [1, -2, 3, -4, 5]\n",
    "b = [9, 8, -7, -6, -5]\n",
    "print([x**2 + y**2 for x, y in zip(a, b)])"
   ]
  },
  {
   "cell_type": "code",
   "execution_count": 31,
   "metadata": {},
   "outputs": [
    {
     "name": "stdout",
     "output_type": "stream",
     "text": [
      "[30, 155, 180, 74, 11, 60, 82]\n"
     ]
    }
   ],
   "source": [
    "# 시간 데이터 hour, 분 데이터 minute\n",
    "hour = [0, 2, 3, 1, 0, 1, 1]\n",
    "minute = [30, 35, 0, 14, 11, 0, 22]\n",
    "\n",
    "# 시, 분을 인수로 받은 뒤, 분으로 변환하는 함수를 작성하세요\n",
    "h_m_combine = lambda x, y: x*60 + y\n",
    "\n",
    "# 리스트 내포를 사용하여 배열을 작성하세요\n",
    "minute_data1 = [h_m_combine(x, y) for x, y in zip(hour, minute)]\n",
    "\n",
    "# 출력하세요\n",
    "print(minute_data1)\n"
   ]
  },
  {
   "cell_type": "code",
   "execution_count": 32,
   "metadata": {},
   "outputs": [
    {
     "name": "stdout",
     "output_type": "stream",
     "text": [
      "1 9\n",
      "1 8\n",
      "-2 9\n",
      "-2 8\n",
      "3 9\n",
      "3 8\n"
     ]
    }
   ],
   "source": [
    "a = [1, -2, 3]\n",
    "b = [9, 8]\n",
    "\n",
    "# 이중 루프입니다\n",
    "for x in a:\n",
    "    for y in b:\n",
    "        print(x, y)\n"
   ]
  },
  {
   "cell_type": "code",
   "execution_count": 33,
   "metadata": {},
   "outputs": [
    {
     "name": "stdout",
     "output_type": "stream",
     "text": [
      "[[1, 9], [1, 8], [-2, 9], [-2, 8], [3, 9], [3, 8]]\n"
     ]
    }
   ],
   "source": [
    "# 리스트 내포로 이중 루프를 만듭니다\n",
    "print([[x, y] for x in a for y in b])"
   ]
  },
  {
   "cell_type": "code",
   "execution_count": 34,
   "metadata": {},
   "outputs": [
    {
     "name": "stdout",
     "output_type": "stream",
     "text": [
      "[0, 1, 2, 3, 4, 5, 6, 7]\n"
     ]
    }
   ],
   "source": [
    "# 이진수의 자리입니다\n",
    "fours_place = [0, 1]\n",
    "twos_place = [0, 1]\n",
    "ones_place = [0, 1]\n",
    "\n",
    "# 리스트 내포에서 다중 루프를 사용하여 0에서 7까지의 정수를 계산하여 배열로 만듭니다\n",
    "digit = [x*4 + y*2 + z for x in fours_place for y in twos_place for z in ones_place]\n",
    "\n",
    "# 출력하세요\n",
    "print(digit)\n"
   ]
  },
  {
   "cell_type": "code",
   "execution_count": 35,
   "metadata": {},
   "outputs": [
    {
     "name": "stdout",
     "output_type": "stream",
     "text": [
      "{'foo': 2, 'bar': 1, 'pop': 2, 'popo': 1}\n"
     ]
    }
   ],
   "source": [
    "# 딕셔너리의 요소가 출현한 횟수를 기록합니다\n",
    "d = {}\n",
    "lst = [\"foo\", \"bar\", \"pop\", \"pop\", \"foo\", \"popo\"]\n",
    "for key in lst:\n",
    "    # d에 key가 존재하느냐에 따라 분류합니다\n",
    "    if key in d:\n",
    "        d[key] += 1\n",
    "    else:\n",
    "        d[key] = 1\n",
    "\n",
    "print(d)\n"
   ]
  },
  {
   "cell_type": "code",
   "execution_count": 36,
   "metadata": {},
   "outputs": [
    {
     "name": "stdout",
     "output_type": "stream",
     "text": [
      "defaultdict(<class 'int'>, {'foo': 2, 'bar': 1, 'pop': 2, 'popo': 1})\n"
     ]
    }
   ],
   "source": [
    "from collections import defaultdict\n",
    "\n",
    "# 딕셔너리의 요소가 출현한 횟수를 기록합니다\n",
    "d = defaultdict(int)\n",
    "lst = [\"foo\", \"bar\", \"pop\", \"pop\", \"foo\", \"popo\"]\n",
    "for key in lst:\n",
    "    d[key] += 1\n",
    "\n",
    "print(d)\n"
   ]
  },
  {
   "cell_type": "code",
   "execution_count": 37,
   "metadata": {},
   "outputs": [
    {
     "name": "stdout",
     "output_type": "stream",
     "text": [
      "[(' ', 20), ('e', 18), ('i', 17), ('n', 14), ('l', 12), ('a', 11), ('t', 10), ('c', 7), ('h', 7), ('r', 6)]\n"
     ]
    }
   ],
   "source": [
    "from collections import defaultdict\n",
    "\n",
    "# 문자열 description\n",
    "description = \\\n",
    "\"Artificial intelligence (AI, also machine intelligence, MI) is \" + \\\n",
    "\"intelligence exhibited by machines, rather than \" + \\\n",
    "\"humans or other animals (natural intelligence, NI).\"\n",
    "\n",
    "# defaultdict를 정의하세요\n",
    "char_freq = defaultdict(int)\n",
    "\n",
    "# 문자의 출현 횟수를 기록 하세요\n",
    "for i in description:\n",
    "    char_freq[i] += 1\n",
    "\n",
    "# 정렬하고 상위 10개의 요소를 출력하세요\n",
    "print(sorted(char_freq.items(), key=lambda x: x[1], reverse=True)[:10])\n"
   ]
  },
  {
   "cell_type": "code",
   "execution_count": 38,
   "metadata": {},
   "outputs": [
    {
     "data": {
      "text/plain": [
       "defaultdict(list, {})"
      ]
     },
     "execution_count": 38,
     "metadata": {},
     "output_type": "execute_result"
    }
   ],
   "source": [
    "from collections import defaultdict\n",
    "defaultdict(list)"
   ]
  },
  {
   "cell_type": "code",
   "execution_count": 39,
   "metadata": {},
   "outputs": [
    {
     "name": "stdout",
     "output_type": "stream",
     "text": [
      "{'apple': [50, 70], 'banana': [120], 'grape': [500, 1000], 'lemon': [150]}\n"
     ]
    }
   ],
   "source": [
    "# 딕셔너리에 value 요소를 추가합니다\n",
    "d = {}\n",
    "price = [\n",
    "    (\"apple\", 50),\n",
    "    (\"banana\", 120),\n",
    "    (\"grape\", 500),\n",
    "    (\"apple\", 70),\n",
    "    (\"lemon\", 150),\n",
    "    (\"grape\", 1000)\n",
    "]\n",
    "\n",
    "for key, value in price:\n",
    "    # key의 존재 유무로 분기합니다\n",
    "    if key in d:\n",
    "        d[key].append(value)\n",
    "    else:\n",
    "        d[key] = [value]\n",
    "        \n",
    "print(d)\n"
   ]
  },
  {
   "cell_type": "code",
   "execution_count": 40,
   "metadata": {},
   "outputs": [
    {
     "name": "stdout",
     "output_type": "stream",
     "text": [
      "[60.0, 120.0, 750.0, 150.0]\n"
     ]
    }
   ],
   "source": [
    "from collections import defaultdict\n",
    "\n",
    "# 요약할 데이터 price ...(이름, 값)입니다\n",
    "price = [\n",
    "    (\"apple\", 50),\n",
    "    (\"banana\", 120),\n",
    "    (\"grape\", 500),\n",
    "    (\"apple\", 70),\n",
    "    (\"lemon\", 150),\n",
    "    (\"grape\", 1000)\n",
    "]\n",
    "\n",
    "# defaultdict를 정의하세요\n",
    "d = defaultdict(list)\n",
    "\n",
    "# 리스트 13.52처럼 value를 추가하세요\n",
    "for key, value in price:\n",
    "    d[key].append(value)\n",
    "\n",
    "# 각 value의 평균을 계산하고, 배열로 만들어 출력하세요\n",
    "print([sum(x) / len(x) for x in d.values()])"
   ]
  },
  {
   "cell_type": "code",
   "execution_count": 41,
   "metadata": {},
   "outputs": [
    {
     "name": "stdout",
     "output_type": "stream",
     "text": [
      "Counter({'foo': 2, 'pop': 2, 'bar': 1, 'popo': 1})\n"
     ]
    }
   ],
   "source": [
    "# Counter를 import합니다\n",
    "from collections import Counter\n",
    "\n",
    "# 딕셔너리 요소의 출현 횟수를 기록합니다\n",
    "lst = [\"foo\", \"bar\", \"pop\", \"pop\", \"foo\", \"popo\"]\n",
    "d = Counter(lst)\n",
    "\n",
    "print(d)\n"
   ]
  },
  {
   "cell_type": "code",
   "execution_count": 42,
   "metadata": {
    "scrolled": true
   },
   "outputs": [
    {
     "name": "stdout",
     "output_type": "stream",
     "text": [
      "[(' ', 9), ('s', 6), ('o', 4), ('t', 4), ('a', 4)]\n"
     ]
    }
   ],
   "source": [
    "# Counter로 문자열을 저장하고, 문자의 출현 빈도를 열거합니다\n",
    "d = Counter(\"A Counter is a dict subclass for counting hashable objects.\")\n",
    "\n",
    "# 가장 많은 출현 빈도를 가진 요소 5개를 나열합니다\n",
    "print(d.most_common(5))"
   ]
  },
  {
   "cell_type": "code",
   "execution_count": 43,
   "metadata": {},
   "outputs": [
    {
     "name": "stdout",
     "output_type": "stream",
     "text": [
      "[(' ', 20), ('e', 18), ('i', 17), ('n', 14), ('l', 12), ('a', 11), ('t', 10), ('c', 7), ('h', 7), ('r', 6)]\n"
     ]
    }
   ],
   "source": [
    "from collections import Counter\n",
    "# 문자열 description입니다\n",
    "description = \\\n",
    "\"Artificial intelligence (AI, also machine intelligence, MI) is \" + \\\n",
    "\"intelligence exhibited by machines, rather than \" + \\\n",
    "\"humans or other animals (natural intelligence, NI).\" \n",
    "\n",
    "# Counter를 정의하세요\n",
    "char_freq = Counter(description)\n",
    "\n",
    "# 정렬하고 출현 빈도 상위 10개를 출력하세요\n",
    "print(char_freq.most_common(10))"
   ]
  },
  {
   "cell_type": "code",
   "execution_count": 44,
   "metadata": {},
   "outputs": [
    {
     "name": "stdout",
     "output_type": "stream",
     "text": [
      "계산결과\n",
      "4.0\n",
      "\n",
      "월\n",
      "[1, 5, 8, 8, 4]\n",
      "\n",
      "부피\n",
      "[120, 15, 1530, 468, 616, 76, 3078]\n",
      "\n",
      "value의 평균값\n",
      "[510.0, 300.0, 450.0, 170.0, 225.0, 1000.0]\n",
      "\n",
      "과일 이름\n",
      "Counter({'strawberry': 4, 'pear': 2, 'peach': 2, 'lemon': 2, 'apple': 1, 'grape': 1})\n"
     ]
    }
   ],
   "source": [
    "# if와 lambda를 사용하여 계산하세요(인수 a가 8 미만이면 5를 곱하고, 8 이상이면 2로 나누기)\n",
    "a = 8\n",
    "basic = lambda x: x * 5 if x < 8 else x / 2\n",
    "print('계산결과')\n",
    "print(basic(a))\n",
    "\n",
    "import re\n",
    "# 배열 time_list\n",
    "time_list = [\n",
    "    \"2018/1/23_19:40\",\n",
    "    \"2016/5/7_5:25\",\n",
    "    \"2018/8/21_10:50\",\n",
    "    \"2017/8/9_7:5\",\n",
    "    \"2015/4/1_22:15\"\n",
    "]\n",
    "\n",
    "# 문자열에서 \"월\"을 꺼내는 함수를 작성하세요\n",
    "get_month = lambda x: int(re.split(\"[/_:]\",x)[1])\n",
    "\n",
    "# 각 요소의 \"월\"을 꺼내 배열로 만듭니다\n",
    "month_list = list(map(get_month, time_list))\n",
    "\n",
    "# 출력하세요\n",
    "print()\n",
    "print('월')\n",
    "print(month_list)\n",
    "\n",
    "# 리스트 내포를 사용하여 부피를 계산하세요\n",
    "length= [3, 1, 6, 2, 8, 2, 9]\n",
    "side = [4, 1, 15, 18, 7, 2, 19]\n",
    "height = [10, 15, 17, 13, 11, 19, 18]\n",
    "\n",
    "# 부피를 계산하세요\n",
    "volume = [x * y * z for x, y,z in zip(length, side, height)]\n",
    "\n",
    "# 출력하세요\n",
    "print()\n",
    "print('부피')\n",
    "print(volume)\n",
    "\n",
    "# 각 value의 평균값을 계산하고 price 리스트 내의 과일 이름을 열거하세요\n",
    "from collections import defaultdict\n",
    "from collections import Counter\n",
    "\n",
    "# 요약할 데이터 price\n",
    "price = [\n",
    "    (\"strawberry\", 520),\n",
    "    (\"pear\", 200),\n",
    "    (\"peach\", 400),\n",
    "    (\"apple\", 170),\n",
    "    (\"lemon\", 150),\n",
    "    (\"grape\", 1000),\n",
    "    (\"strawberry\", 750),\n",
    "    (\"pear\", 400),\n",
    "    (\"peach\", 500),\n",
    "    (\"strawberry\", 70),\n",
    "    (\"lemon\", 300),\n",
    "    (\"strawberry\", 700)\n",
    "]\n",
    "\n",
    "# defaultdict를 정의하세요\n",
    "d = defaultdict(list)\n",
    "\n",
    "# value에 가격을, key에 과일 이름을 추가하세요\n",
    "price_key_count = []\n",
    "for key, value in price:\n",
    "    d[key].append(value)\n",
    "    price_key_count.append(key)\n",
    "\n",
    "# 각 value의 평균을 계산하고, 배열로 만들어 출력하세요\n",
    "print()\n",
    "print('value의 평균값')\n",
    "print([sum(x) / len(x) for x in d.values()])\n",
    "\n",
    "# 위의 price 리스트 중에서 과일 이름을 열거합니다\n",
    "key_count = Counter(price_key_count)\n",
    "print()\n",
    "print('과일 이름')\n",
    "print(key_count)\n"
   ]
  },
  {
   "cell_type": "code",
   "execution_count": null,
   "metadata": {},
   "outputs": [],
   "source": []
  }
 ],
 "metadata": {
  "kernelspec": {
   "display_name": "Python 3",
   "language": "python",
   "name": "python3"
  },
  "language_info": {
   "codemirror_mode": {
    "name": "ipython",
    "version": 3
   },
   "file_extension": ".py",
   "mimetype": "text/x-python",
   "name": "python",
   "nbconvert_exporter": "python",
   "pygments_lexer": "ipython3",
   "version": "3.7.6"
  }
 },
 "nbformat": 4,
 "nbformat_minor": 2
}
