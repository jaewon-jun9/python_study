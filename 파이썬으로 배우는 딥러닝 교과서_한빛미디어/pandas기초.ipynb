{
 "cells": [
  {
   "cell_type": "code",
   "execution_count": 1,
   "metadata": {},
   "outputs": [
    {
     "name": "stdout",
     "output_type": "stream",
     "text": [
      "banana    3\n",
      "orange    2\n",
      "dtype: int64\n"
     ]
    }
   ],
   "source": [
    "# pandas을 pd로 import합니다\n",
    "import pandas as pd\n",
    "\n",
    "# Series 데이터입니다\n",
    "fruits = {\"banana\": 3, \"orange\": 2}\n",
    "print(pd.Series(fruits))\n"
   ]
  },
  {
   "cell_type": "code",
   "execution_count": 2,
   "metadata": {
    "scrolled": true
   },
   "outputs": [
    {
     "name": "stdout",
     "output_type": "stream",
     "text": [
      "       fruits  time  year\n",
      "0       apple     1  2001\n",
      "1      orange     4  2002\n",
      "2      banana     5  2001\n",
      "3  strawberry     6  2008\n",
      "4   kiwifruit     3  2006\n"
     ]
    }
   ],
   "source": [
    "# Pandas를 pd로 import합니다\n",
    "import pandas as pd\n",
    "\n",
    "# DataFrame 데이터입니다\n",
    "data = {\"fruits\": [\"apple\", \"orange\", \"banana\", \"strawberry\", \"kiwifruit\"],\n",
    "        \"year\": [2001, 2002, 2001, 2008, 2006],\n",
    "        \"time\": [1, 4, 5, 6, 3]}\n",
    "df = pd.DataFrame(data)\n",
    "print(df)"
   ]
  },
  {
   "cell_type": "code",
   "execution_count": 3,
   "metadata": {
    "scrolled": true
   },
   "outputs": [
    {
     "name": "stdout",
     "output_type": "stream",
     "text": [
      "Series 데이터\n",
      "apple         10\n",
      "orange         5\n",
      "banana         8\n",
      "strawberry    12\n",
      "kiwifruit      3\n",
      "dtype: int64\n",
      "\n",
      "\n",
      "DataFrame 데이터\n",
      "       fruits  time  year\n",
      "0       apple     1  2001\n",
      "1      orange     4  2002\n",
      "2      banana     5  2001\n",
      "3  strawberry     6  2008\n",
      "4   kiwifruit     3  2006\n"
     ]
    }
   ],
   "source": [
    "# Pandas를 pd로 import합니다\n",
    "import pandas as pd\n",
    "\n",
    "# Series용 라벨(인덱스)을 작성합니다\n",
    "index = [\"apple\", \"orange\", \"banana\", \"strawberry\", \"kiwifruit\"]\n",
    "\n",
    "# Series용 데이터를 대입합니다\n",
    "data = [10, 5, 8, 12, 3]\n",
    "\n",
    "# Series를 작성합니다\n",
    "series = pd.Series(data, index=index)\n",
    "\n",
    "# 딕셔너리 형을 사용하여 DataFrame용 데이터를 작성합니다\n",
    "data = {\"fruits\": [\"apple\", \"orange\", \"banana\", \"strawberry\", \"kiwifruit\"],\n",
    "        \"year\": [2001, 2002, 2001, 2008, 2006],\n",
    "        \"time\": [1, 4, 5, 6, 3]}\n",
    "\n",
    "# DataFrame을 만듭니다\n",
    "df = pd.DataFrame(data)\n",
    "\n",
    "print(\"Series 데이터\")\n",
    "print(series)\n",
    "print(\"\\n\")\n",
    "print(\"DataFrame 데이터\")\n",
    "print(df)\n"
   ]
  },
  {
   "cell_type": "code",
   "execution_count": 4,
   "metadata": {},
   "outputs": [
    {
     "name": "stdout",
     "output_type": "stream",
     "text": [
      "banana    3\n",
      "orange    2\n",
      "dtype: int64\n"
     ]
    }
   ],
   "source": [
    "# Pandas를 pd로 import합니다\n",
    "import pandas as pd\n",
    "\n",
    "fruits = {\"banana\": 3, \"orange\": 2}\n",
    "print(pd.Series(fruits))\n"
   ]
  },
  {
   "cell_type": "code",
   "execution_count": 5,
   "metadata": {},
   "outputs": [
    {
     "name": "stdout",
     "output_type": "stream",
     "text": [
      "apple         10\n",
      "orange         5\n",
      "banana         8\n",
      "strawberry    12\n",
      "kiwifruit      3\n",
      "dtype: int64\n"
     ]
    }
   ],
   "source": [
    "# Pandas를 pd로 import합니다\n",
    "import pandas as pd\n",
    "\n",
    "index = [\"apple\", \"orange\", \"banana\", \"strawberry\", \"kiwifruit\"]\n",
    "data = [10, 5, 8, 12, 3]\n",
    "\n",
    "# index와 data를 포함한 Series를 만들어 series에 대입하세요\n",
    "series = pd.Series(data, index=index)\n",
    "print(series)\n"
   ]
  },
  {
   "cell_type": "code",
   "execution_count": 47,
   "metadata": {},
   "outputs": [
    {
     "name": "stdout",
     "output_type": "stream",
     "text": [
      "banana    3\n",
      "grape     1\n",
      "dtype: int64\n"
     ]
    }
   ],
   "source": [
    "import pandas as pd\n",
    "fruits = {\"banana\": 3, \"orange\": 4, \"grape\": 1, \"peach\": 5}\n",
    "series = pd.Series(fruits)\n",
    "print(series[0:2])\n"
   ]
  },
  {
   "cell_type": "code",
   "execution_count": 48,
   "metadata": {},
   "outputs": [
    {
     "name": "stdout",
     "output_type": "stream",
     "text": [
      "orange    4\n",
      "peach     5\n",
      "dtype: int64\n"
     ]
    }
   ],
   "source": [
    "print(series[[\"orange\", \"peach\"]])"
   ]
  },
  {
   "cell_type": "code",
   "execution_count": 6,
   "metadata": {},
   "outputs": [
    {
     "name": "stdout",
     "output_type": "stream",
     "text": [
      "orange         5\n",
      "banana         8\n",
      "strawberry    12\n",
      "dtype: int64\n",
      "\n",
      "apple        10\n",
      "banana        8\n",
      "kiwifruit     3\n",
      "dtype: int64\n"
     ]
    }
   ],
   "source": [
    "import pandas as pd\n",
    "\n",
    "index = [\"apple\", \"orange\", \"banana\", \"strawberry\", \"kiwifruit\"]\n",
    "data = [10, 5, 8, 12, 3]\n",
    "series = pd.Series(data, index=index)\n",
    "\n",
    "# 인덱스 참조로 series의 2~4번째의 세 요소를 꺼내 items1에 대입하세요\n",
    "items1 = series[1:4]\n",
    "\n",
    "# 인덱스 값을 지정하는 방법으로 \"apple\", \"banana\", \"kiwifruit\"의 인덱스를 가지는 요소를 꺼내 items2에 대입하세요\n",
    "items2 = series[[\"apple\", \"banana\", \"kiwifruit\"]]\n",
    "print(items1)\n",
    "print()\n",
    "print(items2)\n"
   ]
  },
  {
   "cell_type": "code",
   "execution_count": 7,
   "metadata": {},
   "outputs": [
    {
     "name": "stdout",
     "output_type": "stream",
     "text": [
      "[10  5  8 12  3]\n",
      "Index(['apple', 'orange', 'banana', 'strawberry', 'kiwifruit'], dtype='object')\n"
     ]
    }
   ],
   "source": [
    "import pandas as pd\n",
    "\n",
    "index = [\"apple\", \"orange\", \"banana\", \"strawberry\", \"kiwifruit\"]\n",
    "data = [10, 5, 8, 12, 3]\n",
    "series = pd.Series(data, index=index)\n",
    "\n",
    "# series_values에 series의 데이터를 대입하세요\n",
    "series_values = series.values\n",
    "\n",
    "# series_index에 series의 인덱스를 대입하세요\n",
    "series_index = series.index\n",
    "\n",
    "print(series_values)\n",
    "print(series_index)\n"
   ]
  },
  {
   "cell_type": "code",
   "execution_count": 8,
   "metadata": {},
   "outputs": [
    {
     "name": "stdout",
     "output_type": "stream",
     "text": [
      "apple         10\n",
      "orange         5\n",
      "banana         8\n",
      "strawberry    12\n",
      "kiwifruit      3\n",
      "pineapple     12\n",
      "dtype: int64\n"
     ]
    }
   ],
   "source": [
    "import pandas as pd\n",
    "\n",
    "index = [\"apple\", \"orange\", \"banana\", \"strawberry\", \"kiwifruit\"]\n",
    "data = [10, 5, 8, 12, 3]\n",
    "\n",
    "series = pd.Series(data, index=index)\n",
    "\n",
    "# 인덱스가 \"pineapple\" 이고, 데이터가 12인 요소를 series에 추가하세요 \n",
    "pineapple = pd.Series([12], index=[\"pineapple\"])\n",
    "series = series.append(pineapple)\n",
    "# series = series.append(pd.Series({\"pineapple\":12}))라도 OK \n",
    "print(series)\n"
   ]
  },
  {
   "cell_type": "code",
   "execution_count": 9,
   "metadata": {},
   "outputs": [
    {
     "name": "stdout",
     "output_type": "stream",
     "text": [
      "apple        10\n",
      "orange        5\n",
      "banana        8\n",
      "kiwifruit     3\n",
      "dtype: int64\n"
     ]
    }
   ],
   "source": [
    "import pandas as pd\n",
    "\n",
    "index = [\"apple\", \"orange\", \"banana\", \"strawberry\", \"kiwifruit\"]\n",
    "data = [10, 5, 8, 12, 3]\n",
    "\n",
    "# index와 data를 포함한 Series를 작성하여 series에 대입합니다\n",
    "series = pd.Series(data, index=index)\n",
    "\n",
    "# 인덱스가 strawberry인 요소를 제거해 series에 대입하세요\n",
    "series = series.drop(\"strawberry\")\n",
    "\n",
    "print(series)\n"
   ]
  },
  {
   "cell_type": "code",
   "execution_count": 53,
   "metadata": {},
   "outputs": [
    {
     "name": "stdout",
     "output_type": "stream",
     "text": [
      "apple     10\n",
      "orange     5\n",
      "dtype: int64\n"
     ]
    }
   ],
   "source": [
    "index = [\"apple\", \"orange\", \"banana\", \"strawberry\", \"kiwifruit\"]\n",
    "data = [10, 5, 8, 12, 3]\n",
    "series = pd.Series(data, index=index)\n",
    "\n",
    "conditions = [True, True, False, False, False]\n",
    "print(series[conditions])\n"
   ]
  },
  {
   "cell_type": "code",
   "execution_count": 54,
   "metadata": {},
   "outputs": [
    {
     "name": "stdout",
     "output_type": "stream",
     "text": [
      "apple         10\n",
      "orange         5\n",
      "banana         8\n",
      "strawberry    12\n",
      "dtype: int64\n"
     ]
    }
   ],
   "source": [
    "print(series[series >= 5])"
   ]
  },
  {
   "cell_type": "code",
   "execution_count": 10,
   "metadata": {},
   "outputs": [
    {
     "name": "stdout",
     "output_type": "stream",
     "text": [
      "orange    5\n",
      "banana    8\n",
      "dtype: int64\n"
     ]
    }
   ],
   "source": [
    "index = [\"apple\", \"orange\", \"banana\", \"strawberry\", \"kiwifruit\"]\n",
    "data = [10, 5, 8, 12, 3]\n",
    "series = pd.Series(data, index=index)\n",
    "\n",
    "# series의 요소 중에서 5 이상 10 미만의 요소를 포함하는 Series를 만들어 series에 다시 대입하세요\n",
    "series = series[series >= 5][series < 10]\n",
    "\n",
    "print(series)\n"
   ]
  },
  {
   "cell_type": "code",
   "execution_count": 11,
   "metadata": {},
   "outputs": [
    {
     "name": "stdout",
     "output_type": "stream",
     "text": [
      "apple         10\n",
      "banana         8\n",
      "kiwifruit      3\n",
      "orange         5\n",
      "strawberry    12\n",
      "dtype: int64\n",
      "\n",
      "kiwifruit      3\n",
      "orange         5\n",
      "banana         8\n",
      "apple         10\n",
      "strawberry    12\n",
      "dtype: int64\n"
     ]
    }
   ],
   "source": [
    "import pandas as pd\n",
    "\n",
    "index = [\"apple\", \"orange\", \"banana\", \"strawberry\", \"kiwifruit\"]\n",
    "data = [10, 5, 8, 12, 3]\n",
    "series = pd.Series(data, index=index)\n",
    "\n",
    "# series의 인덱스를 알파벳 순으로 정렬해 items1에 대입하세요\n",
    "items1 = series.sort_index()\n",
    "\n",
    "# series의 데이터 값을 오름차순으로 정렬해 items2에 대입하세요\n",
    "items2 = series.sort_values()\n",
    "\n",
    "print(items1)\n",
    "print()\n",
    "print(items2)\n"
   ]
  },
  {
   "cell_type": "code",
   "execution_count": 57,
   "metadata": {},
   "outputs": [
    {
     "name": "stdout",
     "output_type": "stream",
     "text": [
      "       fruits  time  year\n",
      "0       apple     1  2001\n",
      "1      orange     4  2002\n",
      "2      banana     5  2001\n",
      "3  strawberry     6  2008\n",
      "4   kiwifruit     3  2006\n"
     ]
    }
   ],
   "source": [
    "data = {\"fruits\": [\"apple\", \"orange\", \"banana\", \"strawberry\",\n",
    "\"kiwifruit\"],\n",
    "        \"year\": [2001, 2002, 2001, 2008, 2006],\n",
    "        \"time\": [1, 4, 5, 6, 3]}\n",
    "df = pd.DataFrame(data)\n",
    "print(df)"
   ]
  },
  {
   "cell_type": "code",
   "execution_count": 12,
   "metadata": {},
   "outputs": [
    {
     "name": "stdout",
     "output_type": "stream",
     "text": [
      "   apple  orange  banana  strawberry  kiwifruit\n",
      "0     10       5       8          12          3\n",
      "1     30      25      12          10          8\n"
     ]
    }
   ],
   "source": [
    "import pandas as pd\n",
    "\n",
    "index = [\"apple\", \"orange\", \"banana\", \"strawberry\", \"kiwifruit\"]\n",
    "data1 = [10, 5, 8, 12, 3]\n",
    "data2 = [30, 25, 12, 10, 8]\n",
    "series1 = pd.Series(data1, index=index)\n",
    "series2 = pd.Series(data2, index=index)\n",
    "\n",
    "# series1, series2로 DataFrame을 생성하여 df에 대입하세요\n",
    "df = pd.DataFrame([series1, series2])\n",
    "\n",
    "# 출력합니다\n",
    "print(df)\n"
   ]
  },
  {
   "cell_type": "code",
   "execution_count": 2,
   "metadata": {},
   "outputs": [
    {
     "name": "stdout",
     "output_type": "stream",
     "text": [
      "   apple  orange  banana  strawberry  kiwifruit\n",
      "1     10       5       8          12          3\n",
      "2     30      25      12          10          8\n"
     ]
    }
   ],
   "source": [
    "import pandas as pd\n",
    "\n",
    "index = [\"apple\", \"orange\", \"banana\", \"strawberry\", \"kiwifruit\"]\n",
    "data1 = [10, 5, 8, 12, 3]\n",
    "data2 = [30, 25, 12, 10, 8]\n",
    "series1 = pd.Series(data1, index=index)\n",
    "series2 = pd.Series(data2, index=index)\n",
    "df = pd.DataFrame([series1, series2])\n",
    "\n",
    "# df의 인덱스가 1부터 시작하도록 설정하세요\n",
    "df.index = [1, 2]\n",
    "\n",
    "# 출력합니다\n",
    "print(df)\n"
   ]
  },
  {
   "cell_type": "code",
   "execution_count": 3,
   "metadata": {},
   "outputs": [
    {
     "name": "stdout",
     "output_type": "stream",
     "text": [
      "       fruits  time  year\n",
      "0       apple     1  2001\n",
      "1      orange     4  2002\n",
      "2      banana     5  2001\n",
      "3  strawberry     6  2008\n",
      "4   kiwifruit     3  2006\n",
      "5       mango     7  2008\n"
     ]
    }
   ],
   "source": [
    "data = {\"fruits\": [\"apple\", \"orange\", \"banana\", \"strawberry\", \"kiwifruit\"],\n",
    "        \"year\": [2001, 2002, 2001, 2008, 2006],\n",
    "        \"time\": [1, 4, 5, 6, 3]}\n",
    "df = pd.DataFrame(data)\n",
    "series = pd.Series([\"mango\", 2008, 7], index=[\"fruits\", \"year\", \"time\"])\n",
    "\n",
    "df = df.append(series, ignore_index=True)\n",
    "print(df)\n"
   ]
  },
  {
   "cell_type": "code",
   "execution_count": 15,
   "metadata": {},
   "outputs": [
    {
     "name": "stdout",
     "output_type": "stream",
     "text": [
      "   apple  orange  banana  strawberry  kiwifruit  pineapple\n",
      "0     10       5       8          12          3        NaN\n",
      "1     30      25      12          10          8        NaN\n",
      "2     30      12      10           8         25        3.0\n"
     ]
    }
   ],
   "source": [
    "import pandas as pd\n",
    "\n",
    "index = [\"apple\", \"orange\", \"banana\", \"strawberry\", \"kiwifruit\"]\n",
    "data1 = [10, 5, 8, 12, 3]\n",
    "data2 = [30, 25, 12, 10, 8]\n",
    "data3 = [30, 12, 10, 8, 25, 3]\n",
    "series1 = pd.Series(data1, index=index)\n",
    "series2 = pd.Series(data2, index=index)\n",
    "\n",
    "# df에 series3을 추가해 df에 다시 대입하세요\n",
    "index.append(\"pineapple\")\n",
    "series3 = pd.Series(data3, index=index)\n",
    "df = pd.DataFrame([series1, series2])\n",
    "\n",
    "# df에 다시 대입하세요\n",
    "df = df.append(series3, ignore_index=True)\n",
    "\n",
    "# 출력합니다\n",
    "# df와 추가할 Series의 인덱스가 일치하지 않을 때의 동작을 확인합시다\n",
    "print(df)\n"
   ]
  },
  {
   "cell_type": "code",
   "execution_count": 62,
   "metadata": {},
   "outputs": [
    {
     "name": "stdout",
     "output_type": "stream",
     "text": [
      "       fruits  time  year  price\n",
      "0       apple     1  2001    150\n",
      "1      orange     4  2002    120\n",
      "2      banana     5  2001    100\n",
      "3  strawberry     6  2008    300\n",
      "4   kiwifruit     3  2006    150\n"
     ]
    }
   ],
   "source": [
    "data = {\"fruits\": [\"apple\", \"orange\", \"banana\", \"strawberry\", \"kiwifruit\"],\n",
    "        \"year\": [2001, 2002, 2001, 2008, 2006],\n",
    "        \"time\": [1, 4, 5, 6, 3]}\n",
    "df = pd.DataFrame(data)\n",
    "\n",
    "df[\"price\"] = [150, 120, 100, 300, 150]\n",
    "print(df)"
   ]
  },
  {
   "cell_type": "code",
   "execution_count": 16,
   "metadata": {},
   "outputs": [
    {
     "name": "stdout",
     "output_type": "stream",
     "text": [
      "   apple  orange  banana  strawberry  kiwifruit  mango\n",
      "0     10       5       8          12          3     15\n",
      "1     30      25      12          10          8      7\n"
     ]
    }
   ],
   "source": [
    "import pandas as pd\n",
    "\n",
    "index = [\"apple\", \"orange\", \"banana\", \"strawberry\", \"kiwifruit\"]\n",
    "data1 = [10, 5, 8, 12, 3]\n",
    "data2 = [30, 25, 12, 10, 8]\n",
    "series1 = pd.Series(data1, index=index)\n",
    "series2 = pd.Series(data2, index=index)\n",
    "\n",
    "new_column = pd.Series([15, 7], index=[0, 1])\n",
    "\n",
    "# series1, seires2로 DataFrame을 생성합니다\n",
    "df = pd.DataFrame([series1, series2])\n",
    "\n",
    "# df에 새로운 열 \"mango\"를 만들어 new_column의 데이터를 추가하세요\n",
    "df[\"mango\"] = new_column\n",
    "\n",
    "# 출력합니다\n",
    "print(df)\n"
   ]
  },
  {
   "cell_type": "code",
   "execution_count": 66,
   "metadata": {},
   "outputs": [
    {
     "name": "stdout",
     "output_type": "stream",
     "text": [
      "       fruits  time  year\n",
      "0       apple     1  2001\n",
      "1      orange     4  2002\n",
      "2      banana     5  2001\n",
      "3  strawberry     6  2008\n",
      "4   kiwifruit     3  2006\n"
     ]
    }
   ],
   "source": [
    "data = {\"fruits\": [\"apple\", \"orange\", \"banana\", \"strawberry\", \"kiwifruit\"],\n",
    "        \"year\": [2001, 2002, 2001, 2008, 2006],\n",
    "        \"time\": [1, 4, 5, 6, 3]}\n",
    "df = pd.DataFrame(data)\n",
    "\n",
    "print(df)\n"
   ]
  },
  {
   "cell_type": "code",
   "execution_count": 67,
   "metadata": {},
   "outputs": [
    {
     "name": "stdout",
     "output_type": "stream",
     "text": [
      "   time  year\n",
      "1     4  2002\n",
      "2     5  2001\n"
     ]
    }
   ],
   "source": [
    "df = df.loc[[1,2],[\"time\",\"year\"]]\n",
    "print(df)"
   ]
  },
  {
   "cell_type": "code",
   "execution_count": 17,
   "metadata": {},
   "outputs": [
    {
     "name": "stdout",
     "output_type": "stream",
     "text": [
      "   banana  kiwifruit\n",
      "2      10         10\n",
      "3       9          1\n",
      "4      10          5\n",
      "5       5          8\n"
     ]
    }
   ],
   "source": [
    "import numpy as np\n",
    "import pandas as pd\n",
    "np.random.seed(0)\n",
    "columns = [\"apple\", \"orange\", \"banana\", \"strawberry\", \"kiwifruit\"]\n",
    "\n",
    "# DataFrame을 생성하고 열을 추가합니다\n",
    "df = pd.DataFrame()\n",
    "for column in columns:\n",
    "    df[column] = np.random.choice(range(1, 11), 10)\n",
    "    \n",
    "# range(시작행수, 종료행수-1)입니다\n",
    "df.index = range(1, 11)\n",
    "\n",
    "# loc[]를 사용하여 df의 2~5행(4개의 행)과 \"banana\", \"kiwifruit\"의 2열을 포함한 DataFrame을 df에 대입하세요\n",
    "# 첫번째 행의 인덱스는 1이며, 이후의 인덱스는 정수의 오름차순입니다\n",
    "df = df.loc[range(2,6),[\"banana\",\"kiwifruit\"]]\n",
    "\n",
    "print(df)\n"
   ]
  },
  {
   "cell_type": "code",
   "execution_count": 2,
   "metadata": {},
   "outputs": [
    {
     "name": "stdout",
     "output_type": "stream",
     "text": [
      "       fruits  time  year\n",
      "0       apple     1  2001\n",
      "1      orange     4  2002\n",
      "2      banana     5  2001\n",
      "3  strawberry     6  2008\n",
      "4   kiwifruit     3  2006\n"
     ]
    }
   ],
   "source": [
    "import pandas as pd\n",
    "\n",
    "data = {\"fruits\": [\"apple\", \"orange\", \"banana\", \"strawberry\", \"kiwifruit\"],\n",
    "        \"year\": [2001, 2002, 2001, 2008, 2006],\n",
    "        \"time\": [1, 4, 5, 6, 3]}\n",
    "\n",
    "df = pd.DataFrame(data)\n",
    "\n",
    "\n",
    "print(df)\n"
   ]
  },
  {
   "cell_type": "code",
   "execution_count": 3,
   "metadata": {},
   "outputs": [
    {
     "name": "stdout",
     "output_type": "stream",
     "text": [
      "       fruits  year\n",
      "1      orange  2002\n",
      "3  strawberry  2008\n"
     ]
    }
   ],
   "source": [
    "df = df.iloc[[1, 3], [0, 2]]\n",
    "print(df)"
   ]
  },
  {
   "cell_type": "code",
   "execution_count": 18,
   "metadata": {},
   "outputs": [
    {
     "name": "stdout",
     "output_type": "stream",
     "text": [
      "   banana  kiwifruit\n",
      "2      10         10\n",
      "3       9          1\n",
      "4      10          5\n",
      "5       5          8\n"
     ]
    }
   ],
   "source": [
    "import numpy as np\n",
    "import pandas as pd\n",
    "np.random.seed(0)\n",
    "columns = [\"apple\", \"orange\", \"banana\", \"strawberry\", \"kiwifruit\"]\n",
    "\n",
    "# DataFrame을 생성하고 열을 추가합니다\n",
    "df = pd.DataFrame()\n",
    "for column in columns:\n",
    "    df[column] = np.random.choice(range(1, 11), 10)\n",
    "df.index = range(1, 11)\n",
    "\n",
    "# iloc[]를 사용하여 df의 2~5행(4개의 행)과 \"banana\", \"kiwifruit\"의 2열을 포함한 DataFrame을 df에 대입하세요\n",
    "df = df.iloc[range(1,5), [2, 4]] # 슬라이스를 사용하여 df = df.iloc[1:5, [2,4]] 도 가능합니다 \n",
    "\n",
    "print(df)\n"
   ]
  },
  {
   "cell_type": "code",
   "execution_count": 6,
   "metadata": {},
   "outputs": [
    {
     "name": "stdout",
     "output_type": "stream",
     "text": [
      "       fruits  time  year\n",
      "2      banana     5  2001\n",
      "3  strawberry     6  2008\n",
      "4   kiwifruit     3  2006\n",
      "\n",
      "       fruits  time\n",
      "0       apple     1\n",
      "1      orange     4\n",
      "2      banana     5\n",
      "3  strawberry     6\n",
      "4   kiwifruit     3\n"
     ]
    }
   ],
   "source": [
    "import pandas as pd\n",
    "data = {\"fruits\": [\"apple\", \"orange\", \"banana\", \"strawberry\", \"kiwifruit\"],\n",
    "        \"time\": [1, 4, 5, 6, 3],\n",
    "        \"year\": [2001, 2002, 2001, 2008, 2006]}\n",
    "df = pd.DataFrame(data)\n",
    "\n",
    "# drop()을 이용하여 df의 0,1행을 삭제합니다\n",
    "df_1 = df.drop(range(0, 2))\n",
    "\n",
    "# drop()을 이용하여 df의 열 \"year\"를 제거합니다\n",
    "df_2 = df.drop(\"year\", axis=1)\n",
    "\n",
    "print(df_1)\n",
    "print()\n",
    "print(df_2)\n"
   ]
  },
  {
   "cell_type": "code",
   "execution_count": 19,
   "metadata": {},
   "outputs": [
    {
     "name": "stdout",
     "output_type": "stream",
     "text": [
      "   apple  orange  banana  kiwifruit\n",
      "1      6       8       6         10\n",
      "3      4       9       9          1\n",
      "5      8       2       5          8\n",
      "7      4       8       1          3\n",
      "9      3       9       6          3\n"
     ]
    }
   ],
   "source": [
    "import numpy as np\n",
    "import pandas as pd\n",
    "np.random.seed(0)\n",
    "columns = [\"apple\", \"orange\", \"banana\", \"strawberry\", \"kiwifruit\"]\n",
    "\n",
    "# DataFrame을 생성하여 열을 추가합니다\n",
    "df = pd.DataFrame()\n",
    "for column in columns:\n",
    "    df[column] = np.random.choice(range(1, 11), 10)\n",
    "df.index = range(1, 11)\n",
    "\n",
    "# drop()을 이용하여 df에서 홀수 인덱스가 붙은 행만을 남겨 df에 대입하세요\n",
    "df = df.drop(np.arange(2, 11, 2))\n",
    "# np.arange(2, 11, 2)는 2에서 10까지의 수열을 2의 간격으로 추출한 것입니다\n",
    "# 2,4,6,8,10이 출력됩니다\n",
    "# np.arange(2, 11, 3)은 2에서 10까지의 수열을 3의 간격으로 추출한 것입니다\n",
    "\n",
    "# drop()을 이용하여 df의 열 \"strawberry\"를 삭제하여 df에 대입하세요\n",
    "df = df.drop(\"strawberry\", axis=1) \n",
    "\n",
    "print(df)\n"
   ]
  },
  {
   "cell_type": "code",
   "execution_count": 20,
   "metadata": {},
   "outputs": [
    {
     "name": "stdout",
     "output_type": "stream",
     "text": [
      "       fruits  time  year\n",
      "0       apple     1  2001\n",
      "1      orange     4  2002\n",
      "2      banana     5  2001\n",
      "3  strawberry     6  2008\n",
      "4   kiwifruit     3  2006\n",
      "       fruits  time  year\n",
      "0       apple     1  2001\n",
      "2      banana     5  2001\n",
      "1      orange     4  2002\n",
      "4   kiwifruit     3  2006\n",
      "3  strawberry     6  2008\n",
      "       fruits  time  year\n",
      "0       apple     1  2001\n",
      "4   kiwifruit     3  2006\n",
      "1      orange     4  2002\n",
      "2      banana     5  2001\n",
      "3  strawberry     6  2008\n"
     ]
    }
   ],
   "source": [
    "import pandas as pd\n",
    "data = {\"fruits\": [\"apple\", \"orange\", \"banana\", \"strawberry\", \"kiwifruit\"],\n",
    "        \"time\": [1, 4, 5, 6, 3],\n",
    "        \"year\": [2001, 2002, 2001, 2008, 2006]}\n",
    "df = pd.DataFrame(data)\n",
    "print(df)\n",
    "\n",
    "# 데이터를 오름차순으로 정렬합니다(인수로 컬럼을 지정)\n",
    "df = df.sort_values(by=\"year\", ascending = True)\n",
    "print(df)\n",
    "\n",
    "# 데이터를 오름차순으로 정렬합니다(인수에 컬럼 리스트를 지정)\n",
    "df = df.sort_values(by=[\"time\", \"year\"] , ascending = True)\n",
    "print(df)\n"
   ]
  },
  {
   "cell_type": "code",
   "execution_count": 21,
   "metadata": {},
   "outputs": [
    {
     "name": "stdout",
     "output_type": "stream",
     "text": [
      "    apple  orange  banana  strawberry  kiwifruit\n",
      "2       1       7      10           4         10\n",
      "9       3       9       6           1          3\n",
      "7       4       8       1           4          3\n",
      "3       4       9       9           9          1\n",
      "4       4       9      10           2          5\n",
      "10      5       2       1           2          1\n",
      "8       6       8       4           8          8\n",
      "1       6       8       6           3         10\n",
      "5       8       2       5           4          8\n",
      "6      10       7       4           4          4\n"
     ]
    }
   ],
   "source": [
    "import numpy as np\n",
    "import pandas as pd\n",
    "np.random.seed(0)\n",
    "columns = [\"apple\", \"orange\", \"banana\", \"strawberry\", \"kiwifruit\"]\n",
    "\n",
    "# DataFrame을 생성하고 열을 추가합니다\n",
    "df = pd.DataFrame()\n",
    "for column in columns:\n",
    "    df[column] = np.random.choice(range(1, 11), 10)\n",
    "df.index = range(1, 11)\n",
    "\n",
    "# df를 \"apple\", \"orange\", \"banana\", \"strawberry\" \"kiwifruit\"의 순으로 오름차순 정렬하세요\n",
    "# 정렬한 결과로 만들어진 DataFrame을 df에 대입하세요. 첫번째 인수이면 by는 생략 가능합니다\n",
    "df = df.sort_values(by=columns)\n",
    "\n",
    "print(df)\n"
   ]
  },
  {
   "cell_type": "code",
   "execution_count": 17,
   "metadata": {},
   "outputs": [
    {
     "name": "stdout",
     "output_type": "stream",
     "text": [
      "[ True False  True False  True]\n",
      "\n",
      "      fruits  time  year\n",
      "0      apple     1  2001\n",
      "2     banana     5  2001\n",
      "4  kiwifruit     3  2006\n"
     ]
    }
   ],
   "source": [
    "data = {\"fruits\": [\"apple\", \"orange\", \"banana\", \"strawberry\", \"kiwifruit\"],\n",
    "        \"year\": [2001, 2002, 2001, 2008, 2006],\n",
    "        \"time\": [1, 4, 5, 6, 3]}\n",
    "df = pd.DataFrame(data)\n",
    "print(df.index % 2 == 0)\n",
    "print()\n",
    "print(df[df.index % 2 == 0])"
   ]
  },
  {
   "cell_type": "code",
   "execution_count": 23,
   "metadata": {},
   "outputs": [
    {
     "name": "stdout",
     "output_type": "stream",
     "text": [
      "   apple  orange  banana  strawberry  kiwifruit\n",
      "1      6       8       6           3         10\n",
      "5      8       2       5           4          8\n",
      "8      6       8       4           8          8\n"
     ]
    }
   ],
   "source": [
    "import numpy as np\n",
    "import pandas as pd\n",
    "np.random.seed(0)\n",
    "columns = [\"apple\", \"orange\", \"banana\", \"strawberry\", \"kiwifruit\"]\n",
    "\n",
    "# DataFrame을 생성하고 열을 추가합니다\n",
    "df = pd.DataFrame()\n",
    "for column in columns:\n",
    "    df[column] = np.random.choice(range(1, 11), 10)\n",
    "df.index = range(1, 11)\n",
    "\n",
    "# 필터링을 사용하여 df의 \"apple\" 열이 5 이상이고, \"kiwifruit\" 열에서 5 이상의 값을 가진 행을 포함한 DataFrame을 df에 대입하세요\n",
    "df = df.loc[df[\"apple\"] >= 5]\n",
    "df = df.loc[df[\"kiwifruit\"] >= 5]\n",
    "#df = df.loc[df[\"apple\"] >= 5][df[\"kiwifruit\"] >= 5] 라도 OK\n",
    "\n",
    "print(df)\n"
   ]
  },
  {
   "cell_type": "code",
   "execution_count": 24,
   "metadata": {},
   "outputs": [
    {
     "name": "stdout",
     "output_type": "stream",
     "text": [
      "growth      50\n",
      "ishikawa    26\n",
      "mission      7\n",
      "pro          1\n",
      "dtype: int64\n",
      "\n",
      "growth      50\n",
      "mission      7\n",
      "ishikawa    26\n",
      "pro          1\n",
      "tutor       30\n",
      "dtype: int64\n",
      "\n",
      "   ishikawa\n",
      "2         4\n",
      "3         6\n",
      "4        10\n",
      "5         5\n"
     ]
    }
   ],
   "source": [
    "import pandas as pd\n",
    "import numpy as np\n",
    "\n",
    "index = [\"growth\", \"mission\", \"ishikawa\", \"pro\"]\n",
    "data = [50, 7, 26, 1]\n",
    "\n",
    "# Series를 작성하세요\n",
    "series = pd.Series(data, index=index)\n",
    "\n",
    "# 인덱스에 알파벳 순으로 정렬한 series를 aidemy에 대입하세요\n",
    "aidemy = series.sort_index()\n",
    "\n",
    "# 인덱스가 \"tutor\"이고 데이터가 30인 요소를 series에 추가하세요\n",
    "aidemy1 = pd.Series([30], index=[\"tutor\"])\n",
    "aidemy2 = series.append(aidemy1)\n",
    "\n",
    "print(aidemy)\n",
    "print()\n",
    "print(aidemy2)\n",
    "\n",
    "# DataFrame을 생성하고 열을 추가합니다\n",
    "df = pd.DataFrame()\n",
    "for index in index:\n",
    "    df[index] = np.random.choice(range(1, 11), 10)\n",
    "\n",
    "# range(시작행, 종료행-1) 입니다\n",
    "df.index = range(1, 11)\n",
    "\n",
    "# loc[]를 사용하여 df의 2~5행(4개의 행)과 \"ishikawa\"를 포함하는 DataFrame을 aidemy3에 대입하세요\n",
    "# 첫번째 행의 인덱스는 1이며, 이후의 인덱스는 정수의 오름차순입니다\n",
    "aidemy3 = df.loc[range(2,6),[\"ishikawa\"]]\n",
    "print()\n",
    "print(aidemy3)\n"
   ]
  },
  {
   "cell_type": "code",
   "execution_count": null,
   "metadata": {},
   "outputs": [],
   "source": []
  }
 ],
 "metadata": {
  "kernelspec": {
   "display_name": "Python 3",
   "language": "python",
   "name": "python3"
  },
  "language_info": {
   "codemirror_mode": {
    "name": "ipython",
    "version": 3
   },
   "file_extension": ".py",
   "mimetype": "text/x-python",
   "name": "python",
   "nbconvert_exporter": "python",
   "pygments_lexer": "ipython3",
   "version": "3.6.9"
  }
 },
 "nbformat": 4,
 "nbformat_minor": 2
}
