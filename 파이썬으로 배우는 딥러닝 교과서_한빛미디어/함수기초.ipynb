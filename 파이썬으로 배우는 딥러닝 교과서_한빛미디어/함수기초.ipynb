{
 "cells": [
  {
   "cell_type": "code",
   "execution_count": 1,
   "metadata": {},
   "outputs": [
    {
     "name": "stdout",
     "output_type": "stream",
     "text": [
      "6\n",
      "5\n"
     ]
    }
   ],
   "source": [
    "vege = \"potato\"\n",
    "n = [4, 5, 2, 7, 6]\n",
    "\n",
    "# 변수 vege의 오브젝트의 길이를 출력하세요\n",
    "print(len(vege))\n",
    "\n",
    "# 변수 n의 오브젝트의 길이를 출력하세요\n",
    "print(len(n))\n"
   ]
  },
  {
   "cell_type": "code",
   "execution_count": 2,
   "metadata": {},
   "outputs": [
    {
     "name": "stdout",
     "output_type": "stream",
     "text": [
      "['a', 'b', 'c', 'd', 'e', 'f']\n"
     ]
    }
   ],
   "source": [
    "# append의 복습\n",
    "alphabet = [\"a\",\"b\",\"c\",\"d\",\"e\"]\n",
    "alphabet.append(\"f\")\n",
    "print(alphabet)\n"
   ]
  },
  {
   "cell_type": "code",
   "execution_count": 4,
   "metadata": {},
   "outputs": [
    {
     "name": "stdout",
     "output_type": "stream",
     "text": [
      "[1, 2, 3, 4, 5]\n",
      "[1, 5, 3, 4, 2]\n"
     ]
    }
   ],
   "source": [
    "# sorted 입니다\n",
    "number = [1,5,3,4,2]\n",
    "print(sorted(number))\n",
    "print(number)\n",
    "\n"
   ]
  },
  {
   "cell_type": "code",
   "execution_count": 5,
   "metadata": {},
   "outputs": [
    {
     "name": "stdout",
     "output_type": "stream",
     "text": [
      "[1, 2, 3, 4, 5]\n"
     ]
    }
   ],
   "source": [
    "# sort 입니다\n",
    "number = [1,5,3,4,2]\n",
    "number.sort()\n",
    "print(number)\n"
   ]
  },
  {
   "cell_type": "code",
   "execution_count": 1,
   "metadata": {},
   "outputs": [
    {
     "name": "stdout",
     "output_type": "stream",
     "text": [
      "TOKYO\n",
      "2\n"
     ]
    }
   ],
   "source": [
    "# 메서드의 예입니다\n",
    "city = \"Tokyo\"\n",
    "print(city.upper())\n",
    "print(city.count(\"o\"))\n"
   ]
  },
  {
   "cell_type": "code",
   "execution_count": 3,
   "metadata": {},
   "outputs": [
    {
     "name": "stdout",
     "output_type": "stream",
     "text": [
      "elephant\n",
      "ELEPHANT\n",
      "2\n"
     ]
    }
   ],
   "source": [
    "animal = \"elephant\"\n",
    "\n",
    "# 변수 animal_big에는 변수 animal의 문자열을 대문자로 만들어 저장하세요\n",
    "animal_big = animal.upper() \n",
    "print(animal)\n",
    "print(animal_big)\n",
    "\n",
    "# 변수 animal에 'e'가 몇 개 포함되어 있는지 출력하세요\n",
    "print(animal.count(\"e\"))\n"
   ]
  },
  {
   "cell_type": "code",
   "execution_count": 1,
   "metadata": {},
   "outputs": [
    {
     "name": "stdout",
     "output_type": "stream",
     "text": [
      "서울에서 태어나 광명시에서 유년기를 보냈습니다\n"
     ]
    }
   ],
   "source": [
    "print(\"{}에서 태어나 {}에서 유년기를 보냈습니다\".format(\"서울\", \"광명시\"))"
   ]
  },
  {
   "cell_type": "code",
   "execution_count": 2,
   "metadata": {},
   "outputs": [
    {
     "name": "stdout",
     "output_type": "stream",
     "text": [
      "banana는 yellow입니다\n"
     ]
    }
   ],
   "source": [
    "fruit = \"banana\"\n",
    "color = \"yellow\"\n",
    "\n",
    "# \"banana는 yellow입니다\"라고 출력하세요\n",
    "print(\"{}는 {}입니다\".format(fruit, color))\n"
   ]
  },
  {
   "cell_type": "code",
   "execution_count": 3,
   "metadata": {},
   "outputs": [
    {
     "name": "stdout",
     "output_type": "stream",
     "text": [
      "0\n",
      "2\n"
     ]
    }
   ],
   "source": [
    "alphabet = [\"a\", \"b\", \"c\", \"d\", \"d\"]\n",
    "print(alphabet.index(\"a\"))\n",
    "print(alphabet.count(\"d\"))"
   ]
  },
  {
   "cell_type": "code",
   "execution_count": 4,
   "metadata": {},
   "outputs": [
    {
     "name": "stdout",
     "output_type": "stream",
     "text": [
      "5\n",
      "3\n"
     ]
    }
   ],
   "source": [
    "n = [3, 6, 8, 6, 3, 2, 4, 6]\n",
    "\n",
    "# \"2\"의 인덱스 번호를 출력하세요\n",
    "print(n.index(2))\n",
    "\n",
    "# 변수 n에 \"6\"이 몇 개 있는지 출력하세요\n",
    "print(n.count(6))\n"
   ]
  },
  {
   "cell_type": "code",
   "execution_count": 5,
   "metadata": {},
   "outputs": [
    {
     "name": "stdout",
     "output_type": "stream",
     "text": [
      "[1, 2, 10, 20]\n"
     ]
    }
   ],
   "source": [
    "# sort()의 예\n",
    "list = [1, 10, 2, 20]\n",
    "list.sort()\n",
    "print(list)\n"
   ]
  },
  {
   "cell_type": "code",
   "execution_count": 7,
   "metadata": {},
   "outputs": [
    {
     "name": "stdout",
     "output_type": "stream",
     "text": [
      "['마', '라', '다', '나', '가']\n"
     ]
    }
   ],
   "source": [
    "# reverse()의 예\n",
    "list = [\"가\", \"나\", \"다\", \"라\", \"마\"]\n",
    "list.reverse()\n",
    "print(list)\n"
   ]
  },
  {
   "cell_type": "code",
   "execution_count": 8,
   "metadata": {},
   "outputs": [
    {
     "name": "stdout",
     "output_type": "stream",
     "text": [
      "[2, 24, 26, 37, 53, 69]\n",
      "[69, 53, 37, 26, 24, 2]\n"
     ]
    }
   ],
   "source": [
    "n = [53, 26, 37, 69, 24, 2]\n",
    "\n",
    "# n을 정렬하여 오름차순으로 출력하세요\n",
    "n.sort()\n",
    "print(n)\n",
    "\n",
    "# n의 순서를 반대로 하여, 내림차순으로 출력하세요\n",
    "n.reverse()\n",
    "print(n)\n",
    "\n"
   ]
  },
  {
   "cell_type": "code",
   "execution_count": 10,
   "metadata": {},
   "outputs": [
    {
     "name": "stdout",
     "output_type": "stream",
     "text": [
      "노래합니다!\n"
     ]
    }
   ],
   "source": [
    "def sing():\n",
    "    print(\"노래합니다!\")\n",
    "    \n",
    "sing()\n"
   ]
  },
  {
   "cell_type": "code",
   "execution_count": 13,
   "metadata": {},
   "outputs": [
    {
     "name": "stdout",
     "output_type": "stream",
     "text": [
      "홍길동입니다\n"
     ]
    }
   ],
   "source": [
    "# \"홍길동입니다\"라고 출력하는 함수 introduce를 작성하세요\n",
    "def introduce():\n",
    "    print(\"홍길동입니다\")\n",
    "\n",
    "introduce()"
   ]
  },
  {
   "cell_type": "code",
   "execution_count": 12,
   "metadata": {},
   "outputs": [
    {
     "name": "stdout",
     "output_type": "stream",
     "text": [
      "홍길동입니다\n"
     ]
    }
   ],
   "source": [
    "def introduce(n):\n",
    "    print(n + \"입니다\")\n",
    "\n",
    "introduce(\"홍길동\")\n"
   ]
  },
  {
   "cell_type": "code",
   "execution_count": 14,
   "metadata": {},
   "outputs": [
    {
     "name": "stdout",
     "output_type": "stream",
     "text": [
      "64\n"
     ]
    }
   ],
   "source": [
    "# 인수 n을 세제곱한 값을 출력하는 함수 cube_cal을 만드세요\n",
    "def cube_cal(n):\n",
    "    print(n ** 3) \n",
    "\n",
    "# 함수를 호출합니다\n",
    "cube_cal(4)\n"
   ]
  },
  {
   "cell_type": "code",
   "execution_count": 1,
   "metadata": {},
   "outputs": [
    {
     "name": "stdout",
     "output_type": "stream",
     "text": [
      "성은 홍이고, 이름은 길동입니다.\n"
     ]
    }
   ],
   "source": [
    "def introduce(first, second):\n",
    "    print(\"성은 \" + first + \"이고, 이름은 \"+ second + \"입니다.\")\n",
    "    \n",
    "introduce(\"홍\", \"길동\")\n"
   ]
  },
  {
   "cell_type": "code",
   "execution_count": 19,
   "metadata": {},
   "outputs": [
    {
     "name": "stdout",
     "output_type": "stream",
     "text": [
      "홍길동입니다. 18살입니다.\n"
     ]
    }
   ],
   "source": [
    "# 함수 introduce를 만드세요\n",
    "def introduce(n, age):\n",
    "    print(n + \"입니다. \"+ str (age) + \"살입니다.\")\n",
    "\n",
    "# 함수를 호출하세요\n",
    "introduce(\"홍길동\", 18)\n"
   ]
  },
  {
   "cell_type": "code",
   "execution_count": 22,
   "metadata": {},
   "outputs": [
    {
     "name": "stdout",
     "output_type": "stream",
     "text": [
      "성은 홍이고, 이름은 길동입니다.\n"
     ]
    }
   ],
   "source": [
    "def introduce(first = \"김\", second = \"길동\"):\n",
    "    print(\"성은 \" + first + \"이고, 이름은 \" + second + \"입니다.\")\n",
    "\n",
    "introduce(\"홍\")\n"
   ]
  },
  {
   "cell_type": "code",
   "execution_count": 23,
   "metadata": {},
   "outputs": [
    {
     "name": "stdout",
     "output_type": "stream",
     "text": [
      "성은 홍이고, 이름은 길동입니다.\n"
     ]
    }
   ],
   "source": [
    "def introduce(first, second = \"길동\"):\n",
    "    print(\"성은 \" + first + \"이고, 이름은 \" + second + \"입니다.\")\n",
    "\n",
    "introduce(\"홍\")\n"
   ]
  },
  {
   "cell_type": "code",
   "execution_count": 24,
   "metadata": {},
   "outputs": [
    {
     "ename": "SyntaxError",
     "evalue": "non-default argument follows default argument (<ipython-input-24-f2a3d9129b29>, line 1)",
     "output_type": "error",
     "traceback": [
      "\u001b[1;36m  File \u001b[1;32m\"<ipython-input-24-f2a3d9129b29>\"\u001b[1;36m, line \u001b[1;32m1\u001b[0m\n\u001b[1;33m    def introduce(first = \"홍\", second):\u001b[0m\n\u001b[1;37m                 ^\u001b[0m\n\u001b[1;31mSyntaxError\u001b[0m\u001b[1;31m:\u001b[0m non-default argument follows default argument\n"
     ]
    }
   ],
   "source": [
    "def introduce(first = \"홍\", second):\n",
    "    print(\"성은 \" + first + \"이고, 이름은 \" + second + \"입니다.\")\n"
   ]
  },
  {
   "cell_type": "code",
   "execution_count": 31,
   "metadata": {},
   "outputs": [],
   "source": [
    "# 초기값을 설정하세요\n",
    "def introduce(age, n):\n",
    "    print(n + \"입니다.\" + str(age) + \"살입니다.\")\n",
    "\n",
    "# 함수를 호출합니다\n",
    "\n"
   ]
  },
  {
   "cell_type": "code",
   "execution_count": 26,
   "metadata": {},
   "outputs": [
    {
     "name": "stdout",
     "output_type": "stream",
     "text": [
      "홍길동입니다. 18살입니다.\n"
     ]
    }
   ],
   "source": [
    "# 초기값을 설정하세요\n",
    "def introduce(age, n = \"홍길동\"):\n",
    "    print(n + \"입니다. \" + str(age) + \"살입니다.\")\n",
    "\n",
    "# 함수를 호출합니다\n",
    "introduce(18)\n"
   ]
  },
  {
   "cell_type": "code",
   "execution_count": 28,
   "metadata": {},
   "outputs": [
    {
     "name": "stdout",
     "output_type": "stream",
     "text": [
      "성은 홍이고, 이름은 길동입니다.\n"
     ]
    }
   ],
   "source": [
    "def introduce(first = \"김\", second = \"길동\"):\n",
    "    return \"성은 \" + first + \"이고, 이름은 \" + second + \"입니다.\"\n",
    "\n",
    "print(introduce(\"홍\"))\n"
   ]
  },
  {
   "cell_type": "code",
   "execution_count": 29,
   "metadata": {},
   "outputs": [
    {
     "name": "stdout",
     "output_type": "stream",
     "text": [
      "성은 홍이고, 이름은 길동입니다.\n"
     ]
    }
   ],
   "source": [
    "def introduce(first = \"김\", second = \"길동\"):\n",
    "    comment = \"성은 \" + first + \"이고, 이름은 \" + second + \"입니다.\"\n",
    "    return comment\n",
    "\n",
    "print(introduce(\"홍\"))\n"
   ]
  },
  {
   "cell_type": "code",
   "execution_count": 30,
   "metadata": {},
   "outputs": [
    {
     "name": "stdout",
     "output_type": "stream",
     "text": [
      "23.875114784205696\n"
     ]
    }
   ],
   "source": [
    "# bmi을 계산하는 함수를 만들고, bmi를 반환 값으로 만드세요\n",
    "def bmi(height, weight):\n",
    "    return weight / height**2 \n",
    "\n",
    "print(bmi(1.65, 65))"
   ]
  },
  {
   "cell_type": "code",
   "execution_count": 31,
   "metadata": {},
   "outputs": [
    {
     "name": "stdout",
     "output_type": "stream",
     "text": [
      "1565014886.3722658\n"
     ]
    }
   ],
   "source": [
    "# time 패키지를 import합니다\n",
    "import time\n",
    "\n",
    "# time() 모듈을 사용하여 현재 시간을 now_time에 대입합니다\n",
    "now_time = time.time()\n",
    "\n",
    "# print()를 이용하여 출력하세요\n",
    "print(now_time)\n"
   ]
  },
  {
   "cell_type": "code",
   "execution_count": 32,
   "metadata": {},
   "outputs": [
    {
     "name": "stdout",
     "output_type": "stream",
     "text": [
      "1565014964.64183\n"
     ]
    }
   ],
   "source": [
    "# from을 사용하여 time 모듈을 import합니다\n",
    "from time import time\n",
    "\n",
    "# from에서 import했기 때문에 패키지명을 생략할 수 있습니다\n",
    "now_time = time()\n",
    "\n",
    "print(now_time)\n"
   ]
  },
  {
   "cell_type": "code",
   "execution_count": 33,
   "metadata": {},
   "outputs": [
    {
     "name": "stdout",
     "output_type": "stream",
     "text": [
      "1565015053.6206481\n"
     ]
    }
   ],
   "source": [
    "# from을 이용하여 time 모듈을 import하세요\n",
    "from time import time\n",
    "\n",
    "# now_time에 현재 시간을 대입하세요\n",
    "now_time = time()\n",
    "\n",
    "print(now_time)\n"
   ]
  },
  {
   "cell_type": "code",
   "execution_count": 34,
   "metadata": {},
   "outputs": [
    {
     "name": "stdout",
     "output_type": "stream",
     "text": [
      "[1, 2, 10, 20]\n"
     ]
    }
   ],
   "source": [
    "# 값을 저장할 수 있습니다\n",
    "mylist = [1, 10, 2, 20]\n",
    "\n",
    "# 저장한 값에 정렬을 수행할 수 있습니다\n",
    "mylist.sort()\n",
    "\n",
    "# 함수로 전달하여 처리 결과를 표시할 수 있습니다\n",
    "print(mylist)\n"
   ]
  },
  {
   "cell_type": "code",
   "execution_count": 12,
   "metadata": {},
   "outputs": [
    {
     "name": "stdout",
     "output_type": "stream",
     "text": [
      "20\n"
     ]
    }
   ],
   "source": [
    "# MyProduct 클래스를 정의합니다\n",
    "class MyProduct:\n",
    "    # 생성자를 수정하세요\n",
    "    def __init__(self, name, price, stock):\n",
    "        # 인수를 멤버에 저장하세요\n",
    "        self.name = name\n",
    "        self.price = price\n",
    "        self.stock = stock\n",
    "        self.sales = 0\n",
    "\n",
    "# MyProduct를 호출하여 객체 product_1을 만듭니다\n",
    "product_1 = MyProduct(\"cake\", 500, 20) \n",
    "\n",
    "# product_1의 stock을 출력하세요\n",
    "print(product_1.stock)\n",
    "\n"
   ]
  },
  {
   "cell_type": "code",
   "execution_count": 13,
   "metadata": {},
   "outputs": [],
   "source": [
    "# MyProduct 클래스를 정의합니다\n",
    "class MyProduct:\n",
    "    def __init__(self, name, price, stock):\n",
    "        self.name = name\n",
    "        self.price = price\n",
    "        self.stock = stock\n",
    "        self.sales = 0\n",
    "    # 구매 방법\n",
    "    def buy_up(self, n):\n",
    "        self.stock += n\n",
    "    # 매각 메서드\n",
    "    def sell(self, n):\n",
    "        self.stock -= n\n",
    "        self.sales += n*self.price\n",
    "    # 요약 메서드\n",
    "    def summary(self):\n",
    "        message = \"called summary().\\n name: \" + self.name + \\\n",
    "        \"\\n price: \" + str(self.price) + \\\n",
    "        \"\\n stock: \" + str(self.stock) + \\\n",
    "        \"\\n sales: \" + str(self.sales)\n",
    "        print(message)\n"
   ]
  },
  {
   "cell_type": "code",
   "execution_count": 21,
   "metadata": {},
   "outputs": [
    {
     "name": "stdout",
     "output_type": "stream",
     "text": [
      "called summary().\n",
      " name: phone\n",
      " price: 25000\n",
      " stock: 100\n",
      " sales: 0\n"
     ]
    }
   ],
   "source": [
    "# MyProduct 클래스를 정의합니다\n",
    "class MyProduct:\n",
    "    def __init__(self, name, price, stock):\n",
    "        self.name = name\n",
    "        self.price = price\n",
    "        self.stock = stock\n",
    "        self.sales = 0\n",
    "    # 요약 메서드\n",
    "    # 문자열과 \"자신의 방법\"과 \"자신의 구성원\"을 연결하여 출력하세요\n",
    "    def summary(self):\n",
    "        message = \"called summary().\" + \\\n",
    "        \"\\n name: \" + self.get_name() + \\\n",
    "        \"\\n price: \" + str(self.price) + \\\n",
    "        \"\\n stock: \" + str(self.stock) + \\\n",
    "        \"\\n sales: \" + str(self.sales)\n",
    "        print(message)\n",
    "    # name을 반환하는 get_name()를 작성하세요\n",
    "    def get_name(self):\n",
    "        return self.name\n",
    "\n",
    "    # 인수만큼 price를 뺴주는 discount()를 작성하세요\n",
    "    def discount(self, n):\n",
    "        self.price -= n\n",
    "\n",
    "product_2 = MyProduct(\"phone\", 30000, 100)\n",
    "# 5,000 만큼 discount하세요\n",
    "product_2.discount(5000)\n",
    "# product_2의 summary를 출력하세요\n",
    "product_2.summary()"
   ]
  },
  {
   "cell_type": "code",
   "execution_count": 23,
   "metadata": {},
   "outputs": [],
   "source": [
    "# MyProduct 클래스를 상속하는 MyProductSalesTax을 정의합니다\n",
    "class MyProductSalesTax(MyProduct):\n",
    "    \n",
    "    # MyProductSalesTax는 생성자의 네 번째 인수가 소비세 비율을 받습니다\n",
    "    def __init__(self, name, price, stock, tax_rate):\n",
    "        # super()를 사용하면 부모 클래스의 메서드를 호출할 수 있습니다\n",
    "        # 여기서는 MyProduct 클래스의 생성자를 호출합니다\n",
    "        super().__init__(name, price, stock)\n",
    "        self.tax_rate = tax_rate\n",
    "\n",
    "    # MyProductSalesTax에서 MyProduct의 get_name을 재정의(오버라이드)합니다\n",
    "    def get_name(self):\n",
    "        return self.name + \"(세금 포함)\"\n",
    "\n",
    "    # MyProductSalesTax에서 get_price_with_tax를 새로 구현합니다\n",
    "    def get_price_with_tax(self):\n",
    "        return int(self.price * (1 + self.tax_rate))\n"
   ]
  },
  {
   "cell_type": "code",
   "execution_count": 24,
   "metadata": {},
   "outputs": [
    {
     "name": "stdout",
     "output_type": "stream",
     "text": [
      "phone(세금 포함)\n",
      "33000\n",
      "called summary().\n",
      " name: phone(세금 포함)\n",
      " price: 30000\n",
      " stock: 100\n",
      " sales: 0\n"
     ]
    }
   ],
   "source": [
    "product_3 = MyProductSalesTax(\"phone\", 30000, 100, 0.1)\n",
    "print(product_3.get_name())\n",
    "print(product_3.get_price_with_tax())\n",
    "# MyProductSalesTax 클래스에서는 summary() 메서드는 정의되어 있지 않지만,\n",
    "# MyProduct을 계승하고 있기 때문에 MyProduct의 summary() 메서드를 호출할 수 있습니다\n",
    "product_3.summary()\n"
   ]
  },
  {
   "cell_type": "code",
   "execution_count": 29,
   "metadata": {},
   "outputs": [
    {
     "name": "stdout",
     "output_type": "stream",
     "text": [
      "phone(세금 포함)\n",
      "33000\n",
      "called summary().\n",
      " name: phone(세금 포함)\n",
      " price: 33000\n",
      " stock: 100\n",
      " sales: 0\n"
     ]
    }
   ],
   "source": [
    "class MyProduct:\n",
    "    def __init__(self, name, price, stock):\n",
    "        self.name = name\n",
    "        self.price = price\n",
    "        self.stock = stock\n",
    "        self.sales = 0\n",
    "\n",
    "    def summary(self):\n",
    "        message = \"called summary().\\n name: \" + self.get_name() + \\\n",
    "        \"\\n price: \" + str(self.price) + \\\n",
    "        \"\\n stock: \" + str(self.stock) + \\\n",
    "        \"\\n sales: \" + str(self.sales)\n",
    "        print(message)\n",
    "\n",
    "    def get_name(self):\n",
    "        return self.name\n",
    "\n",
    "    def discount(self, n):\n",
    "        self.price -= n\n",
    "\n",
    "class MyProductSalesTax(MyProduct):\n",
    "    # MyProductSalesTax는 네 번째 인수가 소비 세율을 받게 합니다\n",
    "    def __init__(self, name, price, stock, tax_rate):\n",
    "        # super()를 사용하면 부모 클래스의 메서드를 호출할 수 있습니다\n",
    "        # 여기에서는 MyProduct 클래스의 생성자를 호출합니다\n",
    "        super().__init__(name, price, stock)\n",
    "        self.tax_rate = tax_rate\n",
    "\n",
    "    # MyProductSalesTax에서 MyProduct의 get_name을 재정의(오버라이드)합니다\n",
    "    def get_name(self):\n",
    "        return self.name + \"(세금 포함)\"\n",
    "\n",
    "    # MyProductSalesTax에 get_price_with_tax를 새로 구현합니다\n",
    "    def get_price_with_tax(self):\n",
    "        return int(self.price * (1 + self.tax_rate))\n",
    "\n",
    "    # MyProduct의 summary() 메서드를 재정의하고 summary가 세금 포함 가격을 출력하도록 만드세요\n",
    "    def summary(self):\n",
    "        message = \"called summary().\\n name: \" + self.get_name() + \\\n",
    "        \"\\n price: \" + str(self.get_price_with_tax()+0) + \\\n",
    "        \"\\n stock: \" + str(self.stock) + \\\n",
    "        \"\\n sales: \" + str(self.sales)\n",
    "        print(message) \n",
    "\n",
    "product_3 = MyProductSalesTax(\"phone\", 30000, 100, 0.1)\n",
    "print(product_3.get_name())\n",
    "print(product_3.get_price_with_tax())\n",
    "product_3.summary()\n"
   ]
  },
  {
   "cell_type": "code",
   "execution_count": 30,
   "metadata": {},
   "outputs": [
    {
     "name": "stdout",
     "output_type": "stream",
     "text": [
      "원주율은 3.141592\n",
      "원주율은 3.14\n"
     ]
    }
   ],
   "source": [
    "pai = 3.141592\n",
    "print(\"원주율은 %f\" % pai)\n",
    "print(\"원주율은 %.2f\" % pai)\n"
   ]
  },
  {
   "cell_type": "code",
   "execution_count": 2,
   "metadata": {},
   "outputs": [
    {
     "name": "stdout",
     "output_type": "stream",
     "text": [
      "bmi는 23.8751입니다\n"
     ]
    }
   ],
   "source": [
    "def bmi(height, weight):\n",
    "    return weight / height**2\n",
    "\n",
    "# \"bmi는 **입니다\"라고 출력시켜주세요\n",
    "print(\"bmi는 %.4f입니다\" % bmi(1.65, 65))\n"
   ]
  },
  {
   "cell_type": "code",
   "execution_count": 3,
   "metadata": {},
   "outputs": [
    {
     "name": "stdout",
     "output_type": "stream",
     "text": [
      "5\n",
      "1\n"
     ]
    }
   ],
   "source": [
    "# 함수 check_character를 작성하세요\n",
    "def check_character(object, character):\n",
    "    return object.count(character)\n",
    "\n",
    "# 함수 check_character에 입력하세요\n",
    "print(check_character([1, 3, 4, 5, 6, 4, 3, 2, 1, 3, 3, 4, 3], 3))\n",
    "print(check_character(\"asdgaoirnoiafvnwoeo\", \"d\"))\n"
   ]
  },
  {
   "cell_type": "code",
   "execution_count": 4,
   "metadata": {},
   "outputs": [
    {
     "name": "stdout",
     "output_type": "stream",
     "text": [
      "11은(는) 10번째에 있습니다\n"
     ]
    }
   ],
   "source": [
    "# 함수 binary_search의 내용을 작성하세요\n",
    "def binary_search(numbers, target_number):\n",
    "    # 최소치를 임시로 결정해 둡니다\n",
    "    low = 0\n",
    "    # 범위 내의 최대치\n",
    "    high = len(numbers)\n",
    "    # 목적지를 찾을 때까지 루프\n",
    "    while low <= high:\n",
    "        # 중앙값을 구합니다(index)\n",
    "        middle = (low + high) // 2\n",
    "        # numbers(검색 대상)의 중앙값과 target_number(찾는 값)가 동일한 경우\n",
    "        if numbers[middle] == target_number:\n",
    "            # 출력합니다\n",
    "            print(\"{1}은(는) {0}번째에 있습니다\".format(middle, target_number))\n",
    "            # 종료합니다\n",
    "            break\n",
    "        # numbers의 중앙값이 target_number보다 작은 경우\n",
    "        elif numbers[middle] < target_number:\n",
    "            low = middle + 1\n",
    "        # numbers의 중앙값이 target_number보다 큰 경우\n",
    "        else:\n",
    "            high = middle - 1\n",
    "\n",
    "# 검색 대상 데이터\n",
    "numbers = [1, 2, 3, 4, 5, 6, 7, 8, 9, 10, 11, 12, 13]\n",
    "# 찾을 값\n",
    "target_number = 11\n",
    "# 바이너리 검색 실행\n",
    "binary_search(numbers, target_number)\n"
   ]
  },
  {
   "cell_type": "code",
   "execution_count": null,
   "metadata": {},
   "outputs": [],
   "source": []
  }
 ],
 "metadata": {
  "kernelspec": {
   "display_name": "Python 3",
   "language": "python",
   "name": "python3"
  },
  "language_info": {
   "codemirror_mode": {
    "name": "ipython",
    "version": 3
   },
   "file_extension": ".py",
   "mimetype": "text/x-python",
   "name": "python",
   "nbconvert_exporter": "python",
   "pygments_lexer": "ipython3",
   "version": "3.6.8"
  }
 },
 "nbformat": 4,
 "nbformat_minor": 2
}
