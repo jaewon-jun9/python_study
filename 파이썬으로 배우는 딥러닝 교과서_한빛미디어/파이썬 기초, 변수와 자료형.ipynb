{
 "cells": [
  {
   "cell_type": "code",
   "execution_count": 1,
   "metadata": {},
   "outputs": [
    {
     "name": "stdout",
     "output_type": "stream",
     "text": [
      "Hello world\n"
     ]
    }
   ],
   "source": [
    "# 파이썬에서는 행의 시작 부분에 #를 입력하면 주석으로 처리됩니다\n",
    "# \"Hello world\"를 출력하세요\n",
    "print(\"Hello world\")\n"
   ]
  },
  {
   "cell_type": "code",
   "execution_count": 2,
   "metadata": {},
   "outputs": [
    {
     "name": "stdout",
     "output_type": "stream",
     "text": [
      "7\n",
      "11\n"
     ]
    }
   ],
   "source": [
    "# 5 + 2의 결과를 출력하세요\n",
    "print(5 + 2)\n",
    "\n",
    "# 3 + 8의 결과를 출력합니다\n",
    "print(3 + 8)\n"
   ]
  },
  {
   "cell_type": "code",
   "execution_count": 3,
   "metadata": {},
   "outputs": [
    {
     "name": "stdout",
     "output_type": "stream",
     "text": [
      "9\n",
      "8 - 3\n",
      "18\n",
      "8\n",
      "2 + 6\n"
     ]
    }
   ],
   "source": [
    "print(3 + 6)\n",
    "print(\"8 - 3\")\n",
    "# 숫자 18을 출력하세요\n",
    "print(18)\n",
    "\n",
    "# 2 + 6을 계산하고, 결과를 출력하세요\n",
    "print(2 + 6)\n",
    "\n",
    "# “2 + 6”이라는 문자열을 출력하세요 \n",
    "print(\"2 + 6\")\n"
   ]
  },
  {
   "cell_type": "code",
   "execution_count": 4,
   "metadata": {},
   "outputs": [
    {
     "name": "stdout",
     "output_type": "stream",
     "text": [
      "8\n",
      "-2\n",
      "15\n",
      "0.6\n",
      "3\n",
      "243\n"
     ]
    }
   ],
   "source": [
    "# 3 + 5\n",
    "print(3 + 5)\n",
    "\n",
    "# 3 - 5\n",
    "print(3 - 5)\n",
    "\n",
    "# 3 × 5\n",
    "print(3 * 5)\n",
    "\n",
    "# 3 ÷ 5\n",
    "print(3 / 5)\n",
    "\n",
    "# 3을 5로 나눈 나머지\n",
    "print(3 % 5)\n",
    "\n",
    "# 3의 5승\n",
    "print(3 ** 5)\n"
   ]
  },
  {
   "cell_type": "code",
   "execution_count": 5,
   "metadata": {},
   "outputs": [
    {
     "name": "stdout",
     "output_type": "stream",
     "text": [
      "강아지\n",
      "고양이\n",
      "n\n",
      "10\n"
     ]
    }
   ],
   "source": [
    "n = \"강아지\"\n",
    "print(n)\n",
    "# 변수 n에 \"고양이\"를 대입하세요\n",
    "n = \"고양이\"\n",
    "\n",
    "# 변수 n을 출력하세요\n",
    "print(n)\n",
    "\n",
    "# \"n\"이라는 문자열을 출력하세요\n",
    "print(\"n\")\n",
    "\n",
    "# 변수 n에 3 + 7이라는 수식을 대입하세요\n",
    "n = 3 + 7\n",
    "\n",
    "# 변수 n을 출력하세요\n",
    "print(n)\n"
   ]
  },
  {
   "cell_type": "code",
   "execution_count": 6,
   "metadata": {},
   "outputs": [
    {
     "name": "stdout",
     "output_type": "stream",
     "text": [
      "1\n",
      "2\n"
     ]
    }
   ],
   "source": [
    "x = 1\n",
    "print(x)\n",
    "x = x + 1\n",
    "print(x)\n"
   ]
  },
  {
   "cell_type": "code",
   "execution_count": 7,
   "metadata": {},
   "outputs": [
    {
     "name": "stdout",
     "output_type": "stream",
     "text": [
      "고양이\n",
      "강아지\n",
      "14\n",
      "70\n"
     ]
    }
   ],
   "source": [
    "m = \"고양이\"\n",
    "print(m)\n",
    "\n",
    "# 변수 m에 \"강아지\"을 덮어써서 출력하세요\n",
    "m = \"강아지\"\n",
    "print(m)\n",
    "\n",
    "n = 14\n",
    "print(n)\n",
    "\n",
    "# 변수 n에 5를 곱하여 덮어하쓰세요. n = n * 5 또는 n = 5 * n도 정답입니다\n",
    "n *= 5\n",
    "\n",
    "print(n)\n"
   ]
  },
  {
   "cell_type": "code",
   "execution_count": 8,
   "metadata": {},
   "outputs": [
    {
     "name": "stdout",
     "output_type": "stream",
     "text": [
      "내 이름은 홍길동입니다\n"
     ]
    }
   ],
   "source": [
    "m = \"홍길동\"\n",
    "print(\"내 이름은 \"+ m + \"입니다\")\n"
   ]
  },
  {
   "cell_type": "code",
   "execution_count": 9,
   "metadata": {},
   "outputs": [
    {
     "name": "stdout",
     "output_type": "stream",
     "text": [
      "저는 서울 출신입니다\n"
     ]
    }
   ],
   "source": [
    "# 변수 p에 “서울”을 대입하세요\n",
    "p = \"서울\"\n",
    "\n",
    "# 변수 p를 사용하여 \"저는 서울 출신입니다\"라고 출력하세요\n",
    "print(\"저는 \"+ p + \" 출신입니다\")\n"
   ]
  },
  {
   "cell_type": "code",
   "execution_count": 10,
   "metadata": {},
   "outputs": [
    {
     "ename": "TypeError",
     "evalue": "can only concatenate str (not \"int\") to str",
     "output_type": "error",
     "traceback": [
      "\u001b[1;31m---------------------------------------------------------------------------\u001b[0m",
      "\u001b[1;31mTypeError\u001b[0m                                 Traceback (most recent call last)",
      "\u001b[1;32m<ipython-input-10-ba36d59d3e3a>\u001b[0m in \u001b[0;36m<module>\u001b[1;34m\u001b[0m\n\u001b[0;32m      1\u001b[0m \u001b[0mheight\u001b[0m \u001b[1;33m=\u001b[0m \u001b[1;36m177\u001b[0m\u001b[1;33m\u001b[0m\u001b[1;33m\u001b[0m\u001b[0m\n\u001b[1;32m----> 2\u001b[1;33m \u001b[0mprint\u001b[0m\u001b[1;33m(\u001b[0m\u001b[1;34m\"키는 \"\u001b[0m\u001b[1;33m+\u001b[0m \u001b[0mheight\u001b[0m \u001b[1;33m+\u001b[0m \u001b[1;34m\"cm입니다.\"\u001b[0m\u001b[1;33m)\u001b[0m \u001b[1;31m# \"TypeError: must be str, not int\"라는 오류 메시지가 출력됩니다\u001b[0m\u001b[1;33m\u001b[0m\u001b[1;33m\u001b[0m\u001b[0m\n\u001b[0m",
      "\u001b[1;31mTypeError\u001b[0m: can only concatenate str (not \"int\") to str"
     ]
    }
   ],
   "source": [
    "height = 177\n",
    "print(\"키는 \"+ height + \"cm입니다.\") # \"TypeError: must be str, not int\"라는 오류 메시지가 출력됩니다\n"
   ]
  },
  {
   "cell_type": "code",
   "execution_count": 11,
   "metadata": {},
   "outputs": [
    {
     "data": {
      "text/plain": [
       "int"
      ]
     },
     "execution_count": 11,
     "metadata": {},
     "output_type": "execute_result"
    }
   ],
   "source": [
    "height = 177\n",
    "type(height) # int 형임을 알 수 있습니다\n"
   ]
  },
  {
   "cell_type": "code",
   "execution_count": 12,
   "metadata": {},
   "outputs": [
    {
     "name": "stdout",
     "output_type": "stream",
     "text": [
      "<class 'float'>\n",
      "<class 'int'>\n",
      "20.761245674740486\n",
      "<class 'float'>\n"
     ]
    }
   ],
   "source": [
    "h = 1.7\n",
    "w = 60\n",
    "\n",
    "# 변수 h, w의 형을 출력하세요\n",
    "print(type(h))\n",
    "print(type(w))\n",
    "\n",
    "# 변수 bmi 계산 결과를 대입하세요\n",
    "bmi = w / h ** 2\n",
    "\n",
    "# 변수 bmi를 출력하세요\n",
    "print(bmi)\n",
    "\n",
    "# 변수 bmi의 형을 출력하세요\n",
    "print(type(bmi))\n"
   ]
  },
  {
   "cell_type": "code",
   "execution_count": 13,
   "metadata": {},
   "outputs": [
    {
     "name": "stdout",
     "output_type": "stream",
     "text": [
      "신장은 177cm입니다\n"
     ]
    }
   ],
   "source": [
    "h = 177\n",
    "print(\"신장은 \" + str(h) + \"cm입니다\")\n"
   ]
  },
  {
   "cell_type": "code",
   "execution_count": 14,
   "metadata": {},
   "outputs": [
    {
     "name": "stdout",
     "output_type": "stream",
     "text": [
      "45.4\n"
     ]
    }
   ],
   "source": [
    "a = 35.4\n",
    "b = 10\n",
    "print(a + b)\n"
   ]
  },
  {
   "cell_type": "code",
   "execution_count": 15,
   "metadata": {},
   "outputs": [
    {
     "name": "stdout",
     "output_type": "stream",
     "text": [
      "당신의 bmi는 20.761245674740486입니다\n"
     ]
    }
   ],
   "source": [
    "h = 1.7\n",
    "w = 60\n",
    "bmi = w / h ** 2\n",
    "\n",
    "# \"당신의 bmi는 〇〇입니다\"라고 출력하세요\n",
    "print(\"당신의 bmi는 \" + str(bmi) + \"입니다\")"
   ]
  },
  {
   "cell_type": "code",
   "execution_count": 16,
   "metadata": {},
   "outputs": [
    {
     "name": "stdout",
     "output_type": "stream",
     "text": [
      "yo!yo!\n"
     ]
    }
   ],
   "source": [
    "greeting = \"yo!\"\n",
    "print(greeting * 2)\n"
   ]
  },
  {
   "cell_type": "code",
   "execution_count": 17,
   "metadata": {},
   "outputs": [
    {
     "name": "stdout",
     "output_type": "stream",
     "text": [
      "101010\n"
     ]
    }
   ],
   "source": [
    "n = \"10\"\n",
    "print(n * 3)\n"
   ]
  },
  {
   "cell_type": "code",
   "execution_count": null,
   "metadata": {},
   "outputs": [],
   "source": [
    "#!/usr/bin/env python\n",
    "# coding: utf-8\n",
    "\n",
    "# In[1]:\n",
    "\n",
    "\n",
    "# 파이썬에서는 행의 시작 부분에 #를 입력하면 주석으로 처리됩니다\n",
    "# \"Hello world\"를 출력하세요\n",
    "print(\"Hello world\")\n",
    "\n",
    "\n",
    "# In[2]:\n",
    "\n",
    "\n",
    "# 5 + 2의 결과를 출력하세요\n",
    "print(5 + 2)\n",
    "\n",
    "# 3 + 8의 결과를 출력합니다\n",
    "print(3 + 8)\n",
    "\n",
    "\n",
    "# In[3]:\n",
    "\n",
    "\n",
    "print(3 + 6)\n",
    "\n",
    "\n",
    "# In[4]:\n",
    "\n",
    "\n",
    "print(\"8 - 3\")\n",
    "\n",
    "\n",
    "# In[5]:\n",
    "\n",
    "\n",
    "# 숫자 18을 출력하세요\n",
    "print(18)\n",
    "\n",
    "# 2 + 6을 계산하고, 결과를 출력하세요\n",
    "print(2 + 6)\n",
    "\n",
    "# “2 + 6”이라는 문자열을 출력하세요 \n",
    "print(\"2 + 6\")\n",
    "\n",
    "\n",
    "# In[6]:\n",
    "\n",
    "\n",
    "# 3 + 5\n",
    "print(3 + 5)\n",
    "\n",
    "# 3 - 5\n",
    "print(3 - 5)\n",
    "\n",
    "# 3 × 5\n",
    "print(3 * 5)\n",
    "\n",
    "# 3 ÷ 5\n",
    "print(3 / 5)\n",
    "\n",
    "# 3을 5로 나눈 나머지\n",
    "print(3 % 5)\n",
    "\n",
    "# 3의 5승\n",
    "print(3 ** 5)\n",
    "\n",
    "\n",
    "# In[7]:\n",
    "\n",
    "\n",
    "n = \"강아지\"\n",
    "print(n)\n",
    "\n",
    "\n",
    "# In[8]:\n",
    "\n",
    "\n",
    "# print를 변수명에 사용하면 print()를 호출하는 단계에서 오류가 발생합니다\n",
    "#print = \"Hello\"\n",
    "#print(print) # TypeError: 'str' object is not callable\n",
    "\n",
    "\n",
    "# In[9]:\n",
    "\n",
    "\n",
    "# 변수 n에 \"고양이\"를 대입하세요\n",
    "n = \"고양이\"\n",
    "\n",
    "# 변수 n을 출력하세요\n",
    "print(n)\n",
    "\n",
    "# \"n\"이라는 문자열을 출력하세요\n",
    "print(\"n\")\n",
    "\n",
    "# 변수 n에 3 + 7이라는 수식을 대입하세요\n",
    "n = 3 + 7\n",
    "\n",
    "# 변수 n을 출력하세요\n",
    "print(n)\n",
    "\n",
    "\n",
    "# In[10]:\n",
    "\n",
    "\n",
    "x = 1\n",
    "print(x)\n",
    "x = x + 1\n",
    "print(x)\n",
    "\n",
    "\n",
    "# In[11]:\n",
    "\n",
    "\n",
    "m = \"고양이\"\n",
    "print(m)\n",
    "\n",
    "# 변수 m에 \"강아지\"을 덮어써서 출력하세요\n",
    "m = \"강아지\"\n",
    "print(m)\n",
    "\n",
    "n = 14\n",
    "print(n)\n",
    "\n",
    "# 변수 n에 5를 곱하여 덮어하쓰세요. n = n * 5 또는 n = 5 * n도 정답입니다\n",
    "n *= 5\n",
    "\n",
    "print(n)\n",
    "\n",
    "\n",
    "# In[12]:\n",
    "\n",
    "\n",
    "m = \"홍길동\"\n",
    "print(\"내 이름은 \"+ m + \"입니다\")\n",
    "\n",
    "\n",
    "# In[1]:\n",
    "\n",
    "\n",
    "# 변수 p에 “서울”을 대입하세요\n",
    "p = \"서울\"\n",
    "\n",
    "# 변수 p를 사용하여 \"저는 서울 출신입니다\"라고 출력하세요\n",
    "print(\"저는 \"+ p + \" 출신입니다\")\n",
    "\n",
    "\n",
    "# In[16]:\n",
    "\n",
    "\n",
    "height = 177\n",
    "print(\"키는 \"+ height + \"cm입니다.\") # \"TypeError: must be str, not int\"라는 오류 메시지가 출력됩니다\n",
    "\n",
    "\n",
    "# In[18]:\n",
    "\n",
    "\n",
    "height = 177\n",
    "type(height) # int 형임을 알 수 있습니다\n",
    "\n",
    "\n",
    "# In[3]:\n",
    "\n",
    "\n",
    "h = 1.7\n",
    "w = 60\n",
    "\n",
    "# 변수 h, w의 형을 출력하세요\n",
    "print(type(h))\n",
    "print(type(w))\n",
    "\n",
    "# 변수 bmi 계산 결과를 대입하세요\n",
    "bmi = w / h ** 2\n",
    "\n",
    "# 변수 bmi를 출력하세요\n",
    "print(bmi)\n",
    "\n",
    "# 변수 bmi의 형을 출력하세요\n",
    "print(type(bmi))\n",
    "\n",
    "\n",
    "# In[21]:\n",
    "\n",
    "\n",
    "h = 177\n",
    "print(\"신장은 \" + str(h) + \"cm입니다\")\n",
    "\n",
    "\n",
    "# In[22]:\n",
    "\n",
    "\n",
    "a = 35.4\n",
    "b = 10\n",
    "print(a + b)\n",
    "\n",
    "\n",
    "# In[25]:\n",
    "\n",
    "\n",
    "h = 1.7\n",
    "w = 60\n",
    "bmi = w / h ** 2\n",
    "\n",
    "# \"당신의 bmi는 〇〇입니다\"라고 출력하세요\n",
    "print(\"당신의 bmi는 \" + str(bmi) + \"입니다\")\n",
    "\n",
    "\n",
    "# In[1]:\n",
    "\n",
    "\n",
    "greeting = \"yo!\"\n",
    "print(greeting * 2)\n",
    "\n",
    "\n",
    "# In[2]:\n",
    "\n",
    "\n",
    "n = \"10\"\n",
    "print(n * 3)\n",
    "\n",
    "\n",
    "# In[4]:\n",
    "\n",
    "\n",
    "print(1 + 1 == 3)\n",
    "\n",
    "\n",
    "# In[6]:\n",
    "\n",
    "\n",
    "# \"!=\" 을 이용해 4+6과 -10의 관계식을 만들어 True를 출력하세요\n",
    "print(4 + 6 != -10)\n",
    "\n",
    "\n",
    "# In[7]:\n",
    "\n",
    "\n",
    "n = 2\n",
    "if n == 2: \n",
    "    print(\"아쉽습니다! 당신은 \" + str(n) + \"번째로 도착합니다\") # n이 2일 때만 표시됩니다\n",
    "\n",
    "\n",
    "# In[8]:\n",
    "\n",
    "\n",
    "animal = \"cat\"\n",
    "if animal == \"cat\":\n",
    "    print(\"고양이는 귀엽습니다\") # animal이 cat일 때만 나타납니다\n",
    "\n",
    "\n",
    "# In[9]:\n",
    "\n",
    "\n",
    "n = 16\n",
    "\n",
    "# if를 사용하여 변수 n이 15보다 클 때 \"큰 숫자\"를 출력하세요\n",
    "if n > 15 :\n",
    "    print(\"큰 숫자\")\n",
    "\n",
    "\n",
    "# In[11]:\n",
    "\n",
    "\n",
    "n = 2\n",
    "if n == 1:\n",
    "    print(\"우승을 축하합니다!\") # n이 1인 경우에만 표시됩니다\n",
    "else:\n",
    "    print(\"아쉽습니다! 당신은 \"+ str(n) + \"번째로 도착했습니다\") # n이 1이 아닐 때 나타납니다\n",
    "\n",
    "\n",
    "# In[12]:\n",
    "\n",
    "\n",
    "animal = \"cat\"\n",
    "if animal == \"cat\":\n",
    "    print(\"고양이는 귀엽습니다\") # animal가 \"cat\"일 때만 표시됩니다\n",
    "else:\n",
    "    print(\"고양이가 아니다냥\") # animal가 \"cat\"이 아닐 때 나타납니다\n",
    "\n",
    "\n",
    "# In[2]:\n",
    "\n",
    "\n",
    "n = 14\n",
    "\n",
    "if n > 15:\n",
    "    print(\"큰 숫자\")\n",
    "\n",
    "# else를 이용하여 \"작은 숫자\"를 출력하세요\n",
    "else:\n",
    "    print(\"작은 숫자\")\n",
    "\n",
    "\n",
    "# In[4]:\n",
    "\n",
    "\n",
    "number = 2\n",
    "\n",
    "if number == 1:\n",
    "    print(\"금메달입니다!\")\n",
    "elif number == 2:\n",
    "    print(\"은메달입니다!\")\n",
    "elif number == 3:\n",
    "    print(\"동메달입니다!\")\n",
    "else:\n",
    "    print(\"아쉽습니다! 당신은 \"+ str (number) + \"번째로 도착했습니다\")\n",
    "\n",
    "\n",
    "# In[5]:\n",
    "\n",
    "\n",
    "animal = \"cat\"\n",
    "\n",
    "if animal == \"cat\":\n",
    "    print(\"고양이는 귀엽네요\")\n",
    "elif animal == \"dog\":\n",
    "    print(\"개는 멋지네용\")\n",
    "elif animal == \"elephant\":\n",
    "    print(\"코끼리는 크다구\")\n",
    "else:\n",
    "    print(\"고양이도, 개도, 코끼리도 아니다냥\")\n",
    "\n",
    "\n",
    "# In[8]:\n",
    "\n",
    "\n",
    "n = 14\n",
    "\n",
    "if n > 15: \n",
    "    print(\"큰 숫자\")\n",
    "\n",
    "# elif를 사용하여 n이 11 이상 15 이하일 때 \"중간 숫자\"라고 출력하세요\n",
    "elif n >= 11:\n",
    "    print(\"중간 숫자\")\n",
    "\n",
    "else:\n",
    "    print(\"작은 숫자\")\n",
    "\n",
    "\n",
    "# In[9]:\n",
    "\n",
    "\n",
    "n_1 = 14\n",
    "n_2 = 28 \n",
    "\n",
    "# n_1가 8보다 크고 14보다 작다는 조건식을 만들고, and를 사용하여 출력하세요\n",
    "print(n_1 > 8 and n_1 < 14)\n",
    "\n",
    "# n_1의 제곱이 n_2의 다섯 배 보다 작다는 조건식을 만들고, not을 사용하여 출력하세요\n",
    "print(not n_1 ** 2 < n_2 * 5)\n",
    "\n",
    "\n",
    "# In[12]:\n",
    "\n",
    "\n",
    "# 변수 year에 연도를 입력하세요\n",
    "year = 2000\n",
    "\n",
    "# if 문으로 조건 분기를 하고 윤년과 평년을 판별하세요 \n",
    "if year % 100 == 0 and year % 400 != 0: \n",
    "    print(str(year) + \"년은 평년입니다\")\n",
    "elif year % 4 == 0: \n",
    "    print(str(year) + \"년은 윤년입니다\")\n",
    "else: \n",
    "    print(str(year) + \"년은 평년입니다\")\n",
    "\n",
    "\n",
    "# In[ ]:\n",
    "\n",
    "\n",
    "\n",
    "\n"
   ]
  }
 ],
 "metadata": {
  "kernelspec": {
   "display_name": "Python 3",
   "language": "python",
   "name": "python3"
  },
  "language_info": {
   "codemirror_mode": {
    "name": "ipython",
    "version": 3
   },
   "file_extension": ".py",
   "mimetype": "text/x-python",
   "name": "python",
   "nbconvert_exporter": "python",
   "pygments_lexer": "ipython3",
   "version": "3.7.4"
  }
 },
 "nbformat": 4,
 "nbformat_minor": 2
}
