{
 "cells": [
  {
   "cell_type": "code",
   "execution_count": 1,
   "metadata": {},
   "outputs": [
    {
     "name": "stdout",
     "output_type": "stream",
     "text": [
      "['red', 'blue', 'yellow']\n",
      "<class 'list'>\n"
     ]
    }
   ],
   "source": [
    "# 변수 c에 \"red\" \"blue\" \"yellow\" 세 개의 문자열을 저장하세요\n",
    "c = [\"red\", \"blue\", \"yellow\"]\n",
    "\n",
    "print(c)\n",
    "\n",
    "# c의 자료형을 출력하세요\n",
    "print(type(c))"
   ]
  },
  {
   "cell_type": "code",
   "execution_count": 2,
   "metadata": {},
   "outputs": [
    {
     "name": "stdout",
     "output_type": "stream",
     "text": [
      "['사과', 3, '고릴라']\n"
     ]
    }
   ],
   "source": [
    "n = 3\n",
    "print([\"사과\", n, \"고릴라\"])\n"
   ]
  },
  {
   "cell_type": "code",
   "execution_count": 3,
   "metadata": {},
   "outputs": [
    {
     "name": "stdout",
     "output_type": "stream",
     "text": [
      "[4, 3, 6]\n"
     ]
    }
   ],
   "source": [
    "apple = 4\n",
    "grape = 3\n",
    "banana = 6\n",
    "\n",
    "# 리스트 형 fruits 변수에 apple, grape, banana 변수를 순서대로 저장하세요\n",
    "\n",
    "fruits = [apple, grape, banana]\n",
    "print(fruits)"
   ]
  },
  {
   "cell_type": "code",
   "execution_count": 4,
   "metadata": {},
   "outputs": [
    {
     "name": "stdout",
     "output_type": "stream",
     "text": [
      "[1, 2, 3, 4, 5, 6]\n"
     ]
    }
   ],
   "source": [
    "print([1, 2, 3, 4, 5, 6])"
   ]
  },
  {
   "cell_type": "code",
   "execution_count": 5,
   "metadata": {},
   "outputs": [
    {
     "name": "stdout",
     "output_type": "stream",
     "text": [
      "[['사과', 2], ['귤', 10]]\n"
     ]
    }
   ],
   "source": [
    "fruits_name_1 = \"사과\"\n",
    "fruits_num_1 = 2\n",
    "fruits_name_2 = \"귤\"\n",
    "fruits_num_2 = 10\n",
    "\n",
    "# [[\"사과\", 2], [\"귤\", 10]]이 출력되도록 fruits에 변수를 리스트에 대입합니다\n",
    "fruits = [[fruits_name_1, fruits_num_1], [fruits_name_2, fruits_num_2]] \n",
    "\n",
    "# 출력합니다\n",
    "print(fruits)\n"
   ]
  },
  {
   "cell_type": "code",
   "execution_count": 6,
   "metadata": {},
   "outputs": [
    {
     "name": "stdout",
     "output_type": "stream",
     "text": [
      "2\n",
      "3\n"
     ]
    }
   ],
   "source": [
    "a = [1, 2, 3, 4]\n",
    "print(a[1])\n",
    "print(a[-2])\n"
   ]
  },
  {
   "cell_type": "code",
   "execution_count": 7,
   "metadata": {},
   "outputs": [
    {
     "name": "stdout",
     "output_type": "stream",
     "text": [
      "2\n",
      "1\n"
     ]
    }
   ],
   "source": [
    "fruits = [\"apple\", 2, \"orange\", 4, \"grape\", 3, \"banana\", 1]\n",
    "\n",
    "# 변수 fruits의 두 번째 요소를 출력합니다\n",
    "print(fruits[1]) # print(fruits[-7])도 정답입니다\n",
    "\n",
    "# 변수 fruits의 마지막 요소를 출력하세요\n",
    "print(fruits[7]) # print(fruits[-1])도 정답입니다"
   ]
  },
  {
   "cell_type": "code",
   "execution_count": 8,
   "metadata": {},
   "outputs": [
    {
     "name": "stdout",
     "output_type": "stream",
     "text": [
      "['b', 'c', 'd', 'e']\n",
      "['b', 'c', 'd', 'e']\n",
      "['a', 'b', 'c', 'd', 'e']\n",
      "['g', 'h', 'i', 'j']\n",
      "['a', 'b', 'c', 'd', 'e', 'f', 'g', 'h', 'i', 'j']\n"
     ]
    }
   ],
   "source": [
    "alphabet = [\"a\", \"b\", \"c\", \"d\", \"e\", \"f\", \"g\", \"h\", \"i\", \"j\"]\n",
    "print(alphabet[1:5])\n",
    "print(alphabet[1:-5])\n",
    "print(alphabet[:5])\n",
    "print(alphabet[6:])\n",
    "print(alphabet[0:20])\n"
   ]
  },
  {
   "cell_type": "code",
   "execution_count": 9,
   "metadata": {},
   "outputs": [
    {
     "name": "stdout",
     "output_type": "stream",
     "text": [
      "['apple', 2, 'orange', 4, 'grape', 3, 'banana', 1]\n"
     ]
    }
   ],
   "source": [
    "chaos = [\"cat\", \"apple\", 2, \"orange\", 4, \"grape\", 3, \"banana\", 1,\n",
    "\"elephant\", \"dog\"]\n",
    "\n",
    "# chaos 리스트에서 [\"apple\", 2, \"orange\", 4, \"grape\", 3, \"banana\", 1] 리스트를 꺼내 변수 fruits에 저장하세요\n",
    "fruits = chaos[1:9] #chaos[1:-3]도 가능\n",
    "\n",
    "# 변수 fruits을 출력\n",
    "print(fruits)\n"
   ]
  },
  {
   "cell_type": "code",
   "execution_count": null,
   "metadata": {},
   "outputs": [],
   "source": []
  }
 ],
 "metadata": {
  "kernelspec": {
   "display_name": "Python 3",
   "language": "python",
   "name": "python3"
  },
  "language_info": {
   "codemirror_mode": {
    "name": "ipython",
    "version": 3
   },
   "file_extension": ".py",
   "mimetype": "text/x-python",
   "name": "python",
   "nbconvert_exporter": "python",
   "pygments_lexer": "ipython3",
   "version": "3.7.4"
  }
 },
 "nbformat": 4,
 "nbformat_minor": 2
}
