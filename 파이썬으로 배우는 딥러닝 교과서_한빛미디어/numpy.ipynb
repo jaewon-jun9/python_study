{
 "cells": [
  {
   "cell_type": "code",
   "execution_count": 1,
   "metadata": {},
   "outputs": [
    {
     "name": "stdout",
     "output_type": "stream",
     "text": [
      "파이썬의 기능만으로 계산한 결과：3.38[sec]\n",
      "NumPy를 사용한 경우의 계산 결과：0.04[sec]\n"
     ]
    }
   ],
   "source": [
    "# 필요한 라이브러리를 import합니다\n",
    "import numpy as np\n",
    "import time\n",
    "from numpy.random import rand\n",
    "\n",
    "# 행, 열의 크기\n",
    "N = 150\n",
    "\n",
    "# 행렬을 초기화합니다\n",
    "matA = np.array(rand(N, N))\n",
    "matB = np.array(rand(N, N))\n",
    "matC = np.array([[0] * N for _ in range(N)])\n",
    "\n",
    "# 파이썬의 리스트를 사용하여 계산합니다\n",
    "# 시작 시간을 저장합니다\n",
    "start = time.time()\n",
    "\n",
    "# for 문을 사용하여 행렬 곱셈을 실행합니다\n",
    "for i in range(N):\n",
    "    for j in range(N):\n",
    "        for k in range(N):\n",
    "            matC[i][j] = matA[i][k] * matB[k][j]\n",
    "\n",
    "print(\"파이썬의 기능만으로 계산한 결과：%.2f[sec]\" % float(time.time() -start))\n",
    "\n",
    "# NumPy를 사용하여 계산합니다\n",
    "# 시작 시간을 저장합니다 \n",
    "start = time.time()\n",
    "\n",
    "# NumPy를 사용하여 행렬 곱셈을 실행합니다\n",
    "matC = np.dot(matA, matB)\n",
    "\n",
    "# 소수점 이하 두 자리까지 표시되므로 NumPy는 0.00[sec]로 표시됩니다\n",
    "print(\"NumPy를 사용한 경우의 계산 결과：%.2f[sec]\" % float(time.time() - start))\n"
   ]
  },
  {
   "cell_type": "code",
   "execution_count": 2,
   "metadata": {},
   "outputs": [
    {
     "name": "stdout",
     "output_type": "stream",
     "text": [
      "[24, 3, 4, 23, 10, 12]\n",
      "<class 'numpy.ndarray'>\n"
     ]
    }
   ],
   "source": [
    "import numpy as np\n",
    "\n",
    "storages = [24, 3, 4, 23, 10, 12]\n",
    "print(storages)\n",
    "\n",
    "# ndarray 배열을 생성하고 변수 np_storages에 대입하세요\n",
    "np_storages = np.array(storages)\n",
    "\n",
    "# 변수 np_storages의 자료형을 출력하세요\n",
    "print(type(np_storages))"
   ]
  },
  {
   "cell_type": "code",
   "execution_count": 3,
   "metadata": {},
   "outputs": [
    {
     "name": "stdout",
     "output_type": "stream",
     "text": [
      "[2, 4, 6, 8]\n"
     ]
    }
   ],
   "source": [
    "# NumPy를 사용하지 않고 실행합니다\n",
    "storages = [1, 2, 3, 4]\n",
    "new_storages = []\n",
    "for n in storages:\n",
    "    n += n\n",
    "    new_storages.append(n)\n",
    "print(new_storages)\n"
   ]
  },
  {
   "cell_type": "code",
   "execution_count": 4,
   "metadata": {},
   "outputs": [
    {
     "name": "stdout",
     "output_type": "stream",
     "text": [
      "[2 4 6 8]\n"
     ]
    }
   ],
   "source": [
    "# NumPy를 사용하여 실행합니다\n",
    "import numpy as np\n",
    "storages = np.array([1, 2, 3, 4])\n",
    "storages += storages\n",
    "print(storages)\n"
   ]
  },
  {
   "cell_type": "code",
   "execution_count": 6,
   "metadata": {},
   "outputs": [
    {
     "name": "stdout",
     "output_type": "stream",
     "text": [
      "arr + arr\n",
      "[ 4 10  6  8 16]\n",
      "arr - arr\n",
      "[0 0 0 0 0]\n",
      "arr ** 3\n",
      "[  8 125  27  64 512]\n",
      "1 / arr\n",
      "[0.5        0.2        0.33333333 0.25       0.125     ]\n"
     ]
    }
   ],
   "source": [
    "import numpy as np\n",
    "\n",
    "arr = np.array([2, 5, 3, 4, 8])\n",
    "\n",
    "# arr + arr\n",
    "print('arr + arr')\n",
    "print(arr + arr)\n",
    "\n",
    "# arr - arr\n",
    "print('arr - arr')\n",
    "print(arr - arr)\n",
    "\n",
    "# arr ** 3\n",
    "print('arr ** 3')\n",
    "print(arr ** 3)\n",
    "\n",
    "# 1 / arr\n",
    "print('1 / arr')\n",
    "print(1 / arr)\n"
   ]
  },
  {
   "cell_type": "code",
   "execution_count": 7,
   "metadata": {},
   "outputs": [
    {
     "name": "stdout",
     "output_type": "stream",
     "text": [
      "[0 1 2 3 4 5 6 7 8 9]\n"
     ]
    }
   ],
   "source": [
    "arr = np.arange(10)\n",
    "print(arr)\n"
   ]
  },
  {
   "cell_type": "code",
   "execution_count": 8,
   "metadata": {},
   "outputs": [
    {
     "name": "stdout",
     "output_type": "stream",
     "text": [
      "[1 1 1 3 4 5 6 7 8 9]\n"
     ]
    }
   ],
   "source": [
    "arr = np.arange(10)\n",
    "arr[0:3] = 1\n",
    "print(arr)\n"
   ]
  },
  {
   "cell_type": "code",
   "execution_count": 9,
   "metadata": {},
   "outputs": [
    {
     "name": "stdout",
     "output_type": "stream",
     "text": [
      "[0 1 2 3 4 5 6 7 8 9]\n",
      "[3 4 5]\n",
      "[ 0  1  2 24 24 24  6  7  8  9]\n"
     ]
    }
   ],
   "source": [
    "import numpy as np\n",
    "\n",
    "arr = np.arange(10)\n",
    "print(arr)\n",
    "\n",
    "# 변수 arr의 요소 중 3,4,5 만 출력합니다\n",
    "print(arr[3:6])\n",
    "\n",
    "# 변수 arr의 요소 중 3,4,5을 24로 변경하십시오\n",
    "arr[3:6] = 24\n",
    "print(arr)\n"
   ]
  },
  {
   "cell_type": "code",
   "execution_count": 2,
   "metadata": {},
   "outputs": [
    {
     "name": "stdout",
     "output_type": "stream",
     "text": [
      "[1 2 3 4 5]\n",
      "[100   2   3   4   5]\n",
      "[1 2 3 4 5]\n",
      "[1 2 3 4 5]\n"
     ]
    }
   ],
   "source": [
    "import numpy as np\n",
    "\n",
    "# ndarray를 그대로 arr2 변수에 대입한 경우를 살펴봅시다\n",
    "arr1 = np.array([1, 2, 3, 4, 5])\n",
    "print(arr1)\n",
    "\n",
    "arr2 = arr1\n",
    "arr2[0] = 100\n",
    "\n",
    "# arr2 변수를 변경하면 원래 변수(arr1)도 영향을 받고 있습니다\n",
    "print(arr1)\n",
    "\n",
    "# ndarray를 copy()를 사용해 arr2 변수에 대입한 경우를 살펴봅시다\n",
    "arr1 = np.array([1, 2, 3, 4, 5])\n",
    "print(arr1)\n",
    "\n",
    "arr2 = arr1.copy()\n",
    "arr2[0] = 100\n",
    "\n",
    "# arr2 변수를 변경해도 원래 변수(arr1)에 영향을 주지 않습니다\n",
    "print(arr1)\n"
   ]
  },
  {
   "cell_type": "code",
   "execution_count": 3,
   "metadata": {},
   "outputs": [
    {
     "name": "stdout",
     "output_type": "stream",
     "text": [
      "리스트 형 데이터입니다\n",
      "arr_List : [0, 1, 2, 3, 4, 5, 6, 7, 8, 9]\n",
      "\n",
      "리스트의 슬라이스는 복사본이 생성되므로, arr_List에는 arr_List_copy의 변경점이 반영되지 않습니다.\n",
      "arr_List: [0, 1, 2, 3, 4, 5, 6, 7, 8, 9]\n",
      "\n",
      "NumPy의 ndarray 데이터입니다\n",
      "arr_NumPy: [0 1 2 3 4 5 6 7 8 9]\n",
      "\n",
      "NumPy의 슬라이스는 view(데이터가 저장된 위치의 정보)가 대입되므로, arr_NumPy_view를 변경하면 arr_NumPy에 반영됩니다\n",
      "arr_NumPy: [100   1   2   3   4   5   6   7   8   9]\n",
      "\n",
      "NumPy의 ndarray에서 copy()를 이용한 경우입니다\n",
      "arr_NumPy: [0 1 2 3 4 5 6 7 8 9]\n",
      "\n",
      "copy()를 사용하면 복사본이 생성되기 때문에 arr_NumPy_copy는 arr_NumPy에 영향을 미치지 않습니다\n",
      "arr_NumPy: [0 1 2 3 4 5 6 7 8 9]\n"
     ]
    }
   ],
   "source": [
    "import numpy as np\n",
    "\n",
    "# 파이썬의 리스트에 슬라이스를 이용한 경우를 확인합니다\n",
    "arr_List = [x for x in range(10)]\n",
    "print(\"리스트 형 데이터입니다\")\n",
    "print(\"arr_List :\", arr_List)\n",
    "\n",
    "print()\n",
    "arr_List_copy = arr_List[:]\n",
    "arr_List_copy[0] = 100\n",
    "\n",
    "print(\"리스트의 슬라이스는 복사본이 생성되므로, arr_List에는 arr_List_copy의 변경점이 반영되지 않습니다.\")\n",
    "print(\"arr_List:\",arr_List)\n",
    "print()\n",
    "\n",
    "# NumPy의 ndarray에 슬라이스를 이용한 경우를 확인합니다\n",
    "arr_NumPy = np.arange(10)\n",
    "print(\"NumPy의 ndarray 데이터입니다\")\n",
    "print(\"arr_NumPy:\",arr_NumPy)\n",
    "print()\n",
    "\n",
    "arr_NumPy_view = arr_NumPy[:]\n",
    "arr_NumPy_view[0] = 100\n",
    "\n",
    "print(\"NumPy의 슬라이스는 view(데이터가 저장된 위치의 정보)가 대입되므로, arr_NumPy_view를 변경하면 arr_NumPy에 반영됩니다\")\n",
    "print(\"arr_NumPy:\",arr_NumPy)\n",
    "print()\n",
    "\n",
    "# NumPy의 ndarray에서 copy()를 이용한 경우를 확인합니다\n",
    "arr_NumPy = np.arange(10)\n",
    "print(\"NumPy의 ndarray에서 copy()를 이용한 경우입니다\")\n",
    "print(\"arr_NumPy:\",arr_NumPy)\n",
    "print()\n",
    "arr_NumPy_copy = arr_NumPy[:].copy()\n",
    "arr_NumPy_copy[0] = 100\n",
    "\n",
    "print(\"copy()를 사용하면 복사본이 생성되기 때문에 arr_NumPy_copy는 arr_NumPy에 영향을 미치지 않습니다\")\n",
    "print(\"arr_NumPy:\",arr_NumPy)\n"
   ]
  },
  {
   "cell_type": "code",
   "execution_count": 13,
   "metadata": {},
   "outputs": [
    {
     "name": "stdout",
     "output_type": "stream",
     "text": [
      "[2 4 6]\n"
     ]
    }
   ],
   "source": [
    "arr = np.array([2, 4, 6, 7])\n",
    "print(arr[np.array([True, True, True, False])])\n"
   ]
  },
  {
   "cell_type": "code",
   "execution_count": 14,
   "metadata": {},
   "outputs": [
    {
     "name": "stdout",
     "output_type": "stream",
     "text": [
      "[4 7]\n"
     ]
    }
   ],
   "source": [
    "arr = np.array([2, 4, 6, 7])\n",
    "print(arr[arr % 3 == 1])"
   ]
  },
  {
   "cell_type": "code",
   "execution_count": 4,
   "metadata": {},
   "outputs": [
    {
     "name": "stdout",
     "output_type": "stream",
     "text": [
      "[ True False  True False  True False]\n",
      "[2 4 6]\n"
     ]
    }
   ],
   "source": [
    "import numpy as np\n",
    "\n",
    "arr = np.array([2, 3, 4, 5, 6, 7])\n",
    "\n",
    "# 변수 arr의 각 요소가 2로 나누어 떨어지는지를 나타내는 부울 배열을 출력하세요\n",
    "print(arr % 2 == 0)\n",
    "\n",
    "# 변수 arr의 각 요소 중에서 2로 나누어 떨어진 것의 배열을 출력하세요\n",
    "print(arr[arr % 2 == 0])\n"
   ]
  },
  {
   "cell_type": "code",
   "execution_count": 5,
   "metadata": {},
   "outputs": [
    {
     "name": "stdout",
     "output_type": "stream",
     "text": [
      "[ 4 -9 16 -4 20]\n",
      "[ 4  9 16  4 20]\n",
      "[5.45981500e+01 8.10308393e+03 8.88611052e+06 5.45981500e+01\n",
      " 4.85165195e+08]\n",
      "[2.         3.         4.         2.         4.47213595]\n"
     ]
    }
   ],
   "source": [
    "import numpy as np\n",
    "\n",
    "arr = np.array([4, -9, 16, -4, 20])\n",
    "print(arr)\n",
    "\n",
    "# 변수 arr의 각 요소를 절대값으로 하여 변수 arr_abs에 대입하세요\n",
    "arr_abs = np.abs(arr)\n",
    "print(arr_abs)\n",
    "\n",
    "# 변수 arr_abs의 각 요소의 e의 거듭제곱과 제곱근을 출력하세요\n",
    "print(np.exp(arr_abs))\n",
    "print(np.sqrt(arr_abs))\n"
   ]
  },
  {
   "cell_type": "code",
   "execution_count": 6,
   "metadata": {},
   "outputs": [
    {
     "name": "stdout",
     "output_type": "stream",
     "text": [
      "[2 5 7 9]\n",
      "[1 2 3 5 7 8 9]\n",
      "[2 5]\n",
      "[7 9]\n"
     ]
    }
   ],
   "source": [
    "import numpy as np\n",
    "\n",
    "arr1 = [2, 5, 7, 9, 5, 2]\n",
    "arr2 = [2, 5, 8, 3, 1]\n",
    "\n",
    "# np.unique() 함수를 사용하여 중복을 제거한 배열을 변수 new_arr1에 대입하세요\n",
    "new_arr1 = np.unique(arr1)\n",
    "print(new_arr1)\n",
    "\n",
    "# 변수 new_arr1과 변수 arr2의 합집합을 출력하세요\n",
    "print(np.union1d(new_arr1, arr2))\n",
    "\n",
    "# 변수 new_arr1과 변수 arr2의 교집합을 출력하세요\n",
    "print(np.intersect1d(new_arr1, arr2))\n",
    "\n",
    "# 변수 new_arr1에서 변수 arr2을 뺀 차집합을 출력하세요\n",
    "print(np.setdiff1d(new_arr1, arr2))\n"
   ]
  },
  {
   "cell_type": "code",
   "execution_count": 8,
   "metadata": {},
   "outputs": [
    {
     "name": "stdout",
     "output_type": "stream",
     "text": [
      "[[ 5  3]\n",
      " [ 5  5]\n",
      " [ 8  2]\n",
      " [ 7 10]\n",
      " [ 9  5]]\n",
      "[0.60964236 0.31380078 0.32564223]\n"
     ]
    }
   ],
   "source": [
    "import numpy as np\n",
    "\n",
    "# np.random을 적지 않아도 randint() 함수를 사용할 수 있도록 import 하세요 \n",
    "from numpy.random import randint\n",
    "\n",
    "# 변수 arr1에 각 요소가 0 이상 10 이하인 정수 행렬(5 × 2)를 대입하세요\n",
    "arr1 = randint(0, 11, (5, 2))\n",
    "print(arr1)\n",
    "\n",
    "# 변수 arr2에 0 이상 1 미만의 난수를 3개 생성해 대입하세요\n",
    "arr2 = np.random.rand(3)\n",
    "print(arr2)\n"
   ]
  },
  {
   "cell_type": "code",
   "execution_count": 9,
   "metadata": {},
   "outputs": [
    {
     "name": "stdout",
     "output_type": "stream",
     "text": [
      "[[1 2 3 4]\n",
      " [5 6 7 8]]\n",
      "(2, 4)\n",
      "[[1 2]\n",
      " [3 4]\n",
      " [5 6]\n",
      " [7 8]]\n"
     ]
    }
   ],
   "source": [
    "import numpy as np\n",
    "\n",
    "# 변수 arr에 2차원 배열을 대입하세요\n",
    "arr = np.array([[1, 2, 3, 4], [5, 6, 7, 8]])\n",
    "print(arr)\n",
    "\n",
    "# 변수 arr 행렬의 각 차원의 요소 수를 출력하세요\n",
    "print(arr.shape)\n",
    "\n",
    "# 변수 arr을 4행 2열의 행렬로 변환합니다\n",
    "print(arr.reshape(4, 2))\n"
   ]
  },
  {
   "cell_type": "code",
   "execution_count": 23,
   "metadata": {},
   "outputs": [
    {
     "name": "stdout",
     "output_type": "stream",
     "text": [
      "[4 5 6]\n"
     ]
    }
   ],
   "source": [
    "arr = np.array([[1, 2 ,3], [4, 5, 6]])\n",
    "print(arr[1])"
   ]
  },
  {
   "cell_type": "code",
   "execution_count": 24,
   "metadata": {},
   "outputs": [
    {
     "name": "stdout",
     "output_type": "stream",
     "text": [
      "6\n"
     ]
    }
   ],
   "source": [
    "arr = np.array([[1, 2 ,3], [4, 5, 6]])\n",
    "print(arr[1,2])"
   ]
  },
  {
   "cell_type": "code",
   "execution_count": 25,
   "metadata": {},
   "outputs": [
    {
     "name": "stdout",
     "output_type": "stream",
     "text": [
      "[5 6]\n"
     ]
    }
   ],
   "source": [
    "arr = np.array([[1, 2 ,3], [4, 5, 6]])\n",
    "print(arr[1,1:])"
   ]
  },
  {
   "cell_type": "code",
   "execution_count": 10,
   "metadata": {},
   "outputs": [
    {
     "name": "stdout",
     "output_type": "stream",
     "text": [
      "[[1 2 3]\n",
      " [4 5 6]\n",
      " [7 8 9]]\n",
      "3\n",
      "[[4 5]\n",
      " [7 8]]\n"
     ]
    }
   ],
   "source": [
    "import numpy as np\n",
    "\n",
    "arr = np.array([[1, 2, 3], [4, 5, 6], [7, 8, 9]])\n",
    "print(arr) \n",
    "\n",
    "# 변수 arr의 요소 중 3을 출력하세요\n",
    "print(arr[0, 2])\n",
    "\n",
    "# 변수 arr에서 부분적으로 꺼내어 출력하세요\n",
    "# \"1행 이후, 2열까지\"를 꺼냅니다\n",
    "print(arr[1:, :2])\n"
   ]
  },
  {
   "cell_type": "code",
   "execution_count": 27,
   "metadata": {},
   "outputs": [
    {
     "name": "stdout",
     "output_type": "stream",
     "text": [
      "21\n",
      "[5 7 9]\n",
      "[ 6 15]\n"
     ]
    }
   ],
   "source": [
    "arr = np.array([[1, 2 ,3], [4, 5, 6]])\n",
    "\n",
    "print(arr.sum())\n",
    "print(arr.sum(axis=0))\n",
    "print(arr.sum(axis=1))\n"
   ]
  },
  {
   "cell_type": "code",
   "execution_count": 11,
   "metadata": {},
   "outputs": [
    {
     "name": "stdout",
     "output_type": "stream",
     "text": [
      "[ 6 21 57]\n"
     ]
    }
   ],
   "source": [
    "import numpy as np\n",
    "\n",
    "arr = np.array([[1, 2, 3], [4, 5, 12], [15, 20, 22]])\n",
    "\n",
    "# arr 행의 합을 구하여 문제에서 제시한 1차원 배열을 반환하세요\n",
    "print(arr.sum(axis=1))\n"
   ]
  },
  {
   "cell_type": "code",
   "execution_count": 13,
   "metadata": {},
   "outputs": [
    {
     "name": "stdout",
     "output_type": "stream",
     "text": [
      "[[7 8]\n",
      " [5 6]\n",
      " [1 2]]\n"
     ]
    }
   ],
   "source": [
    "arr = np.array([[1, 2], [3, 4], [5, 6], [7, 8]])\n",
    "\n",
    "# 3행, 2행, 0행을 순서대로 추출하여 새로운 요소를 만듭니다\n",
    "# 인덱스 번호는 0부터 시작합니다\n",
    "print(arr[[3, 2, 0]])\n"
   ]
  },
  {
   "cell_type": "code",
   "execution_count": 14,
   "metadata": {},
   "outputs": [
    {
     "name": "stdout",
     "output_type": "stream",
     "text": [
      "[[ 5  6  7  8  9]\n",
      " [15 16 17 18 19]\n",
      " [ 0  1  2  3  4]]\n"
     ]
    }
   ],
   "source": [
    "import numpy as np\n",
    "\n",
    "arr = np.arange(25).reshape(5, 5)\n",
    "\n",
    "# 변수 arr의 행의 순서를 변경하여 출력하세요\n",
    "print(arr[[1, 3, 0]])\n"
   ]
  },
  {
   "cell_type": "code",
   "execution_count": 15,
   "metadata": {},
   "outputs": [
    {
     "name": "stdout",
     "output_type": "stream",
     "text": [
      "[[0 5]\n",
      " [1 6]\n",
      " [2 7]\n",
      " [3 8]\n",
      " [4 9]]\n"
     ]
    }
   ],
   "source": [
    "import numpy as np\n",
    "\n",
    "arr = np.arange(10).reshape(2, 5)\n",
    "\n",
    "# 변수 arr을 전치하세요\n",
    "print(arr.T) # print(np.transpose(arr))"
   ]
  },
  {
   "cell_type": "code",
   "execution_count": 32,
   "metadata": {},
   "outputs": [
    {
     "data": {
      "text/plain": [
       "array([2, 0, 1], dtype=int64)"
      ]
     },
     "execution_count": 32,
     "metadata": {},
     "output_type": "execute_result"
    }
   ],
   "source": [
    "arr = np.array([15, 30, 5])\n",
    "arr.argsort()"
   ]
  },
  {
   "cell_type": "code",
   "execution_count": 16,
   "metadata": {},
   "outputs": [
    {
     "name": "stdout",
     "output_type": "stream",
     "text": [
      "[[2 1 0]\n",
      " [2 0 1]]\n",
      "[[2 4 8]\n",
      " [1 3 5]]\n",
      "[[2 4 8]\n",
      " [1 3 5]]\n"
     ]
    }
   ],
   "source": [
    "import numpy as np\n",
    "\n",
    "arr = np.array([[8, 4, 2], [3, 5, 1]])\n",
    "\n",
    "# argsort() 메서드로 출력하세요\n",
    "print(arr.argsort())\n",
    "\n",
    "# np.sort() 함수로 정렬하여 출력하세요\n",
    "print(np.sort(arr))\n",
    "\n",
    "# sort() 메서드로 행을 정렬하세요\n",
    "arr.sort(1)\n",
    "print(arr)\n"
   ]
  },
  {
   "cell_type": "code",
   "execution_count": 17,
   "metadata": {},
   "outputs": [
    {
     "name": "stdout",
     "output_type": "stream",
     "text": [
      "[[ 15  18  21]\n",
      " [ 42  54  66]\n",
      " [ 69  90 111]]\n",
      "14.2828568570857\n"
     ]
    }
   ],
   "source": [
    "import numpy as np\n",
    "\n",
    "# arr을 정의합니다\n",
    "arr = np.arange(9).reshape(3, 3)\n",
    "\n",
    "# 변수 arr와 arr의 행렬곱을 출력하세요\n",
    "print(np.dot(arr, arr))\n",
    "\n",
    "# vec를 정의합니다\n",
    "vec = arr.reshape(9)\n",
    "\n",
    "# 변수 vec의 노름을 출력하세요\n",
    "print(np.linalg.norm(vec))\n"
   ]
  },
  {
   "cell_type": "code",
   "execution_count": 18,
   "metadata": {},
   "outputs": [
    {
     "name": "stdout",
     "output_type": "stream",
     "text": [
      "[5. 6. 7. 8. 9.]\n",
      "[10 35 60]\n",
      "0\n",
      "[2 2 2 2 2]\n"
     ]
    }
   ],
   "source": [
    "import numpy as np\n",
    "\n",
    "arr = np.arange(15).reshape(3, 5)\n",
    "\n",
    "# 변수 arr의 각 열의 평균을 출력하세요\n",
    "print(arr.mean(axis=0))\n",
    "\n",
    "# 변수 arr의 행 합계를 출력하세요\n",
    "print(arr.sum(axis=1))\n",
    "\n",
    "# 변수 arr의 최소값을 출력하세요\n",
    "print(arr.min())\n",
    "\n",
    "# 변수 arr의 각 열의 최대값의 인덱스 번호를 출력하세요\n",
    "print(arr.argmax(axis=0))\n"
   ]
  },
  {
   "cell_type": "code",
   "execution_count": 36,
   "metadata": {},
   "outputs": [
    {
     "name": "stdout",
     "output_type": "stream",
     "text": [
      "[[1 2 3]\n",
      " [4 5 6]]\n"
     ]
    }
   ],
   "source": [
    "x = np.arange(6).reshape(2, 3)\n",
    "print(x + 1)"
   ]
  },
  {
   "cell_type": "code",
   "execution_count": 2,
   "metadata": {
    "scrolled": true
   },
   "outputs": [
    {
     "name": "stdout",
     "output_type": "stream",
     "text": [
      "x:\n",
      "[[ 0  1  2  3  4]\n",
      " [ 5  6  7  8  9]\n",
      " [10 11 12 13 14]]\n",
      "y:\n",
      "[[0 1 2 3 4]]\n",
      "z:\n",
      "[[ 0  0  0  0  0]\n",
      " [ 5  5  5  5  5]\n",
      " [10 10 10 10 10]]\n"
     ]
    }
   ],
   "source": [
    "import numpy as np\n",
    "\n",
    "# 0에서 14 사이의 정수값을 갖는 3 × 5의 ndarray 배열 x를 생성합니다\n",
    "x = np.arange(15).reshape(3, 5)\n",
    "print(\"x:\")\n",
    "print(x)\n",
    "\n",
    "# 0에서 4 사이의 정수값을 갖는 1 × 5의 ndarray 배열 y를 생성합니다\n",
    "y = np.array([np.arange(5)])\n",
    "print(\"y:\")\n",
    "print(y)\n",
    "\n",
    "# x의 n번째 열의 모든 행에서 n만 빼세요\n",
    "z = x - y\n",
    "\n",
    "# x를 출력\n",
    "print(\"z:\")\n",
    "print(z)\n"
   ]
  },
  {
   "cell_type": "code",
   "execution_count": 20,
   "metadata": {},
   "outputs": [
    {
     "name": "stdout",
     "output_type": "stream",
     "text": [
      "[[ 8 24  3]\n",
      " [ 7 23 15]\n",
      " [16 10 30]\n",
      " [20  2 21]\n",
      " [ 2  2 14]]\n",
      "[[ 8  7 16 20  2]\n",
      " [24 23 10  2  2]\n",
      " [ 3 15 30 21 14]]\n",
      "[[ 7 16 20]\n",
      " [23 10  2]\n",
      " [15 30 21]]\n",
      "[[ 7 10  2]\n",
      " [15 16 20]\n",
      " [23 30 21]]\n",
      "[15.         18.66666667 14.33333333]\n"
     ]
    }
   ],
   "source": [
    "import numpy as np\n",
    "\n",
    "np.random.seed(100)\n",
    "\n",
    "# 각 요소가 0 ~ 30인 정수 행렬(5 × 3)을 변수 arr에 대입하세요\n",
    "arr = np.random.randint(0, 31, (5, 3))\n",
    "print(arr)\n",
    "\n",
    "# 변수 arr을 전치하세요\n",
    "arr = arr.T\n",
    "print(arr)\n",
    "\n",
    "# 변수 arr의 2, 3, 4열만 추출한 행렬(3 × 3)을 변수 arr1에 대입하세요\n",
    "arr1 = arr[:, 1:4]\n",
    "print(arr1)\n",
    "\n",
    "# 변수 arr1의 행을 정렬하세요\n",
    "arr1.sort(0)\n",
    "print(arr1)\n",
    "\n",
    "# 각 열의 평균을 출력하세요\n",
    "print(arr1.mean(axis = 0))"
   ]
  },
  {
   "cell_type": "code",
   "execution_count": 25,
   "metadata": {
    "scrolled": true
   },
   "outputs": [
    {
     "name": "stdout",
     "output_type": "stream",
     "text": [
      "[[4 5 0]\n",
      " [3 3 3]\n",
      " [1 3 5]]\n",
      "\n",
      "[[4 5 0]\n",
      " [3 3 3]\n",
      " [0 5 5]]\n",
      "\n",
      "[[ 0  0  0]\n",
      " [ 0  0  0]\n",
      " [-1  2  0]]\n",
      "\n",
      "[[0 0 0]\n",
      " [0 0 0]\n",
      " [1 2 0]]\n"
     ]
    }
   ],
   "source": [
    "import numpy as np\n",
    "\n",
    "# 난수를 초기화합니다\n",
    "np.random.seed(0)\n",
    "\n",
    "# 가로세로 크기를 전달하면 해당 크기의 이미지를 난수로 채워 생성하는 함수입니다\n",
    "def make_image(m, n) :\n",
    "\n",
    "    # n × m 행렬의 각 성분을 0~5의 난수로 채웁니다\n",
    "    image = np.random.randint(0, 6, (m, n)) \n",
    "    return image\n",
    "\n",
    "# 전달된 행렬의 일부를 변경하는 함수입니다\n",
    "def change_little(matrix) :\n",
    "    # 전달받은 행렬의 형태(크기)를 취득하여 shape에 대입하세요\n",
    "    shape = matrix.shape\n",
    "    # 행렬의 각 성분에 대해, 변경 여부를 무작위로 결정한 다음\n",
    "    # 변경할 때는 0-5 사이의 정수로 임의로 교체하세요\n",
    "    for i in range(shape[0]):\n",
    "        for j in range(shape[1]):\n",
    "            if np.random.randint(0, 2)==1:\n",
    "                matrix[i][j] = np.random.randint(0, 6, 1)\n",
    "    return matrix\n",
    "\n",
    "# 임의의 이미지를 만듭니다\n",
    "image1 = make_image(3, 3)\n",
    "print(image1)\n",
    "print()\n",
    "\n",
    "# 임의의 변경 사항을 적용합니다\n",
    "image2 = change_little(np.copy(image1))\n",
    "print(image2)\n",
    "print()\n",
    "\n",
    "# image1과 image2의 차이를 계산하여 image3에 대입하세요\n",
    "image3 = image2 - image1\n",
    "print(image3)\n",
    "print()\n",
    "\n",
    "# image3의 각 성분을 절대값으로 한 행렬을 image3에 다시 대입하세요\n",
    "image3 = np.abs(image3)\n",
    "\n",
    "# image3을 출력합니다\n",
    "print(image3)\n"
   ]
  },
  {
   "cell_type": "code",
   "execution_count": null,
   "metadata": {},
   "outputs": [],
   "source": []
  }
 ],
 "metadata": {
  "kernelspec": {
   "display_name": "Python 3",
   "language": "python",
   "name": "python3"
  },
  "language_info": {
   "codemirror_mode": {
    "name": "ipython",
    "version": 3
   },
   "file_extension": ".py",
   "mimetype": "text/x-python",
   "name": "python",
   "nbconvert_exporter": "python",
   "pygments_lexer": "ipython3",
   "version": "3.6.9"
  }
 },
 "nbformat": 4,
 "nbformat_minor": 2
}
