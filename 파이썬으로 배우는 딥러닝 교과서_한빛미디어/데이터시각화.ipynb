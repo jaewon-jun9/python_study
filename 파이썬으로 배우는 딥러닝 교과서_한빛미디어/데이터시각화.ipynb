{
 "cells": [
  {
   "cell_type": "code",
   "execution_count": 1,
   "metadata": {},
   "outputs": [
    {
     "name": "stdout",
     "output_type": "stream",
     "text": [
      "시드를 설정하지 않았을 때\n",
      "X: [ 0.9665468   1.81779814  0.73265127 -0.16389835  0.23628081]\n",
      "Y: [ 1.34997768  0.09070688 -0.66339043 -0.47468593  1.13844684]\n",
      "시드를 설정했을 때\n",
      "x: [1.76405235 0.40015721 0.97873798 2.2408932  1.86755799]\n",
      "y: [1.76405235 0.40015721 0.97873798 2.2408932  1.86755799]\n"
     ]
    }
   ],
   "source": [
    "import numpy as np\n",
    "\n",
    "# 시드를 설정하지 않았을 때 난수가 일치하는지 확인합니다\n",
    "# X, Y에 각각 다섯 개의 난수를 저장합니다\n",
    "X = np.random.randn(5)\n",
    "Y = np.random.randn(5)\n",
    "\n",
    "# X, Y 값을 출력합니다\n",
    "print(\"시드를 설정하지 않았을 때\")\n",
    "print(\"X:\",X)\n",
    "print(\"Y:\",Y)\n",
    "\n",
    "# 시드를 설정합니다\n",
    "np.random.seed(0)\n",
    "\n",
    "# 난수열을 변수에 대입합니다\n",
    "x = np.random.randn(5)\n",
    "\n",
    "# 동일한 시드를 설정하여 초기화합니다\n",
    "np.random.seed(0)\n",
    "\n",
    "# 다시 난수열을 만들여 다른 변수에 대입합니다\n",
    "y = np.random.randn(5)\n",
    "\n",
    "# x, y의 값이 일치하는지 확인합니다\n",
    "print(\"시드를 설정했을 때\")\n",
    "print(\"x:\",x)\n",
    "print(\"y:\",y)\n"
   ]
  },
  {
   "cell_type": "code",
   "execution_count": 2,
   "metadata": {},
   "outputs": [
    {
     "data": {
      "image/png": "[encoded data removed]",
      "text/plain": [
       "<Figure size 432x288 with 1 Axes>"
      ]
     },
     "metadata": {
      "needs_background": "light"
     },
     "output_type": "display_data"
    }
   ],
   "source": [
    "import numpy as np\n",
    "import matplotlib.pyplot as plt\n",
    "%matplotlib inline\n",
    "\n",
    "# 시드값을 0으로 설정하세요\n",
    "np.random.seed(0)\n",
    "\n",
    "# 정규 분포를 따르는 난수를 10,000개 생성하여 변수 x에 대입하세요\n",
    "x = np.random.randn(10000)\n",
    "\n",
    "# 시각화합니다\n",
    "plt.hist(x, bins='auto')\n",
    "plt.show()\n"
   ]
  },
  {
   "cell_type": "code",
   "execution_count": 3,
   "metadata": {},
   "outputs": [
    {
     "name": "stdout",
     "output_type": "stream",
     "text": [
      "0.49832\n"
     ]
    }
   ],
   "source": [
    "import numpy as np\n",
    "\n",
    "# 시드를 설정합니다\n",
    "np.random.seed(0)\n",
    "\n",
    "# 성공 확률 0.5로 100번 시도했을 때, 성공한 횟수를 구하는 실험을 10,000회 반복하여 변수 nums에 대입하세요\n",
    "nums = np.random.binomial(100, 0.5, size=10000)\n",
    "\n",
    "# nums의 성공 횟수에서 평균을 출력하세요\n",
    "print(nums.mean()/100)\n"
   ]
  },
  {
   "cell_type": "code",
   "execution_count": 4,
   "metadata": {},
   "outputs": [
    {
     "name": "stdout",
     "output_type": "stream",
     "text": [
      "['Kiwifruit' 'Strawberry' 'Apple' 'Pineapple' 'Pineapple']\n"
     ]
    }
   ],
   "source": [
    "import numpy as np\n",
    "\n",
    "x = ['Apple', 'Orange', 'Banana', 'Pineapple', 'Kiwifruit', 'Strawberry']\n",
    "\n",
    "# 시드를 설정합니다\n",
    "np.random.seed(0)\n",
    "\n",
    "# x 중에서 무작위로 5개 선택하여 y에 대입합니다\n",
    "y = np.random.choice(x, 5)\n",
    "\n",
    "print(y)\n"
   ]
  },
  {
   "cell_type": "code",
   "execution_count": 5,
   "metadata": {},
   "outputs": [
    {
     "name": "stdout",
     "output_type": "stream",
     "text": [
      "1992-10-22 00:00:00\n"
     ]
    }
   ],
   "source": [
    "import datetime as dt\n",
    "\n",
    "# 1992년 10월 22일을 나타내는 datetime 오브젝트를 생성하여 x에 할당하세요\n",
    "x = dt.datetime(1992, 10, 22)\n",
    "\n",
    "# 출력합니다\n",
    "print(x)\n"
   ]
  },
  {
   "cell_type": "code",
   "execution_count": 6,
   "metadata": {},
   "outputs": [
    {
     "name": "stdout",
     "output_type": "stream",
     "text": [
      "1:30:00\n"
     ]
    }
   ],
   "source": [
    "import datetime as dt\n",
    "\n",
    "# 한 시간 반을 나타내는 timedelta 개체를 만들어 x에 대입하세요\n",
    "x = dt.timedelta(hours=1, minutes=30)\n",
    "\n",
    "# 출력합니다\n",
    "print(x)\n"
   ]
  },
  {
   "cell_type": "code",
   "execution_count": 7,
   "metadata": {},
   "outputs": [
    {
     "name": "stdout",
     "output_type": "stream",
     "text": [
      "1992-10-23 00:00:00\n"
     ]
    }
   ],
   "source": [
    "import datetime as dt\n",
    "\n",
    "# 1992년 10월 22일을 나타내는 datetime 오브젝트를 생성하여 x에 할당하세요\n",
    "x = dt.datetime(1992, 10, 22)\n",
    "\n",
    "# x에서 1일 후를 나타내는 datetime 오브젝트를 y에 대입하세요\n",
    "y = x + dt.timedelta(1)\n",
    "\n",
    "# 출력합니다\n",
    "print(y)\n"
   ]
  },
  {
   "cell_type": "code",
   "execution_count": 8,
   "metadata": {},
   "outputs": [
    {
     "name": "stdout",
     "output_type": "stream",
     "text": [
      "1992-10-22 00:00:00\n"
     ]
    }
   ],
   "source": [
    "import datetime as dt\n",
    "\n",
    "# 1992년 10월 22일을 나타내는 문자열을 \"년-월-일\" 형식으로 s에 대입하세요 \n",
    "s = \"1992-10-22\"\n",
    "\n",
    "# s를 변환하여 1992년 10월 22일을 나타내는 datetime 오브젝트를 x에 할당하세요\n",
    "x = dt.datetime.strptime(s, \"%Y-%m-%d\")\n",
    "\n",
    "# 출력합니다\n",
    "print(x)\n"
   ]
  },
  {
   "cell_type": "code",
   "execution_count": 9,
   "metadata": {},
   "outputs": [
    {
     "name": "stdout",
     "output_type": "stream",
     "text": [
      "80\n"
     ]
    }
   ],
   "source": [
    "# 문자열을 대입합니다\n",
    "x = '64'\n",
    "y = '16'\n",
    "\n",
    "# x, y를 int()를 사용하여 변환하고, x,y의 합을 z에 대입합니다\n",
    "z = int(x) + int(y)\n",
    "\n",
    "# z를 출력합니다\n",
    "print(z)\n"
   ]
  },
  {
   "cell_type": "code",
   "execution_count": 10,
   "metadata": {},
   "outputs": [
    {
     "name": "stdout",
     "output_type": "stream",
     "text": [
      "[ 0  2  4  6  8 10]\n"
     ]
    }
   ],
   "source": [
    "import numpy as np\n",
    "\n",
    "# x에 0부터 10까지의 짝수열을 대입하세요\n",
    "x = np.arange(0, 11, 2)\n",
    "\n",
    "# 출력합니다\n",
    "print(x)\n"
   ]
  },
  {
   "cell_type": "code",
   "execution_count": 11,
   "metadata": {},
   "outputs": [
    {
     "name": "stdout",
     "output_type": "stream",
     "text": [
      "[ 0.   2.5  5.   7.5 10. ]\n"
     ]
    }
   ],
   "source": [
    "import numpy as np\n",
    "\n",
    "# 0에서 10까지 5항목을 동일한 간격으로 나누어 x에 대입하세요\n",
    "x = np.linspace(0, 10, 5)\n",
    "\n",
    "# 출력합니다\n",
    "print(x)\n"
   ]
  },
  {
   "cell_type": "code",
   "execution_count": 12,
   "metadata": {},
   "outputs": [
    {
     "data": {
      "image/png": "[encoded data removed]",
      "text/plain": [
       "<Figure size 360x360 with 1 Axes>"
      ]
     },
     "metadata": {
      "needs_background": "light"
     },
     "output_type": "display_data"
    },
    {
     "data": {
      "image/png": "[encoded data removed]",
      "text/plain": [
       "<Figure size 360x360 with 1 Axes>"
      ]
     },
     "metadata": {
      "needs_background": "light"
     },
     "output_type": "display_data"
    },
    {
     "data": {
      "image/png": "[encoded data removed]",
      "text/plain": [
       "<Figure size 360x360 with 1 Axes>"
      ]
     },
     "metadata": {
      "needs_background": "light"
     },
     "output_type": "display_data"
    }
   ],
   "source": [
    "import matplotlib.pyplot as plt\n",
    "import numpy as np\n",
    "\n",
    "np.random.seed(100)\n",
    "\n",
    "# 균일 난수를 10,000개 생성하여 random_number_1에 대입하세요\n",
    "random_number_1 = np.random.rand(10000)\n",
    "\n",
    "# 정규 분포를 따르는 난수를 10,000개 생성하여 random_number_2에 대입하세요\n",
    "random_number_2 = np.random.randn(10000)\n",
    "\n",
    "# 이항 분포를 따르는 난수를 10,000개 생성하여 random_number_3에 대입하세요. 성공 확률은 0.5로 하세요\n",
    "random_number_3 = np.random.binomial(100, 0.5, size=(10000))\n",
    "\n",
    "plt.figure(figsize=(5,5))\n",
    "\n",
    "# 균일 난수를 히스토그램으로 표시합니다. bins는 50을 지정하세요\n",
    "plt.hist(random_number_1, bins=50)\n",
    "\n",
    "plt.title('uniform_distribution')\n",
    "plt.grid(True)\n",
    "plt.show()\n",
    "\n",
    "plt.figure(figsize=(5,5))\n",
    "\n",
    "# 정규 분포를 따르는 난수를 히스토그램으로 표시합니다. bins는 50을 지정하세요 \n",
    "plt.hist(random_number_2, bins=50)\n",
    "\n",
    "plt.title('normal_distribution')\n",
    "plt.grid(True)\n",
    "plt.show()\n",
    "\n",
    "plt.figure(figsize=(5,5))\n",
    "\n",
    "# 이항 분포를 따르는 난수를 히스토그램으로 표시합니다. bins는 50을 지정하세요\n",
    "plt.hist(random_number_3, bins=50)\n",
    "\n",
    "plt.title('binomial_distribution')\n",
    "plt.grid(True)\n",
    "plt.show()\n"
   ]
  },
  {
   "cell_type": "code",
   "execution_count": null,
   "metadata": {},
   "outputs": [],
   "source": []
  }
 ],
 "metadata": {
  "kernelspec": {
   "display_name": "Python 3",
   "language": "python",
   "name": "python3"
  },
  "language_info": {
   "codemirror_mode": {
    "name": "ipython",
    "version": 3
   },
   "file_extension": ".py",
   "mimetype": "text/x-python",
   "name": "python",
   "nbconvert_exporter": "python",
   "pygments_lexer": "ipython3",
   "version": "3.7.6"
  }
 },
 "nbformat": 4,
 "nbformat_minor": 2
}
